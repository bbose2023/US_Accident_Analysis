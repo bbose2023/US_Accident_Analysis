{
 "cells": [
  {
   "cell_type": "code",
   "execution_count": 1,
   "id": "27a62d75-e98b-40be-a107-cb0f14be26ff",
   "metadata": {},
   "outputs": [],
   "source": [
    "from pymongo import MongoClient"
   ]
  },
  {
   "cell_type": "code",
   "execution_count": 2,
   "id": "b0c06070-baa6-4ab4-bd26-10a2c33bb9f7",
   "metadata": {},
   "outputs": [],
   "source": [
    "# Create an instance of MongoClient\n",
    "mongo = MongoClient(port=27017)"
   ]
  },
  {
   "cell_type": "code",
   "execution_count": 3,
   "id": "9775f974-33e8-4d53-b0e9-b349796f42f4",
   "metadata": {},
   "outputs": [
    {
     "name": "stdout",
     "output_type": "stream",
     "text": [
      "['admin', 'autosaurus', 'classDB', 'config', 'crowdfunding_db', 'epa', 'fruits_db', 'gardenDB', 'local', 'met', 'petsitly_marketing', 'travel_db', 'uk_food', 'us_accidents_db']\n"
     ]
    }
   ],
   "source": [
    "# confirm that our new database was created\n",
    "print(mongo.list_database_names())"
   ]
  },
  {
   "cell_type": "code",
   "execution_count": 4,
   "id": "438b88ce-7af6-4de4-8eec-d4fd7e9b52d9",
   "metadata": {},
   "outputs": [],
   "source": [
    "# assign the us_accidents_db database to a variable name\n",
    "db = mongo['us_accidents_db']"
   ]
  },
  {
   "cell_type": "code",
   "execution_count": 5,
   "id": "7ab7a358-e980-479d-a33d-eb77409618fb",
   "metadata": {},
   "outputs": [
    {
     "name": "stdout",
     "output_type": "stream",
     "text": [
      "['us_accident', 'us_weather', 'us_person', 'us_drug', 'us_race', 'us_vehicle', 'us_Vision']\n"
     ]
    }
   ],
   "source": [
    "# List the names of the collections in the database.\n",
    "# Be sure to use the variable name you assigned to your database to do this.\n",
    "print(db.list_collection_names())"
   ]
  },
  {
   "cell_type": "code",
   "execution_count": 6,
   "id": "7f680b0e-4803-4599-ba4e-c9c813c1c2e7",
   "metadata": {},
   "outputs": [],
   "source": [
    "# assign the collection to a variable\n",
    "us_person = db['us_weather']"
   ]
  },
  {
   "cell_type": "code",
   "execution_count": 7,
   "id": "e279f73f-0888-45f9-bb52-e5b06baf6b77",
   "metadata": {},
   "outputs": [
    {
     "name": "stdout",
     "output_type": "stream",
     "text": [
      "Number of documents in persons collection: 149623\n"
     ]
    }
   ],
   "source": [
    "# Check the number of documents in the persons collection\n",
    "person_count = db.us_weather.count_documents({})\n",
    "print(f\"Number of documents in persons collection: {person_count}\")"
   ]
  },
  {
   "cell_type": "code",
   "execution_count": 8,
   "id": "df4d2926-f427-46d8-a35c-f1c8466c1be1",
   "metadata": {},
   "outputs": [
    {
     "name": "stdout",
     "output_type": "stream",
     "text": [
      "Sample from persons collection:\n",
      "{'_id': ObjectId('670870b8bf24fec0253bbb84'), 'ST_CASE': 10001, 'WEATHERNAME': 'Clear', 'YEAR': 2019}\n"
     ]
    }
   ],
   "source": [
    "# Check sample documents from each collection\n",
    "print(\"Sample from persons collection:\")\n",
    "print(db.us_weather.find_one())  # Find one document from the persons collection"
   ]
  },
  {
   "cell_type": "code",
   "execution_count": 14,
   "id": "4f1e93b7-95b6-4da1-a37d-0489717ad997",
   "metadata": {},
   "outputs": [],
   "source": [
    "# Run a simpler query to fetch documents\n",
    "cursor = db.persons.find().limit(5)  # Fetch only 5 documents for quick inspection\n",
    "for doc in cursor:\n",
    "    print(doc)"
   ]
  },
  {
   "cell_type": "code",
   "execution_count": 9,
   "id": "bc573b07-8eeb-4cc8-904f-bd4d0e13dd3b",
   "metadata": {},
   "outputs": [],
   "source": [
    "\n",
    "# Perform the aggregation query\n",
    "pipeline = [\n",
    "    {\n",
    "        \"$lookup\": {\n",
    "            \"from\": \"us_accident\",           # Name of the accidents collection\n",
    "            \"localField\": \"ST_CASE\",        # Field in persons collection\n",
    "            \"foreignField\": \"ST_CASE\",      # Field in accidents collection\n",
    "            \"as\": \"accident_info\"\n",
    "        }\n",
    "    },\n",
    "    {\n",
    "        \"$unwind\": \"$accident_info\"         # Unwind the array resulting from lookup\n",
    "    },\n",
    "    {\n",
    "        \"$group\": {\n",
    "            \"_id\": {\n",
    "                \"year\": \"$accident_info.YEAR\",   # Group by YEAR from the accident_info\n",
    "                \"gender\": \"$SEXNAME\"             # Group by gender (SEXNAME)\n",
    "            },\n",
    "            \"count\": { \"$sum\": 1 }               # Count number of persons per year and gender\n",
    "        }\n",
    "    },\n",
    "    {\n",
    "        \"$sort\": { \"_id.year\": 1, \"_id.gender\": 1 }   # Sort by year and gender\n",
    "    }\n",
    "]\n"
   ]
  },
  {
   "cell_type": "code",
   "execution_count": null,
   "id": "23ee18a8-3fa7-4037-ad85-670ac7bcd509",
   "metadata": {},
   "outputs": [],
   "source": [
    "# Simple lookup to check if join is working correctly\n",
    "pipeline_test = [\n",
    "    {\n",
    "        \"$lookup\": {\n",
    "            \"from\": \"us_accident\",\n",
    "            \"localField\": \"ST_CASE\",\n",
    "            \"foreignField\": \"ST_CASE\",\n",
    "            \"as\": \"accident_info\"\n",
    "        }\n",
    "    },\n",
    "    {\n",
    "        \"$unwind\": \"$accident_info\"  # Unwind to flatten the accident_info array\n",
    "    },\n",
    "    {\n",
    "        \"$limit\": 5  # Limit to 5 results for testing\n",
    "    }\n",
    "]\n",
    "\n",
    "# Execute the pipeline and print the results\n",
    "test_result = db.us_person.aggregate(pipeline_test)\n",
    "for doc in test_result:\n",
    "    print(doc)\n"
   ]
  },
  {
   "cell_type": "code",
   "execution_count": 24,
   "id": "f86b8099-5f8a-4511-8bb5-7ea7c1faf879",
   "metadata": {},
   "outputs": [],
   "source": [
    "import pandas as pd\n",
    "\n",
    "\n",
    "# Query to find weather by year\n",
    "cursor = db.us_weather.find(\n",
    "    {\"YEAR\": {\"$exists\": True}, \"WEATHERNAME\": {\"$exists\": True}},  # Ensures both YEAR and WEATHERNAME exist\n",
    "    {\"YEAR\": 1, \"WEATHERNAME\": 1, \"_id\": 0}  # Project only YEAR and WEATHERNAME fields\n",
    ")\n"
   ]
  },
  {
   "cell_type": "code",
   "execution_count": 25,
   "id": "2f11f4c7-8da0-499b-9f40-473063c67bd8",
   "metadata": {},
   "outputs": [],
   "source": [
    "# Convert the cursor to a list of dictionaries\n",
    "data = list(cursor)"
   ]
  },
  {
   "cell_type": "code",
   "execution_count": 26,
   "id": "3e3b1439-c08a-4007-9bbf-b49434b40389",
   "metadata": {},
   "outputs": [],
   "source": [
    "# Convert the list of dictionaries to a Pandas DataFrame\n",
    "df = pd.DataFrame(data)"
   ]
  },
  {
   "cell_type": "code",
   "execution_count": 27,
   "id": "defdfd4d-1f99-463d-9219-c9c2a952cf9a",
   "metadata": {},
   "outputs": [
    {
     "data": {
      "text/html": [
       "<div>\n",
       "<style scoped>\n",
       "    .dataframe tbody tr th:only-of-type {\n",
       "        vertical-align: middle;\n",
       "    }\n",
       "\n",
       "    .dataframe tbody tr th {\n",
       "        vertical-align: top;\n",
       "    }\n",
       "\n",
       "    .dataframe thead th {\n",
       "        text-align: right;\n",
       "    }\n",
       "</style>\n",
       "<table border=\"1\" class=\"dataframe\">\n",
       "  <thead>\n",
       "    <tr style=\"text-align: right;\">\n",
       "      <th></th>\n",
       "    </tr>\n",
       "  </thead>\n",
       "  <tbody>\n",
       "  </tbody>\n",
       "</table>\n",
       "</div>"
      ],
      "text/plain": [
       "Empty DataFrame\n",
       "Columns: []\n",
       "Index: []"
      ]
     },
     "execution_count": 27,
     "metadata": {},
     "output_type": "execute_result"
    }
   ],
   "source": [
    "# Display the DataFrame\n",
    "df.tail()"
   ]
  },
  {
   "cell_type": "code",
   "execution_count": null,
   "id": "66fc11cf-8c72-4b2b-8e92-6d10bfd193ed",
   "metadata": {},
   "outputs": [],
   "source": []
  }
 ],
 "metadata": {
  "kernelspec": {
   "display_name": "Python 3 (ipykernel)",
   "language": "python",
   "name": "python3"
  },
  "language_info": {
   "codemirror_mode": {
    "name": "ipython",
    "version": 3
   },
   "file_extension": ".py",
   "mimetype": "text/x-python",
   "name": "python",
   "nbconvert_exporter": "python",
   "pygments_lexer": "ipython3",
   "version": "3.10.14"
  }
 },
 "nbformat": 4,
 "nbformat_minor": 5
}
