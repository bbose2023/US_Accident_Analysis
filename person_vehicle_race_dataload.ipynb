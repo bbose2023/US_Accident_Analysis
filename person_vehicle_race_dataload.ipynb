{
 "cells": [
  {
   "cell_type": "code",
   "execution_count": 1,
   "id": "2a3eb9c7-e42c-4eb4-8f6c-6a9003402fc6",
   "metadata": {},
   "outputs": [],
   "source": [
    "import sys\n",
    "import subprocess\n",
    "from pathlib import Path\n",
    "\n",
    "# Import Dependencies\n",
    "import psycopg2\n",
    "from pymongo import MongoClient\n",
    "from pprint import pprint\n",
    "from utils import createCSV,createCSVUsingDask,mergeCSV, add_year_to_csv\n",
    "import os"
   ]
  },
  {
   "cell_type": "code",
   "execution_count": 2,
   "id": "915d85b5-fb87-4f5d-a860-467bef197b8b",
   "metadata": {},
   "outputs": [],
   "source": [
    "import pandas as pd\n",
    "from pathlib import Path\n",
    "import matplotlib.pyplot as plt\n",
    "import numpy as np\n",
    "import chardet as chardet\n",
    "import dask as dask\n",
    "import dask.dataframe as dd"
   ]
  },
  {
   "cell_type": "code",
   "execution_count": 3,
   "id": "274949f8-9613-4523-a530-2da0ca3d2f78",
   "metadata": {},
   "outputs": [
    {
     "name": "stdout",
     "output_type": "stream",
     "text": [
      "Resources/accident_data/2019/person.csv does not exist.\n",
      "Resources/accident_data/2020/person.csv does not exist.\n",
      "Resources/accident_data/2021/person.csv does not exist.\n",
      "Resources/accident_data/2022/person.csv does not exist.\n"
     ]
    }
   ],
   "source": [
    "add_year_to_csv('Resources/accident_data/2019/person.csv', 2019)\n",
    "add_year_to_csv('Resources/accident_data/2020/person.csv', 2020)\n",
    "add_year_to_csv('Resources/accident_data/2021/person.csv', 2021)\n",
    "add_year_to_csv('Resources/accident_data/2022/person.csv', 2022)"
   ]
  },
  {
   "cell_type": "code",
   "execution_count": 4,
   "id": "60e02e41-8fcb-4950-ae6e-22716363a40f",
   "metadata": {},
   "outputs": [
    {
     "name": "stdout",
     "output_type": "stream",
     "text": [
      "Resources/accident_data/2019/vehicle.csv does not exist.\n",
      "Resources/accident_data/2020/vehicle.csv does not exist.\n",
      "Resources/accident_data/2021/vehicle.csv does not exist.\n",
      "Resources/accident_data/2022/vehicle.csv does not exist.\n"
     ]
    }
   ],
   "source": [
    "add_year_to_csv('Resources/accident_data/2019/vehicle.csv', 2019)\n",
    "add_year_to_csv('Resources/accident_data/2020/vehicle.csv', 2020)\n",
    "add_year_to_csv('Resources/accident_data/2021/vehicle.csv', 2021)\n",
    "add_year_to_csv('Resources/accident_data/2022/vehicle.csv', 2022)"
   ]
  },
  {
   "cell_type": "code",
   "execution_count": 5,
   "id": "0c414bb0-27bf-4bac-8a19-a95e4e352d73",
   "metadata": {},
   "outputs": [
    {
     "name": "stdout",
     "output_type": "stream",
     "text": [
      "Starting to read the File\n",
      "CSV file updated successfully. New file saved as Resources/accident_data/2019/race.csv\n",
      "Starting to read the File\n",
      "CSV file updated successfully. New file saved as Resources/accident_data/2020/race.csv\n",
      "Starting to read the File\n",
      "CSV file updated successfully. New file saved as Resources/accident_data/2021/race.csv\n",
      "Starting to read the File\n",
      "CSV file updated successfully. New file saved as Resources/accident_data/2022/race.csv\n"
     ]
    }
   ],
   "source": [
    "add_year_to_csv('Resources/accident_data/2019/race.csv', 2019)\n",
    "add_year_to_csv('Resources/accident_data/2020/race.csv', 2020)\n",
    "add_year_to_csv('Resources/accident_data/2021/race.csv', 2021)\n",
    "add_year_to_csv('Resources/accident_data/2022/race.csv', 2022)"
   ]
  },
  {
   "cell_type": "code",
   "execution_count": 6,
   "id": "c6584e32-f127-477d-91a0-be5eaf4c02cf",
   "metadata": {},
   "outputs": [
    {
     "name": "stdout",
     "output_type": "stream",
     "text": [
      "Starting to read the File\n",
      "CSV file updated successfully. New file saved as Resources/accident_data/2019/drugs.csv\n",
      "Starting to read the File\n",
      "CSV file updated successfully. New file saved as Resources/accident_data/2020/drugs.csv\n",
      "Starting to read the File\n",
      "CSV file updated successfully. New file saved as Resources/accident_data/2021/drugs.csv\n",
      "Starting to read the File\n",
      "CSV file updated successfully. New file saved as Resources/accident_data/2022/drugs.csv\n"
     ]
    }
   ],
   "source": [
    "add_year_to_csv('Resources/accident_data/2019/drugs.csv', 2019)\n",
    "add_year_to_csv('Resources/accident_data/2020/drugs.csv', 2020)\n",
    "add_year_to_csv('Resources/accident_data/2021/drugs.csv', 2021)\n",
    "add_year_to_csv('Resources/accident_data/2022/drugs.csv', 2022)"
   ]
  },
  {
   "cell_type": "code",
   "execution_count": 7,
   "id": "93a89b3b-5ce4-4d7c-a15c-df28634defe7",
   "metadata": {},
   "outputs": [
    {
     "name": "stdout",
     "output_type": "stream",
     "text": [
      "Starting to read the File\n",
      "CSV file updated successfully. New file saved as Resources/accident_data/2019/vision.csv\n",
      "Starting to read the File\n",
      "CSV file updated successfully. New file saved as Resources/accident_data/2020/vision.csv\n",
      "Starting to read the File\n",
      "CSV file updated successfully. New file saved as Resources/accident_data/2021/vision.csv\n",
      "Starting to read the File\n",
      "CSV file updated successfully. New file saved as Resources/accident_data/2022/vision.csv\n"
     ]
    }
   ],
   "source": [
    "add_year_to_csv('Resources/accident_data/2019/vision.csv', 2019)\n",
    "add_year_to_csv('Resources/accident_data/2020/vision.csv', 2020)\n",
    "add_year_to_csv('Resources/accident_data/2021/vision.csv', 2021)\n",
    "add_year_to_csv('Resources/accident_data/2022/vision.csv', 2022)"
   ]
  },
  {
   "cell_type": "code",
   "execution_count": 8,
   "id": "46329c74-0a73-4ab3-b241-1797dc1c1df8",
   "metadata": {},
   "outputs": [
    {
     "name": "stdout",
     "output_type": "stream",
     "text": [
      "Resources\\accident_data\\2019/person.csv does not exist.\n",
      "Resources\\accident_data\\2020/person.csv does not exist.\n",
      "Resources\\accident_data\\2021/person.csv does not exist.\n",
      "Resources\\accident_data\\2022/person.csv does not exist.\n"
     ]
    }
   ],
   "source": [
    "base_path = Path(\"Resources/accident_data/2019\")\n",
    "createCSV(f\"{base_path}/person.csv\",\"Resources/person_labels.csv\",\"us_person\",\"w\")\n",
    "base_path = Path(\"Resources/accident_data/2020\")\n",
    "createCSV(f\"{base_path}/person.csv\",\"Resources/person_labels.csv\",\"us_person\",\"a\")\n",
    "base_path = Path(\"Resources/accident_data/2021\")\n",
    "createCSV(f\"{base_path}/person.csv\",\"Resources/person_labels.csv\",\"us_person\",\"a\")\n",
    "base_path = Path(\"Resources/accident_data/2022\")\n",
    "createCSV(f\"{base_path}/person.csv\",\"Resources/person_labels.csv\",\"us_person\",\"a\")"
   ]
  },
  {
   "cell_type": "code",
   "execution_count": 9,
   "id": "a799cfd7-a66a-40d1-a0a6-f6250aa7b595",
   "metadata": {},
   "outputs": [
    {
     "name": "stdout",
     "output_type": "stream",
     "text": [
      "Resources\\accident_data\\2019/vehicle.csv does not exist.\n",
      "Resources\\accident_data\\2020/vehicle.csv does not exist.\n",
      "Resources\\accident_data\\2021/vehicle.csv does not exist.\n",
      "Resources\\accident_data\\2022/vehicle.csv does not exist.\n"
     ]
    }
   ],
   "source": [
    "base_path = Path(\"Resources/accident_data/2019\")\n",
    "createCSV(f\"{base_path}/vehicle.csv\",\"Resources/vehicle_labels.csv\",\"us_vehicle\",\"w\")\n",
    "base_path = Path(\"Resources/accident_data/2020\")\n",
    "createCSV(f\"{base_path}/vehicle.csv\",\"Resources/vehicle_labels.csv\",\"us_vehicle\",\"a\")\n",
    "base_path = Path(\"Resources/accident_data/2021\")\n",
    "createCSV(f\"{base_path}/vehicle.csv\",\"Resources/vehicle_labels.csv\",\"us_vehicle\",\"a\")\n",
    "base_path = Path(\"Resources/accident_data/2022\")\n",
    "createCSV(f\"{base_path}/vehicle.csv\",\"Resources/vehicle_labels.csv\",\"us_vehicle\",\"a\")"
   ]
  },
  {
   "cell_type": "code",
   "execution_count": 10,
   "id": "ec37ec09-03bf-43bd-a057-8efa38877fe9",
   "metadata": {},
   "outputs": [
    {
     "name": "stdout",
     "output_type": "stream",
     "text": [
      "Starting to read the File\n",
      "################Labels to Save###################### Index(['STATE', 'STATENAME', 'ST_CASE', 'VEH_NO', 'PER_NO', 'DRUGSPEC',\n",
      "       'DRUGSPECNAME', 'DRUGRES', 'DRUGRESNAME', 'YEAR'],\n",
      "      dtype='object')\n",
      "################Updated CSV File#################        STATE STATENAME  ST_CASE  VEH_NO  PER_NO  DRUGSPEC  \\\n",
      "0          1   Alabama    10001       1       1         0   \n",
      "1          1   Alabama    10001       1       2         0   \n",
      "2          1   Alabama    10001       2       1         0   \n",
      "3          1   Alabama    10002       1       1         1   \n",
      "4          1   Alabama    10002       1       1         1   \n",
      "...      ...       ...      ...     ...     ...       ...   \n",
      "98894     56   Wyoming   560120       1       1         1   \n",
      "98895     56   Wyoming   560120       1       2         0   \n",
      "98896     56   Wyoming   560121       1       1         0   \n",
      "98897     56   Wyoming   560121       1       2        99   \n",
      "98898     56   Wyoming   560121       2       1         0   \n",
      "\n",
      "                        DRUGSPECNAME  DRUGRES  \\\n",
      "0                     Test Not Given        0   \n",
      "1                     Test Not Given        0   \n",
      "2                     Test Not Given        0   \n",
      "3                        Whole Blood      401   \n",
      "4                        Whole Blood      417   \n",
      "...                              ...      ...   \n",
      "98894                    Whole Blood      603   \n",
      "98895                 Test Not Given        0   \n",
      "98896                 Test Not Given        0   \n",
      "98897  Reported as Unknown if Tested      999   \n",
      "98898                 Test Not Given        0   \n",
      "\n",
      "                                   DRUGRESNAME  YEAR  \n",
      "0                               Test Not Given  2019  \n",
      "1                               Test Not Given  2019  \n",
      "2                               Test Not Given  2019  \n",
      "3                                  AMPHETAMINE  2019  \n",
      "4                              METHAMPHETAMINE  2019  \n",
      "...                                        ...   ...  \n",
      "98894                      MARIJUANA/Marihuana  2019  \n",
      "98895                           Test Not Given  2019  \n",
      "98896                           Test Not Given  2019  \n",
      "98897  Reported as Unknown if Tested for Drugs  2019  \n",
      "98898                           Test Not Given  2019  \n",
      "\n",
      "[98899 rows x 10 columns]\n",
      "Starting to read the File\n",
      "################Labels to Save###################### Index(['STATE', 'STATENAME', 'ST_CASE', 'VEH_NO', 'PER_NO', 'DRUGSPEC',\n",
      "       'DRUGSPECNAME', 'DRUGRES', 'DRUGRESNAME', 'YEAR'],\n",
      "      dtype='object')\n",
      "################Updated CSV File#################         STATE STATENAME  ST_CASE  VEH_NO  PER_NO  DRUGSPEC    DRUGSPECNAME  \\\n",
      "0           1   Alabama    10001       1       1         1     Whole Blood   \n",
      "1           1   Alabama    10001       1       2         0  Test Not Given   \n",
      "2           1   Alabama    10001       1       3         1     Whole Blood   \n",
      "3           1   Alabama    10001       1       4         1     Whole Blood   \n",
      "4           1   Alabama    10002       1       1         1     Whole Blood   \n",
      "...       ...       ...      ...     ...     ...       ...             ...   \n",
      "107136     56   Wyoming   560114       1       2         1     Whole Blood   \n",
      "107137     56   Wyoming   560114       2       1         1     Whole Blood   \n",
      "107138     56   Wyoming   560114       2       1         1     Whole Blood   \n",
      "107139     56   Wyoming   560115       1       1         0  Test Not Given   \n",
      "107140     56   Wyoming   560115       1       2         0  Test Not Given   \n",
      "\n",
      "        DRUGRES                      DRUGRESNAME  YEAR  \n",
      "0             1  Tested, No Drugs Found/Negative  2020  \n",
      "1             0                   Test Not Given  2020  \n",
      "2             1  Tested, No Drugs Found/Negative  2020  \n",
      "3             1  Tested, No Drugs Found/Negative  2020  \n",
      "4           151                         FENTANYL  2020  \n",
      "...         ...                              ...   ...  \n",
      "107136      996                       Other Drug  2020  \n",
      "107137      605      Tetrahydrocannabinols (THC)  2020  \n",
      "107138      996                       Other Drug  2020  \n",
      "107139        0                   Test Not Given  2020  \n",
      "107140        0                   Test Not Given  2020  \n",
      "\n",
      "[107141 rows x 10 columns]\n",
      "Starting to read the File\n",
      "################Labels to Save###################### Index(['STATE', 'STATENAME', 'ST_CASE', 'VEH_NO', 'PER_NO', 'DRUGSPEC',\n",
      "       'DRUGSPECNAME', 'DRUGRES', 'DRUGRESNAME', 'YEAR'],\n",
      "      dtype='object')\n",
      "################Updated CSV File#################         STATE STATENAME  ST_CASE  VEH_NO  PER_NO  DRUGSPEC    DRUGSPECNAME  \\\n",
      "0           1   Alabama    10001       1       1         1     Whole Blood   \n",
      "1           1   Alabama    10001       1       2         0  Test Not Given   \n",
      "2           1   Alabama    10001       2       1         1     Whole Blood   \n",
      "3           1   Alabama    10002       1       1         0  Test Not Given   \n",
      "4           1   Alabama    10002       1       2         0  Test Not Given   \n",
      "...       ...       ...      ...     ...     ...       ...             ...   \n",
      "119166     56   Wyoming   560103       0       1        96    Not Reported   \n",
      "119167     56   Wyoming   560103       1       1         1     Whole Blood   \n",
      "119168     56   Wyoming   560104       1       1         1     Whole Blood   \n",
      "119169     56   Wyoming   560104       1       1         1     Whole Blood   \n",
      "119170     56   Wyoming   560104       2       1        96    Not Reported   \n",
      "\n",
      "        DRUGRES                      DRUGRESNAME  YEAR  \n",
      "0           600                          DELTA 9  2021  \n",
      "1             0                   Test Not Given  2021  \n",
      "2             1  Tested, No Drugs Found/Negative  2021  \n",
      "3             0                   Test Not Given  2021  \n",
      "4             0                   Test Not Given  2021  \n",
      "...         ...                              ...   ...  \n",
      "119166       95                     Not Reported  2021  \n",
      "119167        1  Tested, No Drugs Found/Negative  2021  \n",
      "119168      417                  METHAMPHETAMINE  2021  \n",
      "119169      695        Cannabinoid, Type Unknown  2021  \n",
      "119170       95                     Not Reported  2021  \n",
      "\n",
      "[119171 rows x 10 columns]\n",
      "Starting to read the File\n",
      "################Labels to Save###################### Index(['STATE', 'STATENAME', 'ST_CASE', 'VEH_NO', 'PER_NO', 'DRUGSPEC',\n",
      "       'DRUGSPECNAME', 'DRUGRES', 'DRUGRESNAME', 'YEAR'],\n",
      "      dtype='object')\n",
      "################Updated CSV File#################         STATE STATENAME  ST_CASE  VEH_NO  PER_NO  DRUGSPEC    DRUGSPECNAME  \\\n",
      "0           1   Alabama    10001       1       1        96    Not Reported   \n",
      "1           1   Alabama    10001       2       1         0  Test Not Given   \n",
      "2           1   Alabama    10001       2       2         0  Test Not Given   \n",
      "3           1   Alabama    10002       1       1         1     Whole Blood   \n",
      "4           1   Alabama    10002       2       1         1     Whole Blood   \n",
      "...       ...       ...      ...     ...     ...       ...             ...   \n",
      "120141     56   Wyoming   560117       1       1         1     Whole Blood   \n",
      "120142     56   Wyoming   560118       1       1        96    Not Reported   \n",
      "120143     56   Wyoming   560118       1       2         0  Test Not Given   \n",
      "120144     56   Wyoming   560118       1       3         0  Test Not Given   \n",
      "120145     56   Wyoming   560118       1       4         0  Test Not Given   \n",
      "\n",
      "        DRUGRES                      DRUGRESNAME  YEAR  \n",
      "0          9995                     Not Reported  2022  \n",
      "1             0                   Test Not Given  2022  \n",
      "2             0                   Test Not Given  2022  \n",
      "3             1  Tested, No Drugs Found/Negative  2022  \n",
      "4             1  Tested, No Drugs Found/Negative  2022  \n",
      "...         ...                              ...   ...  \n",
      "120141     5997        Cannabinoid, Type Unknown  2022  \n",
      "120142     9995                     Not Reported  2022  \n",
      "120143        0                   Test Not Given  2022  \n",
      "120144        0                   Test Not Given  2022  \n",
      "120145        0                   Test Not Given  2022  \n",
      "\n",
      "[120146 rows x 10 columns]\n"
     ]
    }
   ],
   "source": [
    "base_path = Path(\"Resources/accident_data/2019\")\n",
    "createCSV(f\"{base_path}/drugs.csv\",\"Resources/drug_labels.csv\",\"us_drug\",\"w\")\n",
    "base_path = Path(\"Resources/accident_data/2020\")\n",
    "createCSV(f\"{base_path}/drugs.csv\",\"Resources/drug_labels.csv\",\"us_drug\",\"a\")\n",
    "base_path = Path(\"Resources/accident_data/2021\")\n",
    "createCSV(f\"{base_path}/drugs.csv\",\"Resources/drug_labels.csv\",\"us_drug\",\"a\")\n",
    "base_path = Path(\"Resources/accident_data/2022\")\n",
    "createCSV(f\"{base_path}/drugs.csv\",\"Resources/drug_labels.csv\",\"us_drug\",\"a\")"
   ]
  },
  {
   "cell_type": "code",
   "execution_count": 11,
   "id": "21821d3a-2743-428d-8ccd-8663bbbdfea2",
   "metadata": {},
   "outputs": [
    {
     "name": "stdout",
     "output_type": "stream",
     "text": [
      "Starting to read the File\n",
      "################Labels to Save###################### Index(['STATE', 'STATENAME', 'ST_CASE', 'VEH_NO', 'PER_NO', 'RACE', 'RACENAME',\n",
      "       'ORDER', 'MULTRACE', 'YEAR'],\n",
      "      dtype='object')\n",
      "################Updated CSV File#################        STATE STATENAME  ST_CASE  VEH_NO  PER_NO  RACE  \\\n",
      "0          1   Alabama    10001       1       1     0   \n",
      "1          1   Alabama    10001       1       2     1   \n",
      "2          1   Alabama    10001       2       1     0   \n",
      "3          1   Alabama    10002       1       1     1   \n",
      "4          1   Alabama    10002       2       1     0   \n",
      "...      ...       ...      ...     ...     ...   ...   \n",
      "82988     56   Wyoming   560120       1       1     2   \n",
      "82989     56   Wyoming   560120       1       2     0   \n",
      "82990     56   Wyoming   560121       1       1     1   \n",
      "82991     56   Wyoming   560121       1       2     1   \n",
      "82992     56   Wyoming   560121       2       1     0   \n",
      "\n",
      "                              RACENAME  ORDER  MULTRACE  YEAR  \n",
      "0      Not a Fatality (not Applicable)      1         0  2019  \n",
      "1                                White      1         0  2019  \n",
      "2      Not a Fatality (not Applicable)      1         0  2019  \n",
      "3                                White      1         0  2019  \n",
      "4      Not a Fatality (not Applicable)      1         0  2019  \n",
      "...                                ...    ...       ...   ...  \n",
      "82988        Black or African American      1         0  2019  \n",
      "82989  Not a Fatality (not Applicable)      1         0  2019  \n",
      "82990                            White      1         0  2019  \n",
      "82991                            White      1         0  2019  \n",
      "82992  Not a Fatality (not Applicable)      1         0  2019  \n",
      "\n",
      "[82993 rows x 10 columns]\n",
      "Starting to read the File\n",
      "################Labels to Save###################### Index(['STATE', 'STATENAME', 'ST_CASE', 'VEH_NO', 'PER_NO', 'RACE', 'RACENAME',\n",
      "       'ORDER', 'MULTRACE', 'YEAR'],\n",
      "      dtype='object')\n",
      "################Updated CSV File#################        STATE STATENAME  ST_CASE  VEH_NO  PER_NO  RACE  \\\n",
      "0          1   Alabama    10001       1       1     2   \n",
      "1          1   Alabama    10001       1       2     0   \n",
      "2          1   Alabama    10001       1       3     2   \n",
      "3          1   Alabama    10001       1       4     2   \n",
      "4          1   Alabama    10002       1       1     0   \n",
      "...      ...       ...      ...     ...     ...   ...   \n",
      "86557     56   Wyoming   560114       1       1     0   \n",
      "86558     56   Wyoming   560114       1       2     0   \n",
      "86559     56   Wyoming   560114       2       1     0   \n",
      "86560     56   Wyoming   560115       1       1     1   \n",
      "86561     56   Wyoming   560115       1       2     0   \n",
      "\n",
      "                              RACENAME  ORDER  MULTRACE  YEAR  \n",
      "0            Black or African American      1         0  2020  \n",
      "1      Not a Fatality (not Applicable)      1         0  2020  \n",
      "2            Black or African American      1         0  2020  \n",
      "3            Black or African American      1         0  2020  \n",
      "4      Not a Fatality (not Applicable)      1         0  2020  \n",
      "...                                ...    ...       ...   ...  \n",
      "86557  Not a Fatality (not Applicable)      1         0  2020  \n",
      "86558  Not a Fatality (not Applicable)      1         0  2020  \n",
      "86559  Not a Fatality (not Applicable)      1         0  2020  \n",
      "86560                            White      1         0  2020  \n",
      "86561  Not a Fatality (not Applicable)      1         0  2020  \n",
      "\n",
      "[86562 rows x 10 columns]\n",
      "Starting to read the File\n",
      "################Labels to Save###################### Index(['STATE', 'STATENAME', 'ST_CASE', 'VEH_NO', 'PER_NO', 'RACE', 'RACENAME',\n",
      "       'ORDER', 'MULTRACE', 'YEAR'],\n",
      "      dtype='object')\n",
      "################Updated CSV File#################        STATE STATENAME  ST_CASE  VEH_NO  PER_NO  RACE  \\\n",
      "0          1   Alabama    10001       1       1     2   \n",
      "1          1   Alabama    10001       1       2     0   \n",
      "2          1   Alabama    10001       2       1     4   \n",
      "3          1   Alabama    10002       1       1     2   \n",
      "4          1   Alabama    10002       1       2     2   \n",
      "...      ...       ...      ...     ...     ...   ...   \n",
      "97681     56   Wyoming   560102       1       1    98   \n",
      "97682     56   Wyoming   560103       0       1     1   \n",
      "97683     56   Wyoming   560103       1       1     0   \n",
      "97684     56   Wyoming   560104       1       1     1   \n",
      "97685     56   Wyoming   560104       2       1     0   \n",
      "\n",
      "                              RACENAME  ORDER  MULTRACE  YEAR  \n",
      "0            Black or African American      1         0  2021  \n",
      "1      Not a Fatality (not Applicable)      1         0  2021  \n",
      "2                              Chinese      1         0  2021  \n",
      "3            Black or African American      1         0  2021  \n",
      "4            Black or African American      1         0  2021  \n",
      "...                                ...    ...       ...   ...  \n",
      "97681                       Other Race      2         1  2021  \n",
      "97682                            White      1         0  2021  \n",
      "97683  Not a Fatality (not Applicable)      1         0  2021  \n",
      "97684                            White      1         0  2021  \n",
      "97685  Not a Fatality (not Applicable)      1         0  2021  \n",
      "\n",
      "[97686 rows x 10 columns]\n",
      "Starting to read the File\n",
      "################Labels to Save###################### Index(['STATE', 'STATENAME', 'ST_CASE', 'VEH_NO', 'PER_NO', 'RACE', 'RACENAME',\n",
      "       'ORDER', 'MULTRACE', 'YEAR'],\n",
      "      dtype='object')\n",
      "################Updated CSV File#################        STATE STATENAME  ST_CASE  VEH_NO  PER_NO  RACE  \\\n",
      "0          1   Alabama    10001       1       1     1   \n",
      "1          1   Alabama    10001       2       1     0   \n",
      "2          1   Alabama    10001       2       2     0   \n",
      "3          1   Alabama    10002       1       1     1   \n",
      "4          1   Alabama    10002       2       1     1   \n",
      "...      ...       ...      ...     ...     ...   ...   \n",
      "95950     56   Wyoming   560117       1       1     3   \n",
      "95951     56   Wyoming   560118       1       1     0   \n",
      "95952     56   Wyoming   560118       1       2     1   \n",
      "95953     56   Wyoming   560118       1       3     0   \n",
      "95954     56   Wyoming   560118       1       4     0   \n",
      "\n",
      "                                     RACENAME  ORDER  MULTRACE  YEAR  \n",
      "0                                       White      1         0  2022  \n",
      "1             Not a Fatality (not Applicable)      1         0  2022  \n",
      "2             Not a Fatality (not Applicable)      1         0  2022  \n",
      "3                                       White      1         0  2022  \n",
      "4                                       White      1         0  2022  \n",
      "...                                       ...    ...       ...   ...  \n",
      "95950  North American Indian or Alaska Native      1         0  2022  \n",
      "95951         Not a Fatality (not Applicable)      1         0  2022  \n",
      "95952                                   White      1         0  2022  \n",
      "95953         Not a Fatality (not Applicable)      1         0  2022  \n",
      "95954         Not a Fatality (not Applicable)      1         0  2022  \n",
      "\n",
      "[95955 rows x 10 columns]\n"
     ]
    }
   ],
   "source": [
    "base_path = Path(\"Resources/accident_data/2019\")\n",
    "createCSV(f\"{base_path}/race.csv\",\"Resources/race_labels.csv\",\"us_race\",\"w\")\n",
    "base_path = Path(\"Resources/accident_data/2020\")\n",
    "createCSV(f\"{base_path}/race.csv\",\"Resources/race_labels.csv\",\"us_race\",\"a\")\n",
    "base_path = Path(\"Resources/accident_data/2021\")\n",
    "createCSV(f\"{base_path}/race.csv\",\"Resources/race_labels.csv\",\"us_race\",\"a\")\n",
    "base_path = Path(\"Resources/accident_data/2022\")\n",
    "createCSV(f\"{base_path}/race.csv\",\"Resources/race_labels.csv\",\"us_race\",\"a\")"
   ]
  },
  {
   "cell_type": "code",
   "execution_count": 12,
   "id": "c1ad47a1-3506-46e5-95f1-217d5b1570dc",
   "metadata": {},
   "outputs": [
    {
     "name": "stdout",
     "output_type": "stream",
     "text": [
      "Starting to read the File\n",
      "################Labels to Save###################### Index(['ST_CASE', 'WEATHERNAME'], dtype='object')\n",
      "################Updated CSV File#################        ST_CASE        WEATHERNAME\n",
      "0        10001              Clear\n",
      "1        10002               Rain\n",
      "2        10003             Cloudy\n",
      "3        10004              Clear\n",
      "4        10005   Fog, Smog, Smoke\n",
      "...        ...                ...\n",
      "33482   560117  Severe Crosswinds\n",
      "33483   560118              Clear\n",
      "33484   560119              Clear\n",
      "33485   560120              Clear\n",
      "33486   560121               Rain\n",
      "\n",
      "[33487 rows x 2 columns]\n",
      "Starting to read the File\n",
      "################Labels to Save###################### Index(['ST_CASE', 'WEATHERNAME'], dtype='object')\n",
      "################Updated CSV File#################        ST_CASE        WEATHERNAME\n",
      "0        10001              Clear\n",
      "1        10002               Rain\n",
      "2        10003               Rain\n",
      "3        10004             Cloudy\n",
      "4        10005               Rain\n",
      "...        ...                ...\n",
      "36276   560111               Snow\n",
      "36277   560112              Clear\n",
      "36278   560113               Snow\n",
      "36279   560114              Clear\n",
      "36280   560115  Severe Crosswinds\n",
      "\n",
      "[36281 rows x 2 columns]\n",
      "Starting to read the File\n",
      "################Labels to Save###################### Index(['ST_CASE', 'WEATHERNAME'], dtype='object')\n",
      "################Updated CSV File#################        ST_CASE WEATHERNAME\n",
      "0        10001        Rain\n",
      "1        10002        Rain\n",
      "2        10003        Rain\n",
      "3        10004       Clear\n",
      "4        10005      Cloudy\n",
      "...        ...         ...\n",
      "40203   560100       Clear\n",
      "40204   560101       Clear\n",
      "40205   560102       Clear\n",
      "40206   560103       Clear\n",
      "40207   560104       Clear\n",
      "\n",
      "[40208 rows x 2 columns]\n",
      "Starting to read the File\n",
      "################Labels to Save###################### Index(['ST_CASE', 'WEATHERNAME'], dtype='object')\n",
      "################Updated CSV File#################        ST_CASE WEATHERNAME\n",
      "0        10001       Clear\n",
      "1        10002       Clear\n",
      "2        10003      Cloudy\n",
      "3        10004      Cloudy\n",
      "4        10005        Rain\n",
      "...        ...         ...\n",
      "39639   560114       Clear\n",
      "39640   560115        Snow\n",
      "39641   560116        Snow\n",
      "39642   560117        Snow\n",
      "39643   560118       Clear\n",
      "\n",
      "[39644 rows x 2 columns]\n"
     ]
    }
   ],
   "source": [
    "base_path = Path(\"Resources/accident_data/2019\")\n",
    "createCSV(f\"{base_path}/weather.csv\",\"Resources/weather_labels.csv\",\"us_weather\",\"w\")\n",
    "base_path = Path(\"Resources/accident_data/2020\")\n",
    "createCSV(f\"{base_path}/weather.csv\",\"Resources/weather_labels.csv\",\"us_weather\",\"a\")\n",
    "base_path = Path(\"Resources/accident_data/2021\")\n",
    "createCSV(f\"{base_path}/weather.csv\",\"Resources/weather_labels.csv\",\"us_weather\",\"a\")\n",
    "base_path = Path(\"Resources/accident_data/2022\")\n",
    "createCSV(f\"{base_path}/weather.csv\",\"Resources/weather_labels.csv\",\"us_weather\",\"a\")"
   ]
  },
  {
   "cell_type": "code",
   "execution_count": 13,
   "id": "ff23ab85-beca-4b1d-a8a6-ab2de9bbd7a7",
   "metadata": {},
   "outputs": [
    {
     "name": "stdout",
     "output_type": "stream",
     "text": [
      "Starting to read the File\n",
      "Starting to read the File\n",
      "Starting to read the File\n",
      "Starting to read the File\n"
     ]
    }
   ],
   "source": [
    "base_path = Path(\"Resources/accident_data/2019\")\n",
    "mergeCSV(f\"{base_path}/vision.csv\",\"us_Vision\",\"w\")\n",
    "base_path = Path(\"Resources/accident_data/2020\")\n",
    "mergeCSV(f\"{base_path}/vision.csv\",\"us_Vision\",\"a\")\n",
    "base_path = Path(\"Resources/accident_data/2021\")\n",
    "mergeCSV(f\"{base_path}/vision.csv\",\"us_Vision\",\"a\")\n",
    "base_path = Path(\"Resources/accident_data/2022\")\n",
    "mergeCSV(f\"{base_path}/vision.csv\",\"us_Vision\",\"a\")"
   ]
  },
  {
   "cell_type": "code",
   "execution_count": 14,
   "id": "bc6827ca-c8be-4478-a75c-2f3561eb150a",
   "metadata": {},
   "outputs": [
    {
     "name": "stdout",
     "output_type": "stream",
     "text": [
      "Starting to read the File\n"
     ]
    }
   ],
   "source": [
    "base_path = Path(\"Resources/accident_data\")\n",
    "mergeCSV(f\"{base_path}/Vehicle_Type.csv\",\"Vehicle_Type\",\"w\")"
   ]
  },
  {
   "cell_type": "code",
   "execution_count": 16,
   "id": "c40ae2de-aeb6-46c1-bc38-fe5309514faa",
   "metadata": {},
   "outputs": [
    {
     "name": "stdout",
     "output_type": "stream",
     "text": [
      "Resources\\us_person.csv does not exist.\n"
     ]
    }
   ],
   "source": [
    "def file_exists(filename):\n",
    "    return os.path.exists(filename)\n",
    "base_path = Path(\"Resources/\")\n",
    "if file_exists(base_path / 'us_person.csv' ):  \n",
    "    print(\"Starting to read the File\")\n",
    "    df_person = pd.read_csv(base_path / 'us_person.csv', encoding='ISO-8859-1', low_memory=False)\n",
    "    df_race = pd.read_csv(base_path / 'us_race.csv', encoding='ISO-8859-1', low_memory=False)\n",
    "    df_race = df_race.loc[df_race['ORDER'] == '1']\n",
    "    \n",
    "    # Merging DataFrames\n",
    "    df_person_race = pd.merge(df_person, df_race, left_on=['STATE','ST_CASE','VEH_NO','PER_NO','YEAR'], right_on=['STATE','ST_CASE','VEH_NO','PER_NO','YEAR'], how='left',suffixes=('', '_race'))\n",
    "    \n",
    "    df_person_race.to_csv(base_path / 'us_person.csv', index=False)\n",
    "else:\n",
    "    print(f\"{base_path / 'us_person.csv'} does not exist.\") "
   ]
  },
  {
   "cell_type": "code",
   "execution_count": null,
   "id": "702cb6a4-4662-47d9-92f0-af37ca43e448",
   "metadata": {},
   "outputs": [],
   "source": [
    "import import_ipynb as ipynb\n",
    "def loadUSAccidentDataToMongoDB():\n",
    "    object_names = ['us_person','us_vehicle','us_Vision', 'us_weather', 'us_race','us_drug', 'us_accident','Vehicle_Type']\n",
    "    # Pass the collection names\n",
    "    from mongodb_load_databases import createMongoDB, validateMongoDB\n",
    "    db_name = 'us_accidents_db'\n",
    "    createMongoDB(db_name, object_names)\n",
    "    validateMongoDB(db_name)"
   ]
  },
  {
   "cell_type": "code",
   "execution_count": null,
   "id": "38350dc1-4587-49d6-97f1-4ffbf1fbda89",
   "metadata": {},
   "outputs": [],
   "source": [
    " loadUSAccidentDataToMongoDB()"
   ]
  },
  {
   "cell_type": "code",
   "execution_count": null,
   "id": "b2545b7d",
   "metadata": {},
   "outputs": [],
   "source": []
  },
  {
   "cell_type": "code",
   "execution_count": null,
   "id": "f435fd71-8245-4bc5-983a-363328b0499a",
   "metadata": {},
   "outputs": [],
   "source": []
  }
 ],
 "metadata": {
  "kernelspec": {
   "display_name": "Python 3 (ipykernel)",
   "language": "python",
   "name": "python3"
  },
  "language_info": {
   "codemirror_mode": {
    "name": "ipython",
    "version": 3
   },
   "file_extension": ".py",
   "mimetype": "text/x-python",
   "name": "python",
   "nbconvert_exporter": "python",
   "pygments_lexer": "ipython3",
   "version": "3.10.14"
  }
 },
 "nbformat": 4,
 "nbformat_minor": 5
}
