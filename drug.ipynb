{
 "cells": [
  {
   "cell_type": "code",
   "execution_count": 1,
   "id": "2a3eb9c7-e42c-4eb4-8f6c-6a9003402fc6",
   "metadata": {},
   "outputs": [],
   "source": [
    "import pandas as pd\n",
    "from pathlib import Path\n",
    "import matplotlib.pyplot as plt\n",
    "import numpy as np\n",
    "import chardet as chardet\n",
    "import dask as dask\n",
    "import dask.dataframe as dd\n",
    "\n",
    "import sys\n",
    "import subprocess\n",
    "from pathlib import Path\n",
    "\n",
    "# Import Dependencies\n",
    "import psycopg2\n",
    "from pymongo import MongoClient\n",
    "from pprint import pprint\n",
    "from utils import mergeCSV, createCSVUsingDask"
   ]
  },
  {
   "cell_type": "code",
   "execution_count": 3,
   "id": "d134e924-0ec3-46c4-a867-a8258d33f518",
   "metadata": {},
   "outputs": [],
   "source": [
    "def createAlcoholData(base_path):\n",
    "    mergeCSV(f\"{base_path}/2022/MIACC.CSV\", \"us_miacc\", \"w\")\n",
    "    mergeCSV(f\"{base_path}/2021/MIACC.CSV\", \"us_miacc\", \"a\")\n",
    "    mergeCSV(f\"{base_path}/2020/MIACC.CSV\", \"us_miacc\", \"a\")\n",
    "    mergeCSV(f\"{base_path}/2019/MIACC.CSV\", \"us_miacc\", \"a\")\n",
    "    mergeCSV(f\"{base_path}/2022/MIDRVACC.CSV\",\"us_midrvacc\", \"w\")\n",
    "    mergeCSV(f\"{base_path}/2021/MIDRVACC.CSV\",\"us_midrvacc\", \"a\")\n",
    "    mergeCSV(f\"{base_path}/2020/MIDRVACC.CSV\",\"us_midrvacc\", \"a\")\n",
    "    mergeCSV(f\"{base_path}/2019/MIDRVACC.CSV\",\"us_midrvacc\", \"a\")\n",
    "    mergeCSV(f\"{base_path}/2022/MIPER.csv\",\"us_miper\", \"w\")\n",
    "    mergeCSV(f\"{base_path}/2021/MIPER.csv\",\"us_miper\", \"a\")\n",
    "    mergeCSV(f\"{base_path}/2020/MIPER.csv\",\"us_miper\", \"a\")\n",
    "    mergeCSV(f\"{base_path}/2019/MIPER.csv\",\"us_miper\", \"a\")"
   ]
  },
  {
   "cell_type": "code",
   "execution_count": 4,
   "id": "45a242a9-36dd-4eaa-af9a-560edd10ee29",
   "metadata": {},
   "outputs": [],
   "source": [
    "import import_ipynb as ipynb\n",
    "def loadAlcoholDataToMongoDB():\n",
    "    object_names = ['us_miacc','us_midrvacc','us_miper']\n",
    "    # Pass the collection names\n",
    "    from mongodb_load_databases import createMongoDB, validateMongoDB\n",
    "    db_name = 'us_accidents_db'\n",
    "    createMongoDB(db_name, object_names)\n",
    "    validateMongoDB(db_name)"
   ]
  },
  {
   "cell_type": "code",
   "execution_count": 5,
   "id": "d9cac6c0-a1cf-498d-95e5-fedb8da5706c",
   "metadata": {},
   "outputs": [
    {
     "name": "stdout",
     "output_type": "stream",
     "text": [
      "Starting to read the File\n",
      "Starting to read the File\n",
      "Starting to read the File\n",
      "Starting to read the File\n",
      "Starting to read the File\n",
      "Starting to read the File\n",
      "Starting to read the File\n",
      "Starting to read the File\n",
      "Starting to read the File\n",
      "Starting to read the File\n",
      "Starting to read the File\n",
      "Starting to read the File\n"
     ]
    },
    {
     "name": "stderr",
     "output_type": "stream",
     "text": [
      "2024-10-14T18:09:15.941-0400\tconnected to: mongodb://localhost:27017/\n",
      "2024-10-14T18:09:15.941-0400\tdropping: us_accidents_db.us_miacc\n",
      "2024-10-14T18:09:18.941-0400\t[#####################...] us_accidents_db.us_miacc\t4.63MB/5.09MB (90.9%)\n",
      "2024-10-14T18:09:19.294-0400\t[########################] us_accidents_db.us_miacc\t5.09MB/5.09MB (100.0%)\n",
      "2024-10-14T18:09:19.294-0400\t148432 document(s) imported successfully. 0 document(s) failed to import.\n",
      "2024-10-14T18:09:19.321-0400\tconnected to: mongodb://localhost:27017/\n",
      "2024-10-14T18:09:19.321-0400\tdropping: us_accidents_db.us_midrvacc\n"
     ]
    },
    {
     "name": "stdout",
     "output_type": "stream",
     "text": [
      "Imported Resources/us_miacc.csv into collection us_miacc.\n"
     ]
    },
    {
     "name": "stderr",
     "output_type": "stream",
     "text": [
      "2024-10-14T18:09:22.321-0400\t[#####################...] us_accidents_db.us_midrvacc\t3.78MB/4.18MB (90.5%)\n",
      "2024-10-14T18:09:22.648-0400\t[########################] us_accidents_db.us_midrvacc\t4.18MB/4.18MB (100.0%)\n",
      "2024-10-14T18:09:22.648-0400\t148181 document(s) imported successfully. 0 document(s) failed to import.\n",
      "2024-10-14T18:09:22.671-0400\tconnected to: mongodb://localhost:27017/\n",
      "2024-10-14T18:09:22.671-0400\tdropping: us_accidents_db.us_miper\n"
     ]
    },
    {
     "name": "stdout",
     "output_type": "stream",
     "text": [
      "Imported Resources/us_midrvacc.csv into collection us_midrvacc.\n"
     ]
    },
    {
     "name": "stderr",
     "output_type": "stream",
     "text": [
      "2024-10-14T18:09:25.671-0400\t[###########.............] us_accidents_db.us_miper\t4.04MB/8.18MB (49.3%)\n"
     ]
    },
    {
     "name": "stdout",
     "output_type": "stream",
     "text": [
      "Imported Resources/us_miper.csv into collection us_miper.\n",
      "['admin', 'alcohol_db', 'autosaurus', 'config', 'local', 'us_accident_db', 'us_accidents_db']\n",
      "['us_midrvacc', 'us_miper', 'us_miacc']\n",
      "us_midrvacc 148181\n",
      "us_miper 261582\n",
      "us_miacc 148432\n"
     ]
    },
    {
     "name": "stderr",
     "output_type": "stream",
     "text": [
      "2024-10-14T18:09:28.671-0400\t[#######################.] us_accidents_db.us_miper\t8.11MB/8.18MB (99.2%)\n",
      "2024-10-14T18:09:28.737-0400\t[########################] us_accidents_db.us_miper\t8.18MB/8.18MB (100.0%)\n",
      "2024-10-14T18:09:28.737-0400\t261582 document(s) imported successfully. 0 document(s) failed to import.\n"
     ]
    }
   ],
   "source": [
    "base_path = Path(\"Resources/accident_data\")\n",
    "createAlcoholData(base_path)\n",
    "loadAlcoholDataToMongoDB()"
   ]
  },
  {
   "cell_type": "code",
   "execution_count": null,
   "id": "e9809880-e12d-4aac-8751-561f2b7c0902",
   "metadata": {},
   "outputs": [],
   "source": []
  }
 ],
 "metadata": {
  "kernelspec": {
   "display_name": "Python 3 (ipykernel)",
   "language": "python",
   "name": "python3"
  },
  "language_info": {
   "codemirror_mode": {
    "name": "ipython",
    "version": 3
   },
   "file_extension": ".py",
   "mimetype": "text/x-python",
   "name": "python",
   "nbconvert_exporter": "python",
   "pygments_lexer": "ipython3",
   "version": "3.10.14"
  }
 },
 "nbformat": 4,
 "nbformat_minor": 5
}
