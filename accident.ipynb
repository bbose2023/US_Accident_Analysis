{
 "cells": [
  {
   "cell_type": "code",
   "execution_count": 1,
   "id": "72331138-3563-4cfd-b361-28e917369611",
   "metadata": {},
   "outputs": [],
   "source": [
    "import pandas as pd\n",
    "from pathlib import Path\n",
    "import matplotlib.pyplot as plt\n",
    "import numpy as np\n",
    "import chardet as chardet\n",
    "import dask as dask\n",
    "import dask.dataframe as dd\n",
    "\n",
    "import sys\n",
    "import subprocess\n",
    "from pathlib import Path\n",
    "\n",
    "# Import Dependencies\n",
    "import psycopg2\n",
    "from pymongo import MongoClient\n",
    "from pprint import pprint\n",
    "from utils import createCSV, createCSVUsingDask"
   ]
  },
  {
   "cell_type": "code",
   "execution_count": 2,
   "id": "d1fddd26-6e9a-4868-9707-b528131134f0",
   "metadata": {},
   "outputs": [],
   "source": [
    "def createUSAccidentData(base_path):\n",
    "    createCSV(f\"{base_path}/2022/accident.csv\",\"Resources/accident_labels.csv\",\"us_accident\",\"w\")\n",
    "    createCSV(f\"{base_path}/2021/accident.csv\",\"Resources/accident_labels.csv\",\"us_accident\",\"a\")\n",
    "    createCSV(f\"{base_path}/2020/accident.csv\",\"Resources/accident_labels.csv\",\"us_accident\",\"a\")\n",
    "    createCSV(f\"{base_path}/2019/accident.csv\",\"Resources/accident_labels.csv\",\"us_accident\",\"a\")"
   ]
  },
  {
   "cell_type": "code",
   "execution_count": 3,
   "id": "b7d5410d-c39d-4de5-852e-cd167e8fabdc",
   "metadata": {},
   "outputs": [],
   "source": [
    "import import_ipynb as ipynb\n",
    "def loadUSAccidentDataToMongoDB():\n",
    "    object_names = ['us_accident']\n",
    "    # Pass the collection names\n",
    "    from mongodb_load_databases import createMongoDB, validateMongoDB\n",
    "    db_name = 'us_accidents_db'\n",
    "    createMongoDB(db_name, object_names)\n",
    "    validateMongoDB(db_name)"
   ]
  },
  {
   "cell_type": "code",
   "execution_count": 4,
   "id": "7e682ec5-49a1-4304-87a5-c6d4db0a7134",
   "metadata": {},
   "outputs": [],
   "source": [
    "import import_ipynb as ipynb\n",
    "def loadUSAccidentDataToMongoDBCluster():\n",
    "    object_names = ['us_accident']\n",
    "    # Pass the collection names\n",
    "    from mongodb_load_databases import createMongoDBCluster, validateMongoDBCluster\n",
    "    db_name = 'us_accidents_db'\n",
    "    createMongoDBCluster(db_name, object_names)\n",
    "    validateMongoDBCluster(db_name)"
   ]
  },
  {
   "cell_type": "code",
   "execution_count": 5,
   "id": "5a38c1dc-7fda-4442-ab19-8b83f452270e",
   "metadata": {},
   "outputs": [
    {
     "name": "stdout",
     "output_type": "stream",
     "text": [
      "Starting to read the File\n",
      "################Labels to Save###################### Index(['STATE', 'STATENAME', 'ST_CASE', 'VE_TOTAL', 'PVH_INVL', 'PEDS',\n",
      "       'PERSONS', 'PERMVIT', 'PERNOTMVIT', 'COUNTYNAME', 'CITYNAME', 'DAY',\n",
      "       'MONTH', 'MONTHNAME', 'YEAR', 'DAY_WEEK', 'DAY_WEEKNAME', 'HOUR',\n",
      "       'HOURNAME', 'MINUTE', 'NHSNAME', 'ROUTENAME', 'TWAY_ID', 'RUR_URBNAME',\n",
      "       'FUNC_SYSNAME', 'RD_OWNERNAME', 'WEATHERNAME', 'LATITUDE', 'LONGITUD',\n",
      "       'SP_JURNAME', 'HARM_EVNAME', 'RELJCT1NAME', 'WRK_ZONENAME',\n",
      "       'REL_ROADNAME', 'LGT_CONDNAME', 'FATALS'],\n",
      "      dtype='object')\n",
      "################Updated CSV File#################        STATE STATENAME  ST_CASE  PEDS  PERNOTMVIT  VE_TOTAL  PVH_INVL  \\\n",
      "0          1   Alabama    10001     0           0         2         0   \n",
      "1          1   Alabama    10002     0           0         2         0   \n",
      "2          1   Alabama    10003     0           0         1         0   \n",
      "3          1   Alabama    10004     0           0         1         0   \n",
      "4          1   Alabama    10005     1           1         1         0   \n",
      "...      ...       ...      ...   ...         ...       ...       ...   \n",
      "39216     56   Wyoming   560114     0           0         2         0   \n",
      "39217     56   Wyoming   560115     0           0         1         0   \n",
      "39218     56   Wyoming   560116     0           0         1         0   \n",
      "39219     56   Wyoming   560117     0           0         1         0   \n",
      "39220     56   Wyoming   560118     0           0         1         0   \n",
      "\n",
      "       PERSONS  PERMVIT        COUNTYNAME  ...               SP_JURNAME  \\\n",
      "0            3        3     PICKENS (107)  ...  No Special Jurisdiction   \n",
      "1            5        5  MONTGOMERY (101)  ...  No Special Jurisdiction   \n",
      "2            2        2   ST. CLAIR (115)  ...  No Special Jurisdiction   \n",
      "3            1        1  MONTGOMERY (101)  ...  No Special Jurisdiction   \n",
      "4            1        1    JEFFERSON (73)  ...  No Special Jurisdiction   \n",
      "...        ...      ...               ...  ...                      ...   \n",
      "39216        2        2   SWEETWATER (37)  ...  No Special Jurisdiction   \n",
      "39217        1        1      LINCOLN (23)  ...                    Other   \n",
      "39218        1        1      LARAMIE (21)  ...  No Special Jurisdiction   \n",
      "39219        1        1      JOHNSON (19)  ...  No Special Jurisdiction   \n",
      "39220        4        4      LARAMIE (21)  ...  No Special Jurisdiction   \n",
      "\n",
      "        LATITUDE    LONGITUD                 HARM_EVNAME  RELJCT1NAME  \\\n",
      "0      33.490967  -88.274083  Motor Vehicle In-Transport           No   \n",
      "1      32.087125  -86.064153  Motor Vehicle In-Transport           No   \n",
      "2      33.428331  -86.351994        Tree (Standing Only)           No   \n",
      "3      32.216903  -86.400169                       Ditch           No   \n",
      "4      33.540281  -86.687389                  Pedestrian           No   \n",
      "...          ...         ...                         ...          ...   \n",
      "39216  41.586956 -109.248764  Motor Vehicle In-Transport           No   \n",
      "39217  42.398061 -110.909786           Rollover/Overturn           No   \n",
      "39218  41.144981 -104.824736                        Curb           No   \n",
      "39219  44.328569 -106.812689                     Boulder           No   \n",
      "39220  41.041992 -104.121756           Rollover/Overturn           No   \n",
      "\n",
      "      REL_ROADNAME  WRK_ZONENAME        LGT_CONDNAME WEATHERNAME  FATALS  \n",
      "0       On Roadway           NaN            Daylight       Clear       1  \n",
      "1       On Roadway           NaN            Daylight       Clear       2  \n",
      "2      On Roadside           NaN  Dark - Not Lighted      Cloudy       1  \n",
      "3      On Roadside           NaN            Daylight      Cloudy       1  \n",
      "4      On Shoulder           NaN  Dark - Not Lighted        Rain       1  \n",
      "...            ...           ...                 ...         ...     ...  \n",
      "39216   On Roadway           NaN            Daylight       Clear       1  \n",
      "39217   On Roadway           NaN                Dawn        Snow       1  \n",
      "39218  On Roadside           NaN            Daylight        Snow       1  \n",
      "39219  On Roadside           NaN  Dark - Not Lighted        Snow       1  \n",
      "39220  On Roadside           NaN  Dark - Not Lighted       Clear       1  \n",
      "\n",
      "[39221 rows x 36 columns]\n",
      "Starting to read the File\n",
      "################Labels to Save###################### Index(['STATE', 'STATENAME', 'ST_CASE', 'VE_TOTAL', 'PVH_INVL', 'PEDS',\n",
      "       'PERSONS', 'PERMVIT', 'PERNOTMVIT', 'COUNTYNAME', 'CITYNAME', 'DAY',\n",
      "       'MONTH', 'MONTHNAME', 'YEAR', 'DAY_WEEK', 'DAY_WEEKNAME', 'HOUR',\n",
      "       'HOURNAME', 'MINUTE', 'NHSNAME', 'ROUTENAME', 'TWAY_ID', 'RUR_URBNAME',\n",
      "       'FUNC_SYSNAME', 'RD_OWNERNAME', 'WEATHERNAME', 'LATITUDE', 'LONGITUD',\n",
      "       'SP_JURNAME', 'HARM_EVNAME', 'RELJCT1NAME', 'WRK_ZONENAME',\n",
      "       'REL_ROADNAME', 'LGT_CONDNAME', 'FATALS'],\n",
      "      dtype='object')\n",
      "################Updated CSV File#################        STATE STATENAME  ST_CASE  PEDS  PERNOTMVIT  VE_TOTAL  PVH_INVL  \\\n",
      "0          1   Alabama    10001     0           0         2         0   \n",
      "1          1   Alabama    10002     0           0         1         0   \n",
      "2          1   Alabama    10003     1           1         1         0   \n",
      "3          1   Alabama    10004     0           0         1         0   \n",
      "4          1   Alabama    10005     0           0         2         0   \n",
      "...      ...       ...      ...   ...         ...       ...       ...   \n",
      "39780     56   Wyoming   560100     0           0         1         0   \n",
      "39781     56   Wyoming   560101     0           0         2         0   \n",
      "39782     56   Wyoming   560102     0           0         1         0   \n",
      "39783     56   Wyoming   560103     1           1         1         0   \n",
      "39784     56   Wyoming   560104     0           0         2         0   \n",
      "\n",
      "       PERSONS  PERMVIT       COUNTYNAME  ...               SP_JURNAME  \\\n",
      "0            3        3  ST. CLAIR (115)  ...  No Special Jurisdiction   \n",
      "1            2        2   JEFFERSON (73)  ...  No Special Jurisdiction   \n",
      "2            1        1   JEFFERSON (73)  ...  No Special Jurisdiction   \n",
      "3            1        1     SHELBY (117)  ...  No Special Jurisdiction   \n",
      "4            4        4   JEFFERSON (73)  ...  No Special Jurisdiction   \n",
      "...        ...      ...              ...  ...                      ...   \n",
      "39780        2        2     JOHNSON (19)  ...  No Special Jurisdiction   \n",
      "39781        2        2     BIG HORN (3)  ...  No Special Jurisdiction   \n",
      "39782        1        1  SWEETWATER (37)  ...  No Special Jurisdiction   \n",
      "39783        1        1     LARAMIE (21)  ...  No Special Jurisdiction   \n",
      "39784        2        2     LINCOLN (23)  ...  No Special Jurisdiction   \n",
      "\n",
      "        LATITUDE    LONGITUD                 HARM_EVNAME  RELJCT1NAME  \\\n",
      "0      33.601642  -86.312383  Motor Vehicle In-Transport           No   \n",
      "1      33.541361  -86.643744    Concrete Traffic Barrier           No   \n",
      "2      33.419797  -86.752572                  Pedestrian           No   \n",
      "3      33.360894  -86.777139                       Ditch           No   \n",
      "4      33.815208  -86.825342  Motor Vehicle In-Transport           No   \n",
      "...          ...         ...                         ...          ...   \n",
      "39780  44.183594 -106.622031           Rollover/Overturn           No   \n",
      "39781  44.257797 -107.856219  Motor Vehicle In-Transport           No   \n",
      "39782  41.560719 -109.536278           Rollover/Overturn           No   \n",
      "39783  41.138878 -104.766653                  Pedestrian           No   \n",
      "39784  42.997253 -111.012300  Motor Vehicle In-Transport           No   \n",
      "\n",
      "      REL_ROADNAME  WRK_ZONENAME        LGT_CONDNAME WEATHERNAME  FATALS  \n",
      "0       On Roadway           NaN  Dark - Not Lighted        Rain       2  \n",
      "1        On Median           NaN  Dark - Not Lighted        Rain       2  \n",
      "2      On Shoulder           NaN  Dark - Not Lighted        Rain       1  \n",
      "3      On Roadside           NaN            Daylight       Clear       1  \n",
      "4       On Roadway           NaN  Dark - Not Lighted      Cloudy       1  \n",
      "...            ...           ...                 ...         ...     ...  \n",
      "39780  On Roadside           NaN            Daylight       Clear       1  \n",
      "39781   On Roadway           NaN  Dark - Not Lighted       Clear       1  \n",
      "39782  On Roadside           NaN            Daylight       Clear       1  \n",
      "39783   On Roadway           NaN  Dark - Not Lighted       Clear       1  \n",
      "39784   On Roadway           NaN  Dark - Not Lighted       Clear       1  \n",
      "\n",
      "[39785 rows x 36 columns]\n",
      "Starting to read the File\n",
      "################Labels to Save###################### Index(['STATE', 'STATENAME', 'ST_CASE', 'VE_TOTAL', 'PVH_INVL', 'PEDS',\n",
      "       'PERSONS', 'PERMVIT', 'PERNOTMVIT', 'COUNTYNAME', 'CITYNAME', 'DAY',\n",
      "       'MONTH', 'MONTHNAME', 'YEAR', 'DAY_WEEK', 'DAY_WEEKNAME', 'HOUR',\n",
      "       'HOURNAME', 'MINUTE', 'NHSNAME', 'ROUTENAME', 'TWAY_ID', 'RUR_URBNAME',\n",
      "       'FUNC_SYSNAME', 'RD_OWNERNAME', 'WEATHERNAME', 'LATITUDE', 'LONGITUD',\n",
      "       'SP_JURNAME', 'HARM_EVNAME', 'RELJCT1NAME', 'WRK_ZONENAME',\n",
      "       'REL_ROADNAME', 'LGT_CONDNAME', 'FATALS'],\n",
      "      dtype='object')\n",
      "################Updated CSV File#################        STATE STATENAME  ST_CASE  VE_TOTAL  PVH_INVL  PEDS  PERNOTMVIT  \\\n",
      "0          1   Alabama    10001         1         0     0           0   \n",
      "1          1   Alabama    10002         4         0     0           0   \n",
      "2          1   Alabama    10003         2         0     0           0   \n",
      "3          1   Alabama    10004         1         0     0           0   \n",
      "4          1   Alabama    10005         1         0     0           0   \n",
      "...      ...       ...      ...       ...       ...   ...         ...   \n",
      "35930     56   Wyoming   560111         2         0     0           0   \n",
      "35931     56   Wyoming   560112         3         0     0           0   \n",
      "35932     56   Wyoming   560113         3         0     0           0   \n",
      "35933     56   Wyoming   560114         2         0     1           1   \n",
      "35934     56   Wyoming   560115         1         0     0           0   \n",
      "\n",
      "       PERMVIT  PERSONS      COUNTYNAME  ...   LATITUDE    LONGITUD  \\\n",
      "0            4        4     ELMORE (51)  ...  32.433133  -86.094850   \n",
      "1            6        6  JEFFERSON (73)  ...  33.484658  -86.839544   \n",
      "2            2        2    SHELBY (117)  ...  33.299942  -86.369642   \n",
      "3            5        5    CALHOUN (15)  ...  33.795072  -85.883486   \n",
      "4            1        1      COOSA (37)  ...  32.848414  -86.083547   \n",
      "...        ...      ...             ...  ...        ...         ...   \n",
      "35930        2        2    LARAMIE (21)  ...  41.211981 -105.123781   \n",
      "35931        8        8    LINCOLN (23)  ...  42.814131 -110.957272   \n",
      "35932        9        9    FREMONT (13)  ...  42.993033 -108.406514   \n",
      "35933        3        3    LARAMIE (21)  ...  41.138478 -104.787133   \n",
      "35934        2        2     PLATTE (31)  ...  41.663031 -104.839778   \n",
      "\n",
      "                    SP_JURNAME                 HARM_EVNAME  RELJCT1NAME  \\\n",
      "0      No Special Jurisdiction        Tree (Standing Only)           No   \n",
      "1      No Special Jurisdiction  Motor Vehicle In-Transport           No   \n",
      "2      No Special Jurisdiction                       Ditch           No   \n",
      "3      No Special Jurisdiction        Tree (Standing Only)           No   \n",
      "4      No Special Jurisdiction        Tree (Standing Only)           No   \n",
      "...                        ...                         ...          ...   \n",
      "35930  No Special Jurisdiction  Motor Vehicle In-Transport           No   \n",
      "35931  No Special Jurisdiction  Motor Vehicle In-Transport           No   \n",
      "35932       Indian Reservation  Motor Vehicle In-Transport           No   \n",
      "35933  No Special Jurisdiction  Motor Vehicle In-Transport           No   \n",
      "35934  No Special Jurisdiction           Rollover/Overturn           No   \n",
      "\n",
      "       WRK_ZONENAME REL_ROADNAME        LGT_CONDNAME        WEATHERNAME  \\\n",
      "0               NaN  On Roadside  Dark - Not Lighted              Clear   \n",
      "1               NaN   On Roadway      Dark - Lighted               Rain   \n",
      "2               NaN  On Roadside            Daylight               Rain   \n",
      "3               NaN  On Roadside            Daylight             Cloudy   \n",
      "4               NaN  On Roadside  Dark - Not Lighted               Rain   \n",
      "...             ...          ...                 ...                ...   \n",
      "35930           NaN   On Roadway  Dark - Not Lighted               Snow   \n",
      "35931           NaN   On Roadway  Dark - Not Lighted              Clear   \n",
      "35932           NaN   On Roadway  Dark - Not Lighted               Snow   \n",
      "35933           NaN   On Roadway  Dark - Not Lighted              Clear   \n",
      "35934           NaN   On Roadway            Daylight  Severe Crosswinds   \n",
      "\n",
      "       FATALS  \n",
      "0           3  \n",
      "1           1  \n",
      "2           1  \n",
      "3           1  \n",
      "4           1  \n",
      "...       ...  \n",
      "35930       1  \n",
      "35931       2  \n",
      "35932       1  \n",
      "35933       1  \n",
      "35934       1  \n",
      "\n",
      "[35935 rows x 36 columns]\n",
      "Starting to read the File\n",
      "################Labels to Save###################### Index(['STATE', 'STATENAME', 'ST_CASE', 'VE_TOTAL', 'PVH_INVL', 'PEDS',\n",
      "       'PERSONS', 'PERMVIT', 'PERNOTMVIT', 'COUNTYNAME', 'CITYNAME', 'DAY',\n",
      "       'MONTH', 'MONTHNAME', 'YEAR', 'DAY_WEEK', 'DAY_WEEKNAME', 'HOUR',\n",
      "       'HOURNAME', 'MINUTE', 'NHSNAME', 'ROUTENAME', 'TWAY_ID', 'RUR_URBNAME',\n",
      "       'FUNC_SYSNAME', 'RD_OWNERNAME', 'WEATHERNAME', 'LATITUDE', 'LONGITUD',\n",
      "       'SP_JURNAME', 'HARM_EVNAME', 'RELJCT1NAME', 'WRK_ZONENAME',\n",
      "       'REL_ROADNAME', 'LGT_CONDNAME', 'FATALS'],\n",
      "      dtype='object')\n",
      "################Updated CSV File#################        STATE STATENAME  ST_CASE  VE_TOTAL  PVH_INVL  PEDS  PERSONS  PERMVIT  \\\n",
      "0          1   Alabama    10001         2         0     0        3        3   \n",
      "1          1   Alabama    10002         2         0     0        2        2   \n",
      "2          1   Alabama    10003         3         0     0        4        4   \n",
      "3          1   Alabama    10004         1         0     1        1        1   \n",
      "4          1   Alabama    10005         1         0     0        1        1   \n",
      "...      ...       ...      ...       ...       ...   ...      ...      ...   \n",
      "33482     56   Wyoming   560117         1         0     0        1        1   \n",
      "33483     56   Wyoming   560118         5         0     0        6        6   \n",
      "33484     56   Wyoming   560119         1         0     0        1        1   \n",
      "33485     56   Wyoming   560120         1         0     0        2        2   \n",
      "33486     56   Wyoming   560121         2         0     0        3        3   \n",
      "\n",
      "       PERNOTMVIT       COUNTYNAME  ...   LATITUDE    LONGITUD  \\\n",
      "0               0         LEE (81)  ...  32.666222  -85.336658   \n",
      "1               0      ETOWAH (55)  ...  33.997828  -86.053997   \n",
      "2               0    CLEBURNE (29)  ...  33.660842  -85.391011   \n",
      "3               1      ETOWAH (55)  ...  33.956472  -86.140522   \n",
      "4               0      BALDWIN (3)  ...  30.656269  -87.809461   \n",
      "...           ...              ...  ...        ...         ...   \n",
      "33482           0       CROOK (11)  ...  44.354406 -104.810853   \n",
      "33483           0       ALBANY (1)  ...  41.167136 -105.887706   \n",
      "33484           0    SHERIDAN (33)  ...  44.912142 -107.104503   \n",
      "33485           0     LARAMIE (21)  ...  41.403750 -104.456917   \n",
      "33486           0  SWEETWATER (37)  ...  41.522656 -109.447392   \n",
      "\n",
      "                    SP_JURNAME                 HARM_EVNAME  RELJCT1NAME  \\\n",
      "0      No Special Jurisdiction  Motor Vehicle In-Transport           No   \n",
      "1      No Special Jurisdiction  Motor Vehicle In-Transport           No   \n",
      "2      No Special Jurisdiction  Motor Vehicle In-Transport           No   \n",
      "3      No Special Jurisdiction                  Pedestrian           No   \n",
      "4      No Special Jurisdiction           Rollover/Overturn           No   \n",
      "...                        ...                         ...          ...   \n",
      "33482  No Special Jurisdiction           Rollover/Overturn           No   \n",
      "33483  No Special Jurisdiction  Motor Vehicle In-Transport           No   \n",
      "33484  No Special Jurisdiction           Rollover/Overturn           No   \n",
      "33485  No Special Jurisdiction                  Embankment           No   \n",
      "33486  No Special Jurisdiction  Motor Vehicle In-Transport          Yes   \n",
      "\n",
      "                  WRK_ZONENAME REL_ROADNAME        LGT_CONDNAME  \\\n",
      "0                          NaN   On Roadway            Daylight   \n",
      "1                          NaN   On Roadway  Dark - Not Lighted   \n",
      "2                          NaN   On Roadway  Dark - Not Lighted   \n",
      "3                          NaN   On Roadway  Dark - Not Lighted   \n",
      "4                          NaN  On Roadside  Dark - Not Lighted   \n",
      "...                        ...          ...                 ...   \n",
      "33482                      NaN   On Roadway                Dusk   \n",
      "33483                      NaN   On Roadway            Daylight   \n",
      "33484                      NaN  On Roadside            Daylight   \n",
      "33485  Work Zone, Type Unknown    On Median  Dark - Not Lighted   \n",
      "33486                      NaN   On Roadway  Dark - Not Lighted   \n",
      "\n",
      "             WEATHERNAME  FATALS  \n",
      "0                  Clear       1  \n",
      "1                   Rain       1  \n",
      "2                 Cloudy       1  \n",
      "3                  Clear       1  \n",
      "4       Fog, Smog, Smoke       1  \n",
      "...                  ...     ...  \n",
      "33482  Severe Crosswinds       1  \n",
      "33483              Clear       1  \n",
      "33484              Clear       1  \n",
      "33485              Clear       1  \n",
      "33486               Rain       2  \n",
      "\n",
      "[33487 rows x 36 columns]\n",
      "importing Jupyter notebook from mongodb_load_databases.ipynb\n",
      "Imported Resources/us_accident.csv into collection us_accident.\n",
      "['admin', 'config', 'local', 'us_accidents_db']\n",
      "['us_accident']\n",
      "us_accident 148428\n"
     ]
    }
   ],
   "source": [
    "base_path = Path(\"Resources/accident_data\")\n",
    "createUSAccidentData(base_path)\n",
    "loadUSAccidentDataToMongoDB()"
   ]
  },
  {
   "cell_type": "code",
   "execution_count": 6,
   "id": "61ab0296-1df1-4b45-8f8a-598b70361d56",
   "metadata": {},
   "outputs": [
    {
     "name": "stdout",
     "output_type": "stream",
     "text": [
      "['admin', 'config', 'local', 'us_accidents_db']\n"
     ]
    }
   ],
   "source": [
    "# Import dependencies\n",
    "from pymongo import MongoClient\n",
    "from pprint import pprint\n",
    "\n",
    "# Create an instance of MongoClient\n",
    "mongo = MongoClient(port=27017)\n",
    "\n",
    "# confirm that the \"autosaurus\" database is in MongoDB\n",
    "print(mongo.list_database_names())"
   ]
  },
  {
   "cell_type": "code",
   "execution_count": 7,
   "id": "6cbb30e9-536e-49c5-ada3-cf87b5834d40",
   "metadata": {},
   "outputs": [
    {
     "name": "stdout",
     "output_type": "stream",
     "text": [
      "['us_accident']\n"
     ]
    }
   ],
   "source": [
    "# assign the database to a variable name\n",
    "db = mongo['us_accidents_db']\n",
    "# review the collections in our new database\n",
    "print(db.list_collection_names())"
   ]
  },
  {
   "cell_type": "code",
   "execution_count": 8,
   "id": "c4896dab-de7c-4170-9933-4277a4638127",
   "metadata": {},
   "outputs": [],
   "source": [
    "# assign each collection to a variable\n",
    "accident = db['us_accident']"
   ]
  },
  {
   "cell_type": "code",
   "execution_count": 9,
   "id": "ccc515d7-b7ba-4955-aca6-1b7d9cea59c5",
   "metadata": {},
   "outputs": [
    {
     "name": "stdout",
     "output_type": "stream",
     "text": [
      "Total Fatalities:  148428\n"
     ]
    }
   ],
   "source": [
    "#Calculate total fatalities over all years\n",
    "total_fatalities = accident.count_documents({})\n",
    "#Display the data\n",
    "print(\"Total Fatalities: \", total_fatalities)"
   ]
  },
  {
   "cell_type": "code",
   "execution_count": 10,
   "id": "6fabeb0a-9142-4c9f-a750-8e67cb7a1dae",
   "metadata": {},
   "outputs": [
    {
     "name": "stdout",
     "output_type": "stream",
     "text": [
      "\n",
      "Fatalities by Year:\n",
      "   Year  FATALS\n",
      "0  2022   39221\n",
      "1  2021   39785\n",
      "2  2020   35935\n",
      "3  2019   33487\n"
     ]
    }
   ],
   "source": [
    "#Calculate fatalities by year\n",
    "pipeline_year = [\n",
    "    {\"$group\": {\"_id\": \"$YEAR\", \"FATALS\": {\"$sum\": 1}}},\n",
    "    {\"$sort\": {\"_id\": -1}}  # Sort by year descending\n",
    "]\n",
    "fatalities_by_year = list(accident.aggregate(pipeline_year))\n",
    "df_year = pd.DataFrame(fatalities_by_year).rename(columns={'_id': 'Year'})\n",
    "\n",
    "print(\"\\nFatalities by Year:\")\n",
    "print(df_year)"
   ]
  },
  {
   "cell_type": "code",
   "execution_count": 11,
   "id": "dd38e42f-3c12-4535-8bf2-7c350184bdbd",
   "metadata": {
    "scrolled": true
   },
   "outputs": [
    {
     "name": "stdout",
     "output_type": "stream",
     "text": [
      "\n",
      "Fatalities by State:\n",
      "                   State  FATALS\n",
      "0             California   15405\n",
      "1                  Texas   14854\n",
      "2                Florida   12800\n",
      "3                Georgia    6254\n",
      "4         North Carolina    5836\n",
      "5                   Ohio    4615\n",
      "6              Tennessee    4604\n",
      "7               Illinois    4381\n",
      "8           Pennsylvania    4295\n",
      "9                Arizona    4133\n",
      "10              Michigan    4043\n",
      "11              New York    4040\n",
      "12        South Carolina    4022\n",
      "13              Missouri    3626\n",
      "14               Alabama    3506\n",
      "15              Virginia    3422\n",
      "16               Indiana    3314\n",
      "17             Louisiana    3181\n",
      "18              Kentucky    2803\n",
      "19           Mississippi    2606\n",
      "20              Oklahoma    2508\n",
      "21              Colorado    2456\n",
      "22            New Jersey    2377\n",
      "23            Washington    2350\n",
      "24              Arkansas    2284\n",
      "25             Wisconsin    2206\n",
      "26              Maryland    2098\n",
      "27                Oregon    2020\n",
      "28            New Mexico    1582\n",
      "29             Minnesota    1571\n",
      "30                Kansas    1487\n",
      "31         Massachusetts    1455\n",
      "32                Nevada    1337\n",
      "33                  Iowa    1259\n",
      "34           Connecticut    1130\n",
      "35                  Utah    1074\n",
      "36         West Virginia    1003\n",
      "37              Nebraska     835\n",
      "38                 Idaho     829\n",
      "39               Montana     762\n",
      "40                 Maine     600\n",
      "41              Delaware     501\n",
      "42          South Dakota     472\n",
      "43               Wyoming     454\n",
      "44         New Hampshire     431\n",
      "45                Hawaii     388\n",
      "46          North Dakota     368\n",
      "47                Alaska     252\n",
      "48               Vermont     244\n",
      "49          Rhode Island     231\n",
      "50  District of Columbia     124\n"
     ]
    }
   ],
   "source": [
    "pipeline_state = [\n",
    "    {\"$group\":{\"_id\": \"$STATENAME\", \"FATALS\": {\"$sum\": 1}}},\n",
    "    {\"$sort\": {\"FATALS\": -1}}  # Sort by fatalities descending\n",
    "]\n",
    "fatalities_by_state = list(accident.aggregate(pipeline_state))\n",
    "df_state = pd.DataFrame(fatalities_by_state).rename(columns={'_id': 'State'})\n",
    "print(\"\\nFatalities by State:\")\n",
    "print(df_state)\n"
   ]
  },
  {
   "cell_type": "code",
   "execution_count": 12,
   "id": "5dba1f75-8a12-4d70-8bd9-e158833e14cd",
   "metadata": {},
   "outputs": [],
   "source": [
    "#Calculate fatalities by state\n",
    "def groupByStateAndYear(collection_obj):\n",
    "    pipeline_state = [\n",
    "        {\"$group\": {\"_id\": {\"Year\":\"$YEAR\",\"StateID\":\"$STATE\",\"State\":\"$STATENAME\"}, \"Fatal Crashes\": {\"$sum\": 1}}},\n",
    "        {\"$sort\": {\"_id.Year\":-1 ,\"_id.State\": 1}}  # Sort by fatalities descending\n",
    "    ]\n",
    "    result = list(collection_obj.aggregate(pipeline_state))\n",
    "    \n",
    "    # Convert to DataFrame\n",
    "    df_state = pd.DataFrame(result)\n",
    "    \n",
    "    # Flatten the DataFrame\n",
    "    df_state = pd.concat([df_state.drop(['_id'], axis=1), df_state['_id'].apply(pd.Series)], axis=1)\n",
    "    df_state = df_state.reindex(columns=['StateID','Year','State','Fatal Crashes'])\n",
    "    print(\"\\nFatalities by State:\")\n",
    "    print(df_state)\n"
   ]
  },
  {
   "cell_type": "code",
   "execution_count": 13,
   "id": "069dca87-d31c-452f-9327-c49071c6f032",
   "metadata": {},
   "outputs": [
    {
     "name": "stdout",
     "output_type": "stream",
     "text": [
      "\n",
      "Fatalities by State:\n",
      "     StateID  Year          State  Fatal Crashes\n",
      "0          1  2022        Alabama            913\n",
      "1          2  2022         Alaska             75\n",
      "2          4  2022        Arizona           1183\n",
      "3          5  2022       Arkansas            583\n",
      "4          6  2022     California           4109\n",
      "..       ...   ...            ...            ...\n",
      "199       51  2019       Virginia            774\n",
      "200       53  2019     Washington            513\n",
      "201       54  2019  West Virginia            247\n",
      "202       55  2019      Wisconsin            527\n",
      "203       56  2019        Wyoming            120\n",
      "\n",
      "[204 rows x 4 columns]\n"
     ]
    }
   ],
   "source": [
    "groupByStateAndYear(accident)"
   ]
  },
  {
   "cell_type": "code",
   "execution_count": 14,
   "id": "dc356b10-73f1-4dd8-8780-cd58ad910577",
   "metadata": {
    "scrolled": true
   },
   "outputs": [
    {
     "name": "stdout",
     "output_type": "stream",
     "text": [
      "\n",
      "Fatalities by Month:\n",
      "    MonthID      Month  Year  Fatal Crashes\n",
      "0         1    January  2022           2946\n",
      "1         1    January  2021           2837\n",
      "2         1    January  2020           2486\n",
      "3         1    January  2019           2476\n",
      "4         2   February  2022           2748\n",
      "5         2   February  2021           2351\n",
      "6         2   February  2020           2453\n",
      "7         2   February  2019           2205\n",
      "8         3      March  2022           3050\n",
      "9         3      March  2021           2916\n",
      "10        3      March  2020           2375\n",
      "11        3      March  2019           2544\n",
      "12        4      April  2022           2951\n",
      "13        4      April  2021           3285\n",
      "14        4      April  2020           2130\n",
      "15        4      April  2019           2611\n",
      "16        5        May  2022           3376\n",
      "17        5        May  2021           3440\n",
      "18        5        May  2020           2876\n",
      "19        5        May  2019           2917\n",
      "20        6       June  2022           3359\n",
      "21        6       June  2021           3483\n",
      "22        6       June  2020           3380\n",
      "23        6       June  2019           2926\n",
      "24        7       July  2022           3558\n",
      "25        7       July  2021           3586\n",
      "26        7       July  2020           3489\n",
      "27        7       July  2019           3037\n",
      "28        8     August  2022           3554\n",
      "29        8     August  2021           3745\n",
      "30        8     August  2020           3539\n",
      "31        8     August  2019           3091\n",
      "32        9  September  2022           3587\n",
      "33        9  September  2021           3641\n",
      "34        9  September  2020           3447\n",
      "35        9  September  2019           3093\n",
      "36       10    October  2022           3674\n",
      "37       10    October  2021           3822\n",
      "38       10    October  2020           3542\n",
      "39       10    October  2019           2972\n",
      "40       11   November  2022           3200\n",
      "41       11   November  2021           3370\n",
      "42       11   November  2020           3204\n",
      "43       11   November  2019           2841\n",
      "44       12   December  2022           3218\n",
      "45       12   December  2021           3309\n",
      "46       12   December  2020           3014\n",
      "47       12   December  2019           2774\n"
     ]
    }
   ],
   "source": [
    "#Calculate fatalities by \"Monthwise only\"\n",
    "pipeline_month = [\n",
    "    {\"$group\": {\"_id\": {\"Year\":\"$YEAR\",\"MonthID\":\"$MONTH\", \"Month\":\"$MONTHNAME\"}, \"Fatal Crashes\": {\"$sum\": 1}}},\n",
    "    {\"$sort\": {\"_id.MonthID\":1,\"_id.Year\":-1}}  # Sort by month name alphabetically\n",
    "]\n",
    "result = list(accident.aggregate(pipeline_month))\n",
    "# Convert to DataFrame\n",
    "df_month = pd.DataFrame(result)\n",
    "\n",
    "# Flatten the DataFrame\n",
    "df_month = pd.concat([df_month.drop(['_id'], axis=1), df_month['_id'].apply(pd.Series)], axis=1)\n",
    "df_month = df_month.reindex(columns=['MonthID','Month','Year','Fatal Crashes'])\n",
    "print(\"\\nFatalities by Month:\")\n",
    "print(df_month)\n"
   ]
  },
  {
   "cell_type": "code",
   "execution_count": 22,
   "id": "9b7d3c26-a2dd-427c-8e8f-44eddd35cb87",
   "metadata": {},
   "outputs": [
    {
     "name": "stdout",
     "output_type": "stream",
     "text": [
      "\n",
      "Fatalities by Hour:\n",
      "     Year  HourID             Hour  WeekID Week Name  Fatal Crashes\n",
      "0    2022       0    0:00am-0:59am       1    Sunday            410\n",
      "1    2022       1    1:00am-1:59am       1    Sunday            397\n",
      "2    2022       2    2:00am-2:59am       1    Sunday            432\n",
      "3    2022       3    3:00am-3:59am       1    Sunday            283\n",
      "4    2022       4    4:00am-4:59am       1    Sunday            219\n",
      "..    ...     ...              ...     ...       ...            ...\n",
      "667  2019      19    7:00pm-7:59pm       7  Saturday            331\n",
      "668  2019      20    8:00pm-8:59pm       7  Saturday            343\n",
      "669  2019      21    9:00pm-9:59pm       7  Saturday            359\n",
      "670  2019      22  10:00pm-10:59pm       7  Saturday            330\n",
      "671  2019      23  11:00pm-11:59pm       7  Saturday            324\n",
      "\n",
      "[672 rows x 6 columns]\n"
     ]
    }
   ],
   "source": [
    "#Calculate fatalities by Hour & Week\n",
    "pipeline_hour = [\n",
    "{\"$match\": {\"HOUR\": {\"$lte\": 23}}},\n",
    "{\"$group\": {\"_id\": {\"Year\":\"$YEAR\",\"WeekID\":\"$DAY_WEEK\",\"Week Name\":\"$DAY_WEEKNAME\",\"HourID\":\"$HOUR\",\"Hour\":\"$HOURNAME\"}, \"Fatal Crashes\": {\"$sum\": 1}}},\n",
    "{\"$sort\": {\"_id.Year\":-1,\"_id.WeekID\":1,'_id.HourID':1}}\n",
    "]\n",
    "result = list(accident.aggregate(pipeline_hour))\n",
    "# Convert to DataFrame\n",
    "df_hour = pd.DataFrame(result)\n",
    "    \n",
    "# Flatten the DataFrame\n",
    "df_hour = pd.concat([df_hour.drop(['_id'], axis=1), df_hour['_id'].apply(pd.Series)], axis=1)\n",
    "df_hour = df_hour.reindex(columns=['Year','HourID','Hour','WeekID','Week Name','Fatal Crashes'])\n",
    "print(\"\\nFatalities by Hour:\")\n",
    "print(df_hour)\n",
    "    "
   ]
  },
  {
   "cell_type": "code",
   "execution_count": 16,
   "id": "2ef7393c-831d-4d4d-834a-a36a6c407492",
   "metadata": {},
   "outputs": [
    {
     "name": "stdout",
     "output_type": "stream",
     "text": [
      "\n",
      "Fatalities by County:\n",
      "       StateID    State           County  Year  Fatal Crashes\n",
      "0            1  Alabama     CULLMAN (43)  2022             27\n",
      "1            1  Alabama       BLOUNT (9)  2022             12\n",
      "2            1  Alabama      MOBILE (97)  2022             67\n",
      "3            1  Alabama     CONECUH (35)  2022              4\n",
      "4            1  Alabama    CLEBURNE (29)  2022              7\n",
      "...        ...      ...              ...   ...            ...\n",
      "11456       56  Wyoming      PLATTE (31)  2019              6\n",
      "11457       56  Wyoming     NATRONA (25)  2019              7\n",
      "11458       56  Wyoming     JOHNSON (19)  2019              5\n",
      "11459       56  Wyoming      GOSHEN (15)  2019              2\n",
      "11460       56  Wyoming  SWEETWATER (37)  2019             14\n",
      "\n",
      "[11461 rows x 5 columns]\n"
     ]
    }
   ],
   "source": [
    "#Calculate fatalities by county\n",
    "pipeline_county = [\n",
    "    {\"$group\": {\"_id\": {\"Year\":\"$YEAR\",\"StateID\":\"$STATE\",\"State\":\"$STATENAME\",\"County\": \"$COUNTYNAME\"}, \"Fatal Crashes\": {\"$sum\": 1}}},\n",
    "    {\"$sort\": {\"_id.State\":1,\"_id.Year\":-1}}  # Sort by county name alphabetically\n",
    "]\n",
    "result = list(accident.aggregate(pipeline_county))\n",
    "# Convert to DataFrame\n",
    "df_county = pd.DataFrame(result)\n",
    "\n",
    "# Flatten the DataFrame\n",
    "df_county = pd.concat([df_county.drop(['_id'], axis=1), df_county['_id'].apply(pd.Series)], axis=1)\n",
    "df_county  = df_county .reindex(columns=['StateID','State','County','Year','Fatal Crashes'])\n",
    "print(\"\\nFatalities by County:\")\n",
    "print(df_county)\n"
   ]
  },
  {
   "cell_type": "code",
   "execution_count": 17,
   "id": "123d0139-a5c5-4e1e-a1cc-b2ceea0a20aa",
   "metadata": {},
   "outputs": [
    {
     "name": "stdout",
     "output_type": "stream",
     "text": [
      "\n",
      "Fatalities by City:\n",
      "       StateID    State          City  Year  Fatal Crashes\n",
      "0            1  Alabama      LEESBURG  2022              2\n",
      "1            1  Alabama        AUBURN  2022              6\n",
      "2            1  Alabama   PHENIX CITY  2022              5\n",
      "3            1  Alabama       LINCOLN  2022              1\n",
      "4            1  Alabama        TRIANA  2022              1\n",
      "...        ...      ...           ...   ...            ...\n",
      "21105       56  Wyoming  ROCK SPRINGS  2019              2\n",
      "21106       56  Wyoming      CHEYENNE  2019              3\n",
      "21107       56  Wyoming        LANDER  2019              1\n",
      "21108       56  Wyoming      GILLETTE  2019              3\n",
      "21109       56  Wyoming      SHERIDAN  2019              3\n",
      "\n",
      "[21110 rows x 5 columns]\n"
     ]
    }
   ],
   "source": [
    "#Calculate fatalities by city\n",
    "pipeline_city = [\n",
    "    {\"$group\":{\"_id\":{\"Year\":\"$YEAR\",\"StateID\":\"$STATE\",\"State\":\"$STATENAME\",\"City\": \"$CITYNAME\"}, \"Fatal Crashes\": {\"$sum\": 1}}},\n",
    "    {\"$sort\": {\"_id.State\": 1,\"_id.Year\": -1}}  # Sort by city name alphabetically\n",
    "]\n",
    "result = list(accident.aggregate(pipeline_city))\n",
    "# Convert to DataFrame\n",
    "df_city = pd.DataFrame(result)\n",
    "\n",
    "# Flatten the DataFrame\n",
    "df_city = pd.concat([df_city.drop(['_id'], axis=1), df_city['_id'].apply(pd.Series)], axis=1)\n",
    "df_city  = df_city.reindex(columns=['StateID','State','City','Year','Fatal Crashes'])\n",
    "print(\"\\nFatalities by City:\")\n",
    "print(df_city)"
   ]
  },
  {
   "cell_type": "code",
   "execution_count": null,
   "id": "a7716d08-a08c-4216-bf0b-ec2489005954",
   "metadata": {},
   "outputs": [],
   "source": []
  },
  {
   "cell_type": "code",
   "execution_count": 18,
   "id": "c8d67746-5ab6-4c83-80fa-855656d733a9",
   "metadata": {},
   "outputs": [
    {
     "name": "stdout",
     "output_type": "stream",
     "text": [
      "\n",
      "Fatalities by Rural/Urban:\n",
      "      StateID    State  Year Rural/Urban           Functional System  \\\n",
      "0           1  Alabama  2022       Urban                  Interstate   \n",
      "1           1  Alabama  2022       Rural                  Interstate   \n",
      "2           1  Alabama  2022       Rural                     Unknown   \n",
      "3           1  Alabama  2022       Rural              Minor Arterial   \n",
      "4           1  Alabama  2022       Rural             Minor Collector   \n",
      "...       ...      ...   ...         ...                         ...   \n",
      "2661       56  Wyoming  2019       Urban                       Local   \n",
      "2662       56  Wyoming  2019       Rural                       Local   \n",
      "2663       56  Wyoming  2019       Urban  Principal Arterial - Other   \n",
      "2664       56  Wyoming  2019       Rural  Principal Arterial - Other   \n",
      "2665       56  Wyoming  2019       Rural             Major Collector   \n",
      "\n",
      "      Fatal Crashes  \n",
      "0                66  \n",
      "1                58  \n",
      "2                 1  \n",
      "3               106  \n",
      "4                16  \n",
      "...             ...  \n",
      "2661             11  \n",
      "2662              7  \n",
      "2663              5  \n",
      "2664             34  \n",
      "2665             10  \n",
      "\n",
      "[2666 rows x 6 columns]\n"
     ]
    }
   ],
   "source": [
    "# #Calculate fatalities by rural vs urban areas\n",
    "pipeline_rural_urban = [\n",
    "    # Add a match stage to filter only Rural and Urban entries\n",
    "    {\"$match\": {\"RUR_URBNAME\": {\"$in\": [\"Rural\", \"Urban\"]}}},\n",
    "    {\"$group\":{\"_id\":{\"Year\":\"$YEAR\",\"StateID\":\"$STATE\",\"State\":\"$STATENAME\",\"Rural/Urban\":\"$RUR_URBNAME\", \"Functional System\":\"$FUNC_SYSNAME\"}, \"Fatal Crashes\": {\"$sum\": 1}}},\n",
    "    {\"$sort\": {\"_id.Year\": -1,\"_id.StateID\":1}}\n",
    "]\n",
    "result = list(accident.aggregate(pipeline_rural_urban))\n",
    "# Convert to DataFrame\n",
    "df_rural_urban = pd.DataFrame(result)\n",
    "\n",
    "# Flatten the DataFrame\n",
    "df_rural_urban = pd.concat([df_rural_urban.drop(['_id'], axis=1), df_rural_urban['_id'].apply(pd.Series)], axis=1)\n",
    "df_rural_urban  = df_rural_urban.reindex(columns=['StateID','State','Year','Rural/Urban','Functional System','Fatal Crashes'])\n",
    "print(\"\\nFatalities by Rural/Urban:\")\n",
    "print(df_rural_urban)\n"
   ]
  },
  {
   "cell_type": "code",
   "execution_count": 19,
   "id": "76a0588d-ab64-495a-9ece-52d314a847c4",
   "metadata": {},
   "outputs": [
    {
     "name": "stdout",
     "output_type": "stream",
     "text": [
      "\n",
      "Fatalities by Rural/Urban:\n",
      "    Year Rural/Urban                                  Functional System  \\\n",
      "0   2022       Rural                                    Minor Collector   \n",
      "1   2022       Rural  Principal Arterial - Other Freeways and Expres...   \n",
      "2   2022       Urban                                    Major Collector   \n",
      "3   2022       Urban                                     Minor Arterial   \n",
      "4   2022       Rural                                            Unknown   \n",
      "..   ...         ...                                                ...   \n",
      "65  2019       Urban                                    Major Collector   \n",
      "66  2019       Urban                                       Not Reported   \n",
      "67  2019       Urban                                         Interstate   \n",
      "68  2019       Rural                                    Major Collector   \n",
      "69  2019       Urban  Principal Arterial - Other Freeways and Expres...   \n",
      "\n",
      "    Fatal Crashes  \n",
      "0             937  \n",
      "1             281  \n",
      "2            2558  \n",
      "3            5821  \n",
      "4               3  \n",
      "..            ...  \n",
      "65           1741  \n",
      "66             10  \n",
      "67           2491  \n",
      "68           3218  \n",
      "69           1065  \n",
      "\n",
      "[70 rows x 4 columns]\n"
     ]
    }
   ],
   "source": [
    "#Calculate fatalities by Rural/Urban\n",
    "pipeline_rural_urban = [\n",
    "    # Add a match stage to filter only Rural and Urban entries\n",
    "    {\"$match\": {\"RUR_URBNAME\": {\"$in\": [\"Rural\", \"Urban\"]}}},\n",
    "    {\"$group\":{\"_id\":{\"Year\":\"$YEAR\",\"Rural/Urban\":\"$RUR_URBNAME\",\"Functional System\":\"$FUNC_SYSNAME\"}, \"Fatal Crashes\": {\"$sum\": 1}}},\n",
    "    {\"$sort\": {\"_id.Year\": -1}}\n",
    "]\n",
    "result = list(accident.aggregate(pipeline_rural_urban))\n",
    "# Convert to DataFrame\n",
    "df_rural_urban = pd.DataFrame(result)\n",
    "\n",
    "# Flatten the DataFrame\n",
    "df_rural_urban = pd.concat([df_rural_urban.drop(['_id'], axis=1), df_rural_urban['_id'].apply(pd.Series)], axis=1)\n",
    "df_rural_urban  = df_rural_urban.reindex(columns=['Year','Rural/Urban','Functional System','Fatal Crashes'])\n",
    "print(\"\\nFatalities by Rural/Urban:\")\n",
    "print(df_rural_urban)\n"
   ]
  },
  {
   "cell_type": "code",
   "execution_count": 20,
   "id": "2b605154-ea6a-4cd0-bf18-2c62c69b15b4",
   "metadata": {
    "scrolled": true
   },
   "outputs": [
    {
     "name": "stdout",
     "output_type": "stream",
     "text": [
      "\n",
      "Fatalities by Weather:\n",
      "      StateID    State  Year              Weather  Fatal Crashes\n",
      "0           1  Alabama  2022         Blowing Snow              1\n",
      "1           1  Alabama  2022                Clear            670\n",
      "2           1  Alabama  2022  Reported as Unknown              3\n",
      "3           1  Alabama  2022               Cloudy            146\n",
      "4           1  Alabama  2022                 Rain             82\n",
      "...       ...      ...   ...                  ...            ...\n",
      "1598       56  Wyoming  2019         Blowing Snow              2\n",
      "1599       56  Wyoming  2019     Fog, Smog, Smoke              1\n",
      "1600       56  Wyoming  2019                 Snow             12\n",
      "1601       56  Wyoming  2019               Cloudy              7\n",
      "1602       56  Wyoming  2019                 Rain              4\n",
      "\n",
      "[1603 rows x 5 columns]\n"
     ]
    }
   ],
   "source": [
    "#Calculate fatalities by Weather\n",
    "pipeline_weather = [\n",
    "    {\"$group\": {\"_id\":{\"Year\":\"$YEAR\",\"StateID\":\"$STATE\",\"State\":\"$STATENAME\",\"Weather\":\"$WEATHERNAME\"}, \"Fatal Crashes\": {\"$sum\": 1}}},\n",
    "    {\"$sort\": {\"_id.State\": 1,\"_id.Year\":-1}}\n",
    "]\n",
    "result = list(accident.aggregate(pipeline_weather))\n",
    "# Convert to DataFrame\n",
    "df_weather = pd.DataFrame(result)\n",
    "\n",
    "# Flatten the DataFrame\n",
    "df_weather = pd.concat([df_weather.drop(['_id'], axis=1), df_weather['_id'].apply(pd.Series)], axis=1)\n",
    "df_weather  = df_weather.reindex(columns=['StateID','State','Year','Weather','Fatal Crashes'])\n",
    "print(\"\\nFatalities by Weather:\")\n",
    "print(df_weather)"
   ]
  },
  {
   "cell_type": "code",
   "execution_count": 21,
   "id": "f17fb7d7-a20c-43c5-a5af-13b19488a030",
   "metadata": {},
   "outputs": [],
   "source": [
    "def getAccidentData(YEAR=None, STATE=None):\n",
    "    # Define the fields you want to select\n",
    "    fields_to_select = {'YEAR': 1, 'STATE':1, 'STATENAME':1, 'FATALS': 1, 'LATITUDE':1, 'LONGITUD':1,'_id': 0}       \n",
    "    filter_condition = {\"YEAR\": YEAR, \"STATE\": STATE}\n",
    "        \n",
    "    # Perform the query using find() with projection\n",
    "    query_result = accident.find(filter_condition,fields_to_select)\n",
    "\n",
    "    # Convert the result to a pandas DataFrame\n",
    "    df = pd.DataFrame(list(query_result))\n",
    "\n",
    "    # Display the DataFrame\n",
    "    print(df)     "
   ]
  },
  {
   "cell_type": "code",
   "execution_count": 22,
   "id": "7cad861a-438a-47b8-81fa-686f4e73b1f0",
   "metadata": {},
   "outputs": [
    {
     "name": "stdout",
     "output_type": "stream",
     "text": [
      "    STATE STATENAME  YEAR   LATITUDE    LONGITUD  FATALS\n",
      "0       2    Alaska  2022  61.209747 -149.793519       1\n",
      "1       2    Alaska  2022  61.568006 -149.321681       1\n",
      "2       2    Alaska  2022  61.569825 -149.677964       1\n",
      "3       2    Alaska  2022  60.819544 -149.149031       1\n",
      "4       2    Alaska  2022  61.683050 -145.168969       1\n",
      "..    ...       ...   ...        ...         ...     ...\n",
      "70      2    Alaska  2022  61.561892 -149.467089       1\n",
      "71      2    Alaska  2022  64.768811 -147.345956       1\n",
      "72      2    Alaska  2022  64.825367 -147.543681       1\n",
      "73      2    Alaska  2022  64.824628 -147.710350       1\n",
      "74      2    Alaska  2022  64.903381 -147.659656       1\n",
      "\n",
      "[75 rows x 6 columns]\n"
     ]
    }
   ],
   "source": [
    "getAccidentData(2022,2)"
   ]
  },
  {
   "cell_type": "code",
   "execution_count": 78,
   "id": "b29ee898-fe10-4b60-b270-d8894f196f67",
   "metadata": {},
   "outputs": [
    {
     "name": "stdout",
     "output_type": "stream",
     "text": [
      "\n",
      "Fatalities by State:\n",
      "            State  FATALS State_Abbr\n",
      "0      California   15405         CA\n",
      "1           Texas   14854         TX\n",
      "2         Florida   12800         FL\n",
      "3         Georgia    6254         GA\n",
      "4  North Carolina    5836         NC\n"
     ]
    },
    {
     "data": {
      "application/vnd.plotly.v1+json": {
       "config": {
        "plotlyServerURL": "https://plot.ly"
       },
       "data": [
        {
         "coloraxis": "coloraxis",
         "geo": "geo",
         "hovertemplate": "State_Abbr=%{location}<br>FATALS=%{z}<extra></extra>",
         "locationmode": "USA-states",
         "locations": [
          "CA",
          "TX",
          "FL",
          "GA",
          "NC",
          "OH",
          "TN",
          "IL",
          "PA",
          "AZ",
          "MI",
          "NY",
          "SC",
          "MO",
          "AL",
          "VA",
          "IN",
          "LA",
          "KY",
          "MS",
          "OK",
          "CO",
          "NJ",
          "WA",
          "AR",
          "WI",
          "MD",
          "OR",
          "NM",
          "MN",
          "KS",
          "MA",
          "NV",
          "IA",
          "CT",
          "UT",
          "WV",
          "NE",
          "ID",
          "MT",
          "ME",
          "DE",
          "SD",
          "WY",
          "NH",
          "HI",
          "ND",
          "AK",
          "VT",
          "RI"
         ],
         "name": "",
         "type": "choropleth",
         "z": [
          15405,
          14854,
          12800,
          6254,
          5836,
          4615,
          4604,
          4381,
          4295,
          4133,
          4043,
          4040,
          4022,
          3626,
          3506,
          3422,
          3314,
          3181,
          2803,
          2606,
          2508,
          2456,
          2377,
          2350,
          2284,
          2206,
          2098,
          2020,
          1582,
          1571,
          1487,
          1455,
          1337,
          1259,
          1130,
          1074,
          1003,
          835,
          829,
          762,
          600,
          501,
          472,
          454,
          431,
          388,
          368,
          252,
          244,
          231
         ]
        },
        {
         "hoverinfo": "skip",
         "locationmode": "USA-states",
         "locations": [
          "CA",
          "TX",
          "FL",
          "GA",
          "NC",
          "OH",
          "TN",
          "IL",
          "PA",
          "AZ",
          "MI",
          "NY",
          "SC",
          "MO",
          "AL",
          "VA",
          "IN",
          "LA",
          "KY",
          "MS",
          "OK",
          "CO",
          "NJ",
          "WA",
          "AR",
          "WI",
          "MD",
          "OR",
          "NM",
          "MN",
          "KS",
          "MA",
          "NV",
          "IA",
          "CT",
          "UT",
          "WV",
          "NE",
          "ID",
          "MT",
          "ME",
          "DE",
          "SD",
          "WY",
          "NH",
          "HI",
          "ND",
          "AK",
          "VT",
          "RI"
         ],
         "mode": "text",
         "showlegend": false,
         "text": [
          "CA",
          "TX",
          "FL",
          "GA",
          "NC",
          "OH",
          "TN",
          "IL",
          "PA",
          "AZ",
          "MI",
          "NY",
          "SC",
          "MO",
          "AL",
          "VA",
          "IN",
          "LA",
          "KY",
          "MS",
          "OK",
          "CO",
          "NJ",
          "WA",
          "AR",
          "WI",
          "MD",
          "OR",
          "NM",
          "MN",
          "KS",
          "MA",
          "NV",
          "IA",
          "CT",
          "UT",
          "WV",
          "NE",
          "ID",
          "MT",
          "ME",
          "DE",
          "SD",
          "WY",
          "NH",
          "HI",
          "ND",
          "AK",
          "VT",
          "RI"
         ],
         "textfont": {
          "color": "white",
          "size": 8
         },
         "type": "scattergeo"
        }
       ],
       "layout": {
        "autosize": true,
        "coloraxis": {
         "colorbar": {
          "title": {
           "text": "FATALS"
          }
         },
         "colorscale": [
          [
           0,
           "#0d0887"
          ],
          [
           0.1111111111111111,
           "#46039f"
          ],
          [
           0.2222222222222222,
           "#7201a8"
          ],
          [
           0.3333333333333333,
           "#9c179e"
          ],
          [
           0.4444444444444444,
           "#bd3786"
          ],
          [
           0.5555555555555556,
           "#d8576b"
          ],
          [
           0.6666666666666666,
           "#ed7953"
          ],
          [
           0.7777777777777778,
           "#fb9f3a"
          ],
          [
           0.8888888888888888,
           "#fdca26"
          ],
          [
           1,
           "#f0f921"
          ]
         ]
        },
        "geo": {
         "center": {},
         "domain": {
          "x": [
           0,
           1
          ],
          "y": [
           0,
           1
          ]
         },
         "projection": {
          "type": "albers usa"
         },
         "scope": "usa"
        },
        "legend": {
         "tracegroupgap": 0
        },
        "template": {
         "data": {
          "bar": [
           {
            "error_x": {
             "color": "#2a3f5f"
            },
            "error_y": {
             "color": "#2a3f5f"
            },
            "marker": {
             "line": {
              "color": "#E5ECF6",
              "width": 0.5
             },
             "pattern": {
              "fillmode": "overlay",
              "size": 10,
              "solidity": 0.2
             }
            },
            "type": "bar"
           }
          ],
          "barpolar": [
           {
            "marker": {
             "line": {
              "color": "#E5ECF6",
              "width": 0.5
             },
             "pattern": {
              "fillmode": "overlay",
              "size": 10,
              "solidity": 0.2
             }
            },
            "type": "barpolar"
           }
          ],
          "carpet": [
           {
            "aaxis": {
             "endlinecolor": "#2a3f5f",
             "gridcolor": "white",
             "linecolor": "white",
             "minorgridcolor": "white",
             "startlinecolor": "#2a3f5f"
            },
            "baxis": {
             "endlinecolor": "#2a3f5f",
             "gridcolor": "white",
             "linecolor": "white",
             "minorgridcolor": "white",
             "startlinecolor": "#2a3f5f"
            },
            "type": "carpet"
           }
          ],
          "choropleth": [
           {
            "colorbar": {
             "outlinewidth": 0,
             "ticks": ""
            },
            "type": "choropleth"
           }
          ],
          "contour": [
           {
            "colorbar": {
             "outlinewidth": 0,
             "ticks": ""
            },
            "colorscale": [
             [
              0,
              "#0d0887"
             ],
             [
              0.1111111111111111,
              "#46039f"
             ],
             [
              0.2222222222222222,
              "#7201a8"
             ],
             [
              0.3333333333333333,
              "#9c179e"
             ],
             [
              0.4444444444444444,
              "#bd3786"
             ],
             [
              0.5555555555555556,
              "#d8576b"
             ],
             [
              0.6666666666666666,
              "#ed7953"
             ],
             [
              0.7777777777777778,
              "#fb9f3a"
             ],
             [
              0.8888888888888888,
              "#fdca26"
             ],
             [
              1,
              "#f0f921"
             ]
            ],
            "type": "contour"
           }
          ],
          "contourcarpet": [
           {
            "colorbar": {
             "outlinewidth": 0,
             "ticks": ""
            },
            "type": "contourcarpet"
           }
          ],
          "heatmap": [
           {
            "colorbar": {
             "outlinewidth": 0,
             "ticks": ""
            },
            "colorscale": [
             [
              0,
              "#0d0887"
             ],
             [
              0.1111111111111111,
              "#46039f"
             ],
             [
              0.2222222222222222,
              "#7201a8"
             ],
             [
              0.3333333333333333,
              "#9c179e"
             ],
             [
              0.4444444444444444,
              "#bd3786"
             ],
             [
              0.5555555555555556,
              "#d8576b"
             ],
             [
              0.6666666666666666,
              "#ed7953"
             ],
             [
              0.7777777777777778,
              "#fb9f3a"
             ],
             [
              0.8888888888888888,
              "#fdca26"
             ],
             [
              1,
              "#f0f921"
             ]
            ],
            "type": "heatmap"
           }
          ],
          "heatmapgl": [
           {
            "colorbar": {
             "outlinewidth": 0,
             "ticks": ""
            },
            "colorscale": [
             [
              0,
              "#0d0887"
             ],
             [
              0.1111111111111111,
              "#46039f"
             ],
             [
              0.2222222222222222,
              "#7201a8"
             ],
             [
              0.3333333333333333,
              "#9c179e"
             ],
             [
              0.4444444444444444,
              "#bd3786"
             ],
             [
              0.5555555555555556,
              "#d8576b"
             ],
             [
              0.6666666666666666,
              "#ed7953"
             ],
             [
              0.7777777777777778,
              "#fb9f3a"
             ],
             [
              0.8888888888888888,
              "#fdca26"
             ],
             [
              1,
              "#f0f921"
             ]
            ],
            "type": "heatmapgl"
           }
          ],
          "histogram": [
           {
            "marker": {
             "pattern": {
              "fillmode": "overlay",
              "size": 10,
              "solidity": 0.2
             }
            },
            "type": "histogram"
           }
          ],
          "histogram2d": [
           {
            "colorbar": {
             "outlinewidth": 0,
             "ticks": ""
            },
            "colorscale": [
             [
              0,
              "#0d0887"
             ],
             [
              0.1111111111111111,
              "#46039f"
             ],
             [
              0.2222222222222222,
              "#7201a8"
             ],
             [
              0.3333333333333333,
              "#9c179e"
             ],
             [
              0.4444444444444444,
              "#bd3786"
             ],
             [
              0.5555555555555556,
              "#d8576b"
             ],
             [
              0.6666666666666666,
              "#ed7953"
             ],
             [
              0.7777777777777778,
              "#fb9f3a"
             ],
             [
              0.8888888888888888,
              "#fdca26"
             ],
             [
              1,
              "#f0f921"
             ]
            ],
            "type": "histogram2d"
           }
          ],
          "histogram2dcontour": [
           {
            "colorbar": {
             "outlinewidth": 0,
             "ticks": ""
            },
            "colorscale": [
             [
              0,
              "#0d0887"
             ],
             [
              0.1111111111111111,
              "#46039f"
             ],
             [
              0.2222222222222222,
              "#7201a8"
             ],
             [
              0.3333333333333333,
              "#9c179e"
             ],
             [
              0.4444444444444444,
              "#bd3786"
             ],
             [
              0.5555555555555556,
              "#d8576b"
             ],
             [
              0.6666666666666666,
              "#ed7953"
             ],
             [
              0.7777777777777778,
              "#fb9f3a"
             ],
             [
              0.8888888888888888,
              "#fdca26"
             ],
             [
              1,
              "#f0f921"
             ]
            ],
            "type": "histogram2dcontour"
           }
          ],
          "mesh3d": [
           {
            "colorbar": {
             "outlinewidth": 0,
             "ticks": ""
            },
            "type": "mesh3d"
           }
          ],
          "parcoords": [
           {
            "line": {
             "colorbar": {
              "outlinewidth": 0,
              "ticks": ""
             }
            },
            "type": "parcoords"
           }
          ],
          "pie": [
           {
            "automargin": true,
            "type": "pie"
           }
          ],
          "scatter": [
           {
            "fillpattern": {
             "fillmode": "overlay",
             "size": 10,
             "solidity": 0.2
            },
            "type": "scatter"
           }
          ],
          "scatter3d": [
           {
            "line": {
             "colorbar": {
              "outlinewidth": 0,
              "ticks": ""
             }
            },
            "marker": {
             "colorbar": {
              "outlinewidth": 0,
              "ticks": ""
             }
            },
            "type": "scatter3d"
           }
          ],
          "scattercarpet": [
           {
            "marker": {
             "colorbar": {
              "outlinewidth": 0,
              "ticks": ""
             }
            },
            "type": "scattercarpet"
           }
          ],
          "scattergeo": [
           {
            "marker": {
             "colorbar": {
              "outlinewidth": 0,
              "ticks": ""
             }
            },
            "type": "scattergeo"
           }
          ],
          "scattergl": [
           {
            "marker": {
             "colorbar": {
              "outlinewidth": 0,
              "ticks": ""
             }
            },
            "type": "scattergl"
           }
          ],
          "scattermapbox": [
           {
            "marker": {
             "colorbar": {
              "outlinewidth": 0,
              "ticks": ""
             }
            },
            "type": "scattermapbox"
           }
          ],
          "scatterpolar": [
           {
            "marker": {
             "colorbar": {
              "outlinewidth": 0,
              "ticks": ""
             }
            },
            "type": "scatterpolar"
           }
          ],
          "scatterpolargl": [
           {
            "marker": {
             "colorbar": {
              "outlinewidth": 0,
              "ticks": ""
             }
            },
            "type": "scatterpolargl"
           }
          ],
          "scatterternary": [
           {
            "marker": {
             "colorbar": {
              "outlinewidth": 0,
              "ticks": ""
             }
            },
            "type": "scatterternary"
           }
          ],
          "surface": [
           {
            "colorbar": {
             "outlinewidth": 0,
             "ticks": ""
            },
            "colorscale": [
             [
              0,
              "#0d0887"
             ],
             [
              0.1111111111111111,
              "#46039f"
             ],
             [
              0.2222222222222222,
              "#7201a8"
             ],
             [
              0.3333333333333333,
              "#9c179e"
             ],
             [
              0.4444444444444444,
              "#bd3786"
             ],
             [
              0.5555555555555556,
              "#d8576b"
             ],
             [
              0.6666666666666666,
              "#ed7953"
             ],
             [
              0.7777777777777778,
              "#fb9f3a"
             ],
             [
              0.8888888888888888,
              "#fdca26"
             ],
             [
              1,
              "#f0f921"
             ]
            ],
            "type": "surface"
           }
          ],
          "table": [
           {
            "cells": {
             "fill": {
              "color": "#EBF0F8"
             },
             "line": {
              "color": "white"
             }
            },
            "header": {
             "fill": {
              "color": "#C8D4E3"
             },
             "line": {
              "color": "white"
             }
            },
            "type": "table"
           }
          ]
         },
         "layout": {
          "annotationdefaults": {
           "arrowcolor": "#2a3f5f",
           "arrowhead": 0,
           "arrowwidth": 1
          },
          "autotypenumbers": "strict",
          "coloraxis": {
           "colorbar": {
            "outlinewidth": 0,
            "ticks": ""
           }
          },
          "colorscale": {
           "diverging": [
            [
             0,
             "#8e0152"
            ],
            [
             0.1,
             "#c51b7d"
            ],
            [
             0.2,
             "#de77ae"
            ],
            [
             0.3,
             "#f1b6da"
            ],
            [
             0.4,
             "#fde0ef"
            ],
            [
             0.5,
             "#f7f7f7"
            ],
            [
             0.6,
             "#e6f5d0"
            ],
            [
             0.7,
             "#b8e186"
            ],
            [
             0.8,
             "#7fbc41"
            ],
            [
             0.9,
             "#4d9221"
            ],
            [
             1,
             "#276419"
            ]
           ],
           "sequential": [
            [
             0,
             "#0d0887"
            ],
            [
             0.1111111111111111,
             "#46039f"
            ],
            [
             0.2222222222222222,
             "#7201a8"
            ],
            [
             0.3333333333333333,
             "#9c179e"
            ],
            [
             0.4444444444444444,
             "#bd3786"
            ],
            [
             0.5555555555555556,
             "#d8576b"
            ],
            [
             0.6666666666666666,
             "#ed7953"
            ],
            [
             0.7777777777777778,
             "#fb9f3a"
            ],
            [
             0.8888888888888888,
             "#fdca26"
            ],
            [
             1,
             "#f0f921"
            ]
           ],
           "sequentialminus": [
            [
             0,
             "#0d0887"
            ],
            [
             0.1111111111111111,
             "#46039f"
            ],
            [
             0.2222222222222222,
             "#7201a8"
            ],
            [
             0.3333333333333333,
             "#9c179e"
            ],
            [
             0.4444444444444444,
             "#bd3786"
            ],
            [
             0.5555555555555556,
             "#d8576b"
            ],
            [
             0.6666666666666666,
             "#ed7953"
            ],
            [
             0.7777777777777778,
             "#fb9f3a"
            ],
            [
             0.8888888888888888,
             "#fdca26"
            ],
            [
             1,
             "#f0f921"
            ]
           ]
          },
          "colorway": [
           "#636efa",
           "#EF553B",
           "#00cc96",
           "#ab63fa",
           "#FFA15A",
           "#19d3f3",
           "#FF6692",
           "#B6E880",
           "#FF97FF",
           "#FECB52"
          ],
          "font": {
           "color": "#2a3f5f"
          },
          "geo": {
           "bgcolor": "white",
           "lakecolor": "white",
           "landcolor": "#E5ECF6",
           "showlakes": true,
           "showland": true,
           "subunitcolor": "white"
          },
          "hoverlabel": {
           "align": "left"
          },
          "hovermode": "closest",
          "mapbox": {
           "style": "light"
          },
          "paper_bgcolor": "white",
          "plot_bgcolor": "#E5ECF6",
          "polar": {
           "angularaxis": {
            "gridcolor": "white",
            "linecolor": "white",
            "ticks": ""
           },
           "bgcolor": "#E5ECF6",
           "radialaxis": {
            "gridcolor": "white",
            "linecolor": "white",
            "ticks": ""
           }
          },
          "scene": {
           "xaxis": {
            "backgroundcolor": "#E5ECF6",
            "gridcolor": "white",
            "gridwidth": 2,
            "linecolor": "white",
            "showbackground": true,
            "ticks": "",
            "zerolinecolor": "white"
           },
           "yaxis": {
            "backgroundcolor": "#E5ECF6",
            "gridcolor": "white",
            "gridwidth": 2,
            "linecolor": "white",
            "showbackground": true,
            "ticks": "",
            "zerolinecolor": "white"
           },
           "zaxis": {
            "backgroundcolor": "#E5ECF6",
            "gridcolor": "white",
            "gridwidth": 2,
            "linecolor": "white",
            "showbackground": true,
            "ticks": "",
            "zerolinecolor": "white"
           }
          },
          "shapedefaults": {
           "line": {
            "color": "#2a3f5f"
           }
          },
          "ternary": {
           "aaxis": {
            "gridcolor": "white",
            "linecolor": "white",
            "ticks": ""
           },
           "baxis": {
            "gridcolor": "white",
            "linecolor": "white",
            "ticks": ""
           },
           "bgcolor": "#E5ECF6",
           "caxis": {
            "gridcolor": "white",
            "linecolor": "white",
            "ticks": ""
           }
          },
          "title": {
           "x": 0.05
          },
          "xaxis": {
           "automargin": true,
           "gridcolor": "white",
           "linecolor": "white",
           "ticks": "",
           "title": {
            "standoff": 15
           },
           "zerolinecolor": "white",
           "zerolinewidth": 2
          },
          "yaxis": {
           "automargin": true,
           "gridcolor": "white",
           "linecolor": "white",
           "ticks": "",
           "title": {
            "standoff": 15
           },
           "zerolinecolor": "white",
           "zerolinewidth": 2
          }
         }
        },
        "title": {
         "text": "Total Fatal Crashes for States (2019-2022)"
        }
       }
      },
      "image/png": "[encoded data removed]",
      "text/html": [
       "<div>                            <div id=\"8669a5d1-5bc6-405a-9da2-acee99108f16\" class=\"plotly-graph-div\" style=\"height:525px; width:100%;\"></div>            <script type=\"text/javascript\">                require([\"plotly\"], function(Plotly) {                    window.PLOTLYENV=window.PLOTLYENV || {};                                    if (document.getElementById(\"8669a5d1-5bc6-405a-9da2-acee99108f16\")) {                    Plotly.newPlot(                        \"8669a5d1-5bc6-405a-9da2-acee99108f16\",                        [{\"coloraxis\":\"coloraxis\",\"geo\":\"geo\",\"hovertemplate\":\"State_Abbr=%{location}\\u003cbr\\u003eFATALS=%{z}\\u003cextra\\u003e\\u003c\\u002fextra\\u003e\",\"locationmode\":\"USA-states\",\"locations\":[\"CA\",\"TX\",\"FL\",\"GA\",\"NC\",\"OH\",\"TN\",\"IL\",\"PA\",\"AZ\",\"MI\",\"NY\",\"SC\",\"MO\",\"AL\",\"VA\",\"IN\",\"LA\",\"KY\",\"MS\",\"OK\",\"CO\",\"NJ\",\"WA\",\"AR\",\"WI\",\"MD\",\"OR\",\"NM\",\"MN\",\"KS\",\"MA\",\"NV\",\"IA\",\"CT\",\"UT\",\"WV\",\"NE\",\"ID\",\"MT\",\"ME\",\"DE\",\"SD\",\"WY\",\"NH\",\"HI\",\"ND\",\"AK\",\"VT\",\"RI\"],\"name\":\"\",\"z\":[15405,14854,12800,6254,5836,4615,4604,4381,4295,4133,4043,4040,4022,3626,3506,3422,3314,3181,2803,2606,2508,2456,2377,2350,2284,2206,2098,2020,1582,1571,1487,1455,1337,1259,1130,1074,1003,835,829,762,600,501,472,454,431,388,368,252,244,231],\"type\":\"choropleth\"},{\"hoverinfo\":\"skip\",\"locationmode\":\"USA-states\",\"locations\":[\"CA\",\"TX\",\"FL\",\"GA\",\"NC\",\"OH\",\"TN\",\"IL\",\"PA\",\"AZ\",\"MI\",\"NY\",\"SC\",\"MO\",\"AL\",\"VA\",\"IN\",\"LA\",\"KY\",\"MS\",\"OK\",\"CO\",\"NJ\",\"WA\",\"AR\",\"WI\",\"MD\",\"OR\",\"NM\",\"MN\",\"KS\",\"MA\",\"NV\",\"IA\",\"CT\",\"UT\",\"WV\",\"NE\",\"ID\",\"MT\",\"ME\",\"DE\",\"SD\",\"WY\",\"NH\",\"HI\",\"ND\",\"AK\",\"VT\",\"RI\"],\"mode\":\"text\",\"showlegend\":false,\"text\":[\"CA\",\"TX\",\"FL\",\"GA\",\"NC\",\"OH\",\"TN\",\"IL\",\"PA\",\"AZ\",\"MI\",\"NY\",\"SC\",\"MO\",\"AL\",\"VA\",\"IN\",\"LA\",\"KY\",\"MS\",\"OK\",\"CO\",\"NJ\",\"WA\",\"AR\",\"WI\",\"MD\",\"OR\",\"NM\",\"MN\",\"KS\",\"MA\",\"NV\",\"IA\",\"CT\",\"UT\",\"WV\",\"NE\",\"ID\",\"MT\",\"ME\",\"DE\",\"SD\",\"WY\",\"NH\",\"HI\",\"ND\",\"AK\",\"VT\",\"RI\"],\"textfont\":{\"color\":\"white\",\"size\":8},\"type\":\"scattergeo\"}],                        {\"template\":{\"data\":{\"histogram2dcontour\":[{\"type\":\"histogram2dcontour\",\"colorbar\":{\"outlinewidth\":0,\"ticks\":\"\"},\"colorscale\":[[0.0,\"#0d0887\"],[0.1111111111111111,\"#46039f\"],[0.2222222222222222,\"#7201a8\"],[0.3333333333333333,\"#9c179e\"],[0.4444444444444444,\"#bd3786\"],[0.5555555555555556,\"#d8576b\"],[0.6666666666666666,\"#ed7953\"],[0.7777777777777778,\"#fb9f3a\"],[0.8888888888888888,\"#fdca26\"],[1.0,\"#f0f921\"]]}],\"choropleth\":[{\"type\":\"choropleth\",\"colorbar\":{\"outlinewidth\":0,\"ticks\":\"\"}}],\"histogram2d\":[{\"type\":\"histogram2d\",\"colorbar\":{\"outlinewidth\":0,\"ticks\":\"\"},\"colorscale\":[[0.0,\"#0d0887\"],[0.1111111111111111,\"#46039f\"],[0.2222222222222222,\"#7201a8\"],[0.3333333333333333,\"#9c179e\"],[0.4444444444444444,\"#bd3786\"],[0.5555555555555556,\"#d8576b\"],[0.6666666666666666,\"#ed7953\"],[0.7777777777777778,\"#fb9f3a\"],[0.8888888888888888,\"#fdca26\"],[1.0,\"#f0f921\"]]}],\"heatmap\":[{\"type\":\"heatmap\",\"colorbar\":{\"outlinewidth\":0,\"ticks\":\"\"},\"colorscale\":[[0.0,\"#0d0887\"],[0.1111111111111111,\"#46039f\"],[0.2222222222222222,\"#7201a8\"],[0.3333333333333333,\"#9c179e\"],[0.4444444444444444,\"#bd3786\"],[0.5555555555555556,\"#d8576b\"],[0.6666666666666666,\"#ed7953\"],[0.7777777777777778,\"#fb9f3a\"],[0.8888888888888888,\"#fdca26\"],[1.0,\"#f0f921\"]]}],\"heatmapgl\":[{\"type\":\"heatmapgl\",\"colorbar\":{\"outlinewidth\":0,\"ticks\":\"\"},\"colorscale\":[[0.0,\"#0d0887\"],[0.1111111111111111,\"#46039f\"],[0.2222222222222222,\"#7201a8\"],[0.3333333333333333,\"#9c179e\"],[0.4444444444444444,\"#bd3786\"],[0.5555555555555556,\"#d8576b\"],[0.6666666666666666,\"#ed7953\"],[0.7777777777777778,\"#fb9f3a\"],[0.8888888888888888,\"#fdca26\"],[1.0,\"#f0f921\"]]}],\"contourcarpet\":[{\"type\":\"contourcarpet\",\"colorbar\":{\"outlinewidth\":0,\"ticks\":\"\"}}],\"contour\":[{\"type\":\"contour\",\"colorbar\":{\"outlinewidth\":0,\"ticks\":\"\"},\"colorscale\":[[0.0,\"#0d0887\"],[0.1111111111111111,\"#46039f\"],[0.2222222222222222,\"#7201a8\"],[0.3333333333333333,\"#9c179e\"],[0.4444444444444444,\"#bd3786\"],[0.5555555555555556,\"#d8576b\"],[0.6666666666666666,\"#ed7953\"],[0.7777777777777778,\"#fb9f3a\"],[0.8888888888888888,\"#fdca26\"],[1.0,\"#f0f921\"]]}],\"surface\":[{\"type\":\"surface\",\"colorbar\":{\"outlinewidth\":0,\"ticks\":\"\"},\"colorscale\":[[0.0,\"#0d0887\"],[0.1111111111111111,\"#46039f\"],[0.2222222222222222,\"#7201a8\"],[0.3333333333333333,\"#9c179e\"],[0.4444444444444444,\"#bd3786\"],[0.5555555555555556,\"#d8576b\"],[0.6666666666666666,\"#ed7953\"],[0.7777777777777778,\"#fb9f3a\"],[0.8888888888888888,\"#fdca26\"],[1.0,\"#f0f921\"]]}],\"mesh3d\":[{\"type\":\"mesh3d\",\"colorbar\":{\"outlinewidth\":0,\"ticks\":\"\"}}],\"scatter\":[{\"fillpattern\":{\"fillmode\":\"overlay\",\"size\":10,\"solidity\":0.2},\"type\":\"scatter\"}],\"parcoords\":[{\"type\":\"parcoords\",\"line\":{\"colorbar\":{\"outlinewidth\":0,\"ticks\":\"\"}}}],\"scatterpolargl\":[{\"type\":\"scatterpolargl\",\"marker\":{\"colorbar\":{\"outlinewidth\":0,\"ticks\":\"\"}}}],\"bar\":[{\"error_x\":{\"color\":\"#2a3f5f\"},\"error_y\":{\"color\":\"#2a3f5f\"},\"marker\":{\"line\":{\"color\":\"#E5ECF6\",\"width\":0.5},\"pattern\":{\"fillmode\":\"overlay\",\"size\":10,\"solidity\":0.2}},\"type\":\"bar\"}],\"scattergeo\":[{\"type\":\"scattergeo\",\"marker\":{\"colorbar\":{\"outlinewidth\":0,\"ticks\":\"\"}}}],\"scatterpolar\":[{\"type\":\"scatterpolar\",\"marker\":{\"colorbar\":{\"outlinewidth\":0,\"ticks\":\"\"}}}],\"histogram\":[{\"marker\":{\"pattern\":{\"fillmode\":\"overlay\",\"size\":10,\"solidity\":0.2}},\"type\":\"histogram\"}],\"scattergl\":[{\"type\":\"scattergl\",\"marker\":{\"colorbar\":{\"outlinewidth\":0,\"ticks\":\"\"}}}],\"scatter3d\":[{\"type\":\"scatter3d\",\"line\":{\"colorbar\":{\"outlinewidth\":0,\"ticks\":\"\"}},\"marker\":{\"colorbar\":{\"outlinewidth\":0,\"ticks\":\"\"}}}],\"scattermapbox\":[{\"type\":\"scattermapbox\",\"marker\":{\"colorbar\":{\"outlinewidth\":0,\"ticks\":\"\"}}}],\"scatterternary\":[{\"type\":\"scatterternary\",\"marker\":{\"colorbar\":{\"outlinewidth\":0,\"ticks\":\"\"}}}],\"scattercarpet\":[{\"type\":\"scattercarpet\",\"marker\":{\"colorbar\":{\"outlinewidth\":0,\"ticks\":\"\"}}}],\"carpet\":[{\"aaxis\":{\"endlinecolor\":\"#2a3f5f\",\"gridcolor\":\"white\",\"linecolor\":\"white\",\"minorgridcolor\":\"white\",\"startlinecolor\":\"#2a3f5f\"},\"baxis\":{\"endlinecolor\":\"#2a3f5f\",\"gridcolor\":\"white\",\"linecolor\":\"white\",\"minorgridcolor\":\"white\",\"startlinecolor\":\"#2a3f5f\"},\"type\":\"carpet\"}],\"table\":[{\"cells\":{\"fill\":{\"color\":\"#EBF0F8\"},\"line\":{\"color\":\"white\"}},\"header\":{\"fill\":{\"color\":\"#C8D4E3\"},\"line\":{\"color\":\"white\"}},\"type\":\"table\"}],\"barpolar\":[{\"marker\":{\"line\":{\"color\":\"#E5ECF6\",\"width\":0.5},\"pattern\":{\"fillmode\":\"overlay\",\"size\":10,\"solidity\":0.2}},\"type\":\"barpolar\"}],\"pie\":[{\"automargin\":true,\"type\":\"pie\"}]},\"layout\":{\"autotypenumbers\":\"strict\",\"colorway\":[\"#636efa\",\"#EF553B\",\"#00cc96\",\"#ab63fa\",\"#FFA15A\",\"#19d3f3\",\"#FF6692\",\"#B6E880\",\"#FF97FF\",\"#FECB52\"],\"font\":{\"color\":\"#2a3f5f\"},\"hovermode\":\"closest\",\"hoverlabel\":{\"align\":\"left\"},\"paper_bgcolor\":\"white\",\"plot_bgcolor\":\"#E5ECF6\",\"polar\":{\"bgcolor\":\"#E5ECF6\",\"angularaxis\":{\"gridcolor\":\"white\",\"linecolor\":\"white\",\"ticks\":\"\"},\"radialaxis\":{\"gridcolor\":\"white\",\"linecolor\":\"white\",\"ticks\":\"\"}},\"ternary\":{\"bgcolor\":\"#E5ECF6\",\"aaxis\":{\"gridcolor\":\"white\",\"linecolor\":\"white\",\"ticks\":\"\"},\"baxis\":{\"gridcolor\":\"white\",\"linecolor\":\"white\",\"ticks\":\"\"},\"caxis\":{\"gridcolor\":\"white\",\"linecolor\":\"white\",\"ticks\":\"\"}},\"coloraxis\":{\"colorbar\":{\"outlinewidth\":0,\"ticks\":\"\"}},\"colorscale\":{\"sequential\":[[0.0,\"#0d0887\"],[0.1111111111111111,\"#46039f\"],[0.2222222222222222,\"#7201a8\"],[0.3333333333333333,\"#9c179e\"],[0.4444444444444444,\"#bd3786\"],[0.5555555555555556,\"#d8576b\"],[0.6666666666666666,\"#ed7953\"],[0.7777777777777778,\"#fb9f3a\"],[0.8888888888888888,\"#fdca26\"],[1.0,\"#f0f921\"]],\"sequentialminus\":[[0.0,\"#0d0887\"],[0.1111111111111111,\"#46039f\"],[0.2222222222222222,\"#7201a8\"],[0.3333333333333333,\"#9c179e\"],[0.4444444444444444,\"#bd3786\"],[0.5555555555555556,\"#d8576b\"],[0.6666666666666666,\"#ed7953\"],[0.7777777777777778,\"#fb9f3a\"],[0.8888888888888888,\"#fdca26\"],[1.0,\"#f0f921\"]],\"diverging\":[[0,\"#8e0152\"],[0.1,\"#c51b7d\"],[0.2,\"#de77ae\"],[0.3,\"#f1b6da\"],[0.4,\"#fde0ef\"],[0.5,\"#f7f7f7\"],[0.6,\"#e6f5d0\"],[0.7,\"#b8e186\"],[0.8,\"#7fbc41\"],[0.9,\"#4d9221\"],[1,\"#276419\"]]},\"xaxis\":{\"gridcolor\":\"white\",\"linecolor\":\"white\",\"ticks\":\"\",\"title\":{\"standoff\":15},\"zerolinecolor\":\"white\",\"automargin\":true,\"zerolinewidth\":2},\"yaxis\":{\"gridcolor\":\"white\",\"linecolor\":\"white\",\"ticks\":\"\",\"title\":{\"standoff\":15},\"zerolinecolor\":\"white\",\"automargin\":true,\"zerolinewidth\":2},\"scene\":{\"xaxis\":{\"backgroundcolor\":\"#E5ECF6\",\"gridcolor\":\"white\",\"linecolor\":\"white\",\"showbackground\":true,\"ticks\":\"\",\"zerolinecolor\":\"white\",\"gridwidth\":2},\"yaxis\":{\"backgroundcolor\":\"#E5ECF6\",\"gridcolor\":\"white\",\"linecolor\":\"white\",\"showbackground\":true,\"ticks\":\"\",\"zerolinecolor\":\"white\",\"gridwidth\":2},\"zaxis\":{\"backgroundcolor\":\"#E5ECF6\",\"gridcolor\":\"white\",\"linecolor\":\"white\",\"showbackground\":true,\"ticks\":\"\",\"zerolinecolor\":\"white\",\"gridwidth\":2}},\"shapedefaults\":{\"line\":{\"color\":\"#2a3f5f\"}},\"annotationdefaults\":{\"arrowcolor\":\"#2a3f5f\",\"arrowhead\":0,\"arrowwidth\":1},\"geo\":{\"bgcolor\":\"white\",\"landcolor\":\"#E5ECF6\",\"subunitcolor\":\"white\",\"showland\":true,\"showlakes\":true,\"lakecolor\":\"white\"},\"title\":{\"x\":0.05},\"mapbox\":{\"style\":\"light\"}}},\"geo\":{\"domain\":{\"x\":[0.0,1.0],\"y\":[0.0,1.0]},\"projection\":{\"type\":\"albers usa\"},\"center\":{},\"scope\":\"usa\"},\"coloraxis\":{\"colorbar\":{\"title\":{\"text\":\"FATALS\"}},\"colorscale\":[[0.0,\"#0d0887\"],[0.1111111111111111,\"#46039f\"],[0.2222222222222222,\"#7201a8\"],[0.3333333333333333,\"#9c179e\"],[0.4444444444444444,\"#bd3786\"],[0.5555555555555556,\"#d8576b\"],[0.6666666666666666,\"#ed7953\"],[0.7777777777777778,\"#fb9f3a\"],[0.8888888888888888,\"#fdca26\"],[1.0,\"#f0f921\"]]},\"legend\":{\"tracegroupgap\":0},\"title\":{\"text\":\"Total Fatal Crashes for States (2019-2022)\"}},                        {\"responsive\": true}                    ).then(function(){\n",
       "                            \n",
       "var gd = document.getElementById('8669a5d1-5bc6-405a-9da2-acee99108f16');\n",
       "var x = new MutationObserver(function (mutations, observer) {{\n",
       "        var display = window.getComputedStyle(gd).display;\n",
       "        if (!display || display === 'none') {{\n",
       "            console.log([gd, 'removed!']);\n",
       "            Plotly.purge(gd);\n",
       "            observer.disconnect();\n",
       "        }}\n",
       "}});\n",
       "\n",
       "// Listen for the removal of the full notebook cells\n",
       "var notebookContainer = gd.closest('#notebook-container');\n",
       "if (notebookContainer) {{\n",
       "    x.observe(notebookContainer, {childList: true});\n",
       "}}\n",
       "\n",
       "// Listen for the clearing of the current output cell\n",
       "var outputEl = gd.closest('.output');\n",
       "if (outputEl) {{\n",
       "    x.observe(outputEl, {childList: true});\n",
       "}}\n",
       "\n",
       "                        })                };                });            </script>        </div>"
      ]
     },
     "metadata": {},
     "output_type": "display_data"
    }
   ],
   "source": [
    "import plotly.express as px\n",
    "import pandas as pd\n",
    "import us\n",
    "pipeline_state = [\n",
    "    {\"$group\":{\"_id\": \"$STATENAME\", \"FATALS\": {\"$sum\": 1}}},\n",
    "    {\"$sort\": {\"FATALS\": -1}}  # Sort by fatalities descending\n",
    "]\n",
    "fatalities_by_state = list(accident.aggregate(pipeline_state))\n",
    "df_state = pd.DataFrame(fatalities_by_state).rename(columns={'_id': 'State'})\n",
    "print(\"\\nFatalities by State:\")\n",
    "\n",
    "# Create a dictionary to map state names to state abbreviations\n",
    "state_abbrev_map = {state.name: state.abbr for state in us.states.STATES}\n",
    "\n",
    "# Add a column with the abbreviations\n",
    "df_state['State_Abbr'] = df_state['State'].map(state_abbrev_map)\n",
    "\n",
    "# Drop rows with missing abbreviations (in case of mismatched names)\n",
    "df_state = df_state.dropna(subset=['State_Abbr'])\n",
    "\n",
    "print(df_state.head())\n",
    "  \n",
    "# Create the choropleth figure using the DataFrame\n",
    "fig = px.choropleth(\n",
    "    df_state,\n",
    "    locations='State_Abbr',\n",
    "    locationmode='USA-states',\n",
    "    color='FATALS',\n",
    "    scope='usa',\n",
    "    title='Total Fatal Crashes for States (2019-2022)',\n",
    "    projection='albers usa'\n",
    ")\n",
    "# Add state abbreviations as text labels on top of the map\n",
    "fig.add_scattergeo(\n",
    "    locations=df_state['State_Abbr'],\n",
    "    locationmode='USA-states',\n",
    "    text=df_state['State_Abbr'],\n",
    "    mode='text',\n",
    "    hoverinfo='skip',  # Disable hover to avoid redundancy with choropleth info\n",
    "    showlegend=False,\n",
    "    textfont=dict(\n",
    "        size=8,   # Set the size of the text\n",
    "        color='white'  # Set the color of the text\n",
    "    )\n",
    ")\n",
    "fig.show()\n",
    "\n",
    "# Save the figure as an image\n",
    "fig.write_image(\"choropleth_map.png\")  # Saves as a PNG file\n",
    "fig.write_image(\"choropleth_map.pdf\") "
   ]
  },
  {
   "cell_type": "code",
   "execution_count": null,
   "id": "bf37618e-4907-4334-a2b8-7dc0202d89e4",
   "metadata": {},
   "outputs": [],
   "source": []
  },
  {
   "cell_type": "code",
   "execution_count": null,
   "id": "fff2f7d4-39bf-450a-9015-a9bdef44583f",
   "metadata": {},
   "outputs": [],
   "source": []
  }
 ],
 "metadata": {
  "kernelspec": {
   "display_name": "Python 3 (ipykernel)",
   "language": "python",
   "name": "python3"
  },
  "language_info": {
   "codemirror_mode": {
    "name": "ipython",
    "version": 3
   },
   "file_extension": ".py",
   "mimetype": "text/x-python",
   "name": "python",
   "nbconvert_exporter": "python",
   "pygments_lexer": "ipython3",
   "version": "3.10.14"
  }
 },
 "nbformat": 4,
 "nbformat_minor": 5
}
