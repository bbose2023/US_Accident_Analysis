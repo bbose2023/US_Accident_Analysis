{
 "cells": [
  {
   "cell_type": "code",
   "execution_count": 101,
   "id": "368763cc-6834-47da-908a-3da243ee2289",
   "metadata": {},
   "outputs": [],
   "source": [
    "import pandas as pd\n",
    "from pathlib import Path\n",
    "import matplotlib.pyplot as plt\n",
    "import numpy as np\n",
    "import chardet as chardet\n",
    "from utils import createCSV"
   ]
  },
  {
   "cell_type": "code",
   "execution_count": 103,
   "id": "c55c0119-559e-435e-b7cf-a447a8d18f06",
   "metadata": {},
   "outputs": [
    {
     "name": "stdout",
     "output_type": "stream",
     "text": [
      "<class 'pandas.core.frame.DataFrame'>\n",
      "RangeIndex: 1704 entries, 0 to 1703\n",
      "Data columns (total 10 columns):\n",
      " #   Column             Non-Null Count  Dtype \n",
      "---  ------             --------------  ----- \n",
      " 0   STATE              1704 non-null   int64 \n",
      " 1   STATENAME          1704 non-null   object\n",
      " 2   ST_CASE            1704 non-null   int64 \n",
      " 3   VEH_NO             1704 non-null   int64 \n",
      " 4   TRAILER_NO         1704 non-null   int64 \n",
      " 5   VEHICLEDESCRIPTOR  1704 non-null   object\n",
      " 6   VINDECODEDON       1704 non-null   object\n",
      " 7   VINDECODEERROR     1704 non-null   object\n",
      " 8   VEHICLETYPEID      1704 non-null   int64 \n",
      " 9   VEHICLETYPE        1704 non-null   object\n",
      "dtypes: int64(5), object(5)\n",
      "memory usage: 133.2+ KB\n",
      "None\n"
     ]
    }
   ],
   "source": [
    "createCSV(\"accidents\",\"accident_label_names\",\"us_accidents\")"
   ]
  },
  {
   "cell_type": "code",
   "execution_count": 30,
   "id": "d7391e5b-30a5-4289-848f-019ca8d6a3e7",
   "metadata": {
    "scrolled": true
   },
   "outputs": [],
   "source": []
  },
  {
   "cell_type": "code",
   "execution_count": null,
   "id": "19160aaf-eb74-4937-b8c8-52ce07e7e921",
   "metadata": {},
   "outputs": [],
   "source": []
  },
  {
   "cell_type": "code",
   "execution_count": null,
   "id": "d048f6a5-f4dc-4c0f-a172-f4031fb2ca40",
   "metadata": {},
   "outputs": [],
   "source": []
  },
  {
   "cell_type": "code",
   "execution_count": null,
   "id": "2efd9919-074f-418c-927a-d2093d365e8c",
   "metadata": {},
   "outputs": [],
   "source": []
  }
 ],
 "metadata": {
  "kernelspec": {
   "display_name": "Python 3 (ipykernel)",
   "language": "python",
   "name": "python3"
  },
  "language_info": {
   "codemirror_mode": {
    "name": "ipython",
    "version": 3
   },
   "file_extension": ".py",
   "mimetype": "text/x-python",
   "name": "python",
   "nbconvert_exporter": "python",
   "pygments_lexer": "ipython3",
   "version": "3.10.14"
  }
 },
 "nbformat": 4,
 "nbformat_minor": 5
}
