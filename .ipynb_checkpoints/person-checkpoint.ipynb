{
 "cells": [
  {
   "cell_type": "code",
   "execution_count": 19,
   "id": "2a3eb9c7-e42c-4eb4-8f6c-6a9003402fc6",
   "metadata": {},
   "outputs": [],
   "source": [
    "import sys\n",
    "import subprocess\n",
    "from pathlib import Path\n",
    "\n",
    "# Import Dependencies\n",
    "import psycopg2\n",
    "from pymongo import MongoClient\n",
    "from pprint import pprint\n",
    "from utils import createCSV,createCSVUsingDask,mergeCSV"
   ]
  },
  {
   "cell_type": "code",
   "execution_count": 20,
   "id": "915d85b5-fb87-4f5d-a860-467bef197b8b",
   "metadata": {},
   "outputs": [],
   "source": [
    "import pandas as pd\n",
    "from pathlib import Path\n",
    "import matplotlib.pyplot as plt\n",
    "import numpy as np\n",
    "import chardet as chardet\n",
    "import dask as dask\n",
    "import dask.dataframe as dd"
   ]
  },
  {
   "cell_type": "code",
   "execution_count": 21,
   "id": "46329c74-0a73-4ab3-b241-1797dc1c1df8",
   "metadata": {},
   "outputs": [
    {
     "name": "stdout",
     "output_type": "stream",
     "text": [
      "Resources\\accident_data\\2019/person.csv does not exist.\n",
      "Resources\\accident_data\\2020/person.csv does not exist.\n",
      "Resources\\accident_data\\2021/person.csv does not exist.\n",
      "Resources\\accident_data\\2022/person.csv does not exist.\n"
     ]
    }
   ],
   "source": [
    "base_path = Path(\"Resources/accident_data/2019\")\n",
    "createCSV(f\"{base_path}/person.csv\",\"Resources/person_labels.csv\",\"us_person\",\"w\")\n",
    "base_path = Path(\"Resources/accident_data/2020\")\n",
    "createCSV(f\"{base_path}/person.csv\",\"Resources/person_labels.csv\",\"us_person\",\"a\")\n",
    "base_path = Path(\"Resources/accident_data/2021\")\n",
    "createCSV(f\"{base_path}/person.csv\",\"Resources/person_labels.csv\",\"us_person\",\"a\")\n",
    "base_path = Path(\"Resources/accident_data/2022\")\n",
    "createCSV(f\"{base_path}/person.csv\",\"Resources/person_labels.csv\",\"us_person\",\"a\")"
   ]
  },
  {
   "cell_type": "code",
   "execution_count": 22,
   "id": "a799cfd7-a66a-40d1-a0a6-f6250aa7b595",
   "metadata": {},
   "outputs": [
    {
     "name": "stdout",
     "output_type": "stream",
     "text": [
      "Resources\\accident_data\\2019/vehicle.csv does not exist.\n",
      "Resources\\accident_data\\2020/vehicle.csv does not exist.\n",
      "Resources\\accident_data\\2021/vehicle.csv does not exist.\n",
      "Resources\\accident_data\\2022/vehicle.csv does not exist.\n"
     ]
    }
   ],
   "source": [
    "base_path = Path(\"Resources/accident_data/2019\")\n",
    "createCSV(f\"{base_path}/vehicle.csv\",\"Resources/vehicle_labels.csv\",\"us_vehicle\",\"w\")\n",
    "base_path = Path(\"Resources/accident_data/2020\")\n",
    "createCSV(f\"{base_path}/vehicle.csv\",\"Resources/vehicle_labels.csv\",\"us_vehicle\",\"a\")\n",
    "base_path = Path(\"Resources/accident_data/2021\")\n",
    "createCSV(f\"{base_path}/vehicle.csv\",\"Resources/vehicle_labels.csv\",\"us_vehicle\",\"a\")\n",
    "base_path = Path(\"Resources/accident_data/2022\")\n",
    "createCSV(f\"{base_path}/vehicle.csv\",\"Resources/vehicle_labels.csv\",\"us_vehicle\",\"a\")"
   ]
  },
  {
   "cell_type": "code",
   "execution_count": 23,
   "id": "ec37ec09-03bf-43bd-a057-8efa38877fe9",
   "metadata": {},
   "outputs": [
    {
     "name": "stdout",
     "output_type": "stream",
     "text": [
      "Starting to read the File\n",
      "Starting to read the File\n",
      "Starting to read the File\n",
      "Starting to read the File\n"
     ]
    }
   ],
   "source": [
    "base_path = Path(\"Resources/accident_data/2019\")\n",
    "createCSV(f\"{base_path}/drugs.csv\",\"Resources/drug_labels.csv\",\"us_vehicle\",\"w\")\n",
    "base_path = Path(\"Resources/accident_data/2020\")\n",
    "createCSV(f\"{base_path}/drugs.csv\",\"Resources/drug_labels.csv\",\"us_vehicle\",\"a\")\n",
    "base_path = Path(\"Resources/accident_data/2021\")\n",
    "createCSV(f\"{base_path}/drugs.csv\",\"Resources/drug_labels.csv\",\"us_vehicle\",\"a\")\n",
    "base_path = Path(\"Resources/accident_data/2022\")\n",
    "createCSV(f\"{base_path}/drugs.csv\",\"Resources/drug_labels.csv\",\"us_vehicle\",\"a\")"
   ]
  },
  {
   "cell_type": "code",
   "execution_count": 24,
   "id": "21821d3a-2743-428d-8ccd-8663bbbdfea2",
   "metadata": {},
   "outputs": [
    {
     "name": "stdout",
     "output_type": "stream",
     "text": [
      "Starting to read the File\n",
      "################Labels to Save###################### Index(['STATE', 'STATENAME', 'ST_CASE', 'VEH_NO', 'PER_NO', 'RACE', 'RACENAME',\n",
      "       'ORDER', 'MULTRACE'],\n",
      "      dtype='object')\n",
      "################Updated CSV File#################        STATE STATENAME  ST_CASE  VEH_NO  PER_NO  RACE  \\\n",
      "0          1   Alabama    10001       1       1     0   \n",
      "1          1   Alabama    10001       1       2     1   \n",
      "2          1   Alabama    10001       2       1     0   \n",
      "3          1   Alabama    10002       1       1     1   \n",
      "4          1   Alabama    10002       2       1     0   \n",
      "...      ...       ...      ...     ...     ...   ...   \n",
      "82988     56   Wyoming   560120       1       1     2   \n",
      "82989     56   Wyoming   560120       1       2     0   \n",
      "82990     56   Wyoming   560121       1       1     1   \n",
      "82991     56   Wyoming   560121       1       2     1   \n",
      "82992     56   Wyoming   560121       2       1     0   \n",
      "\n",
      "                              RACENAME  ORDER  MULTRACE  \n",
      "0      Not a Fatality (not Applicable)      1         0  \n",
      "1                                White      1         0  \n",
      "2      Not a Fatality (not Applicable)      1         0  \n",
      "3                                White      1         0  \n",
      "4      Not a Fatality (not Applicable)      1         0  \n",
      "...                                ...    ...       ...  \n",
      "82988        Black or African American      1         0  \n",
      "82989  Not a Fatality (not Applicable)      1         0  \n",
      "82990                            White      1         0  \n",
      "82991                            White      1         0  \n",
      "82992  Not a Fatality (not Applicable)      1         0  \n",
      "\n",
      "[82993 rows x 9 columns]\n",
      "Starting to read the File\n",
      "################Labels to Save###################### Index(['STATE', 'STATENAME', 'ST_CASE', 'VEH_NO', 'PER_NO', 'RACE', 'RACENAME',\n",
      "       'ORDER', 'MULTRACE'],\n",
      "      dtype='object')\n",
      "################Updated CSV File#################        STATE STATENAME  ST_CASE  VEH_NO  PER_NO  RACE  \\\n",
      "0          1   Alabama    10001       1       1     2   \n",
      "1          1   Alabama    10001       1       2     0   \n",
      "2          1   Alabama    10001       1       3     2   \n",
      "3          1   Alabama    10001       1       4     2   \n",
      "4          1   Alabama    10002       1       1     0   \n",
      "...      ...       ...      ...     ...     ...   ...   \n",
      "86557     56   Wyoming   560114       1       1     0   \n",
      "86558     56   Wyoming   560114       1       2     0   \n",
      "86559     56   Wyoming   560114       2       1     0   \n",
      "86560     56   Wyoming   560115       1       1     1   \n",
      "86561     56   Wyoming   560115       1       2     0   \n",
      "\n",
      "                              RACENAME  ORDER  MULTRACE  \n",
      "0            Black or African American      1         0  \n",
      "1      Not a Fatality (not Applicable)      1         0  \n",
      "2            Black or African American      1         0  \n",
      "3            Black or African American      1         0  \n",
      "4      Not a Fatality (not Applicable)      1         0  \n",
      "...                                ...    ...       ...  \n",
      "86557  Not a Fatality (not Applicable)      1         0  \n",
      "86558  Not a Fatality (not Applicable)      1         0  \n",
      "86559  Not a Fatality (not Applicable)      1         0  \n",
      "86560                            White      1         0  \n",
      "86561  Not a Fatality (not Applicable)      1         0  \n",
      "\n",
      "[86562 rows x 9 columns]\n",
      "Starting to read the File\n",
      "################Labels to Save###################### Index(['STATE', 'STATENAME', 'ST_CASE', 'VEH_NO', 'PER_NO', 'RACE', 'RACENAME',\n",
      "       'ORDER', 'MULTRACE'],\n",
      "      dtype='object')\n",
      "################Updated CSV File#################        STATE STATENAME  ST_CASE  VEH_NO  PER_NO  RACE  \\\n",
      "0          1   Alabama    10001       1       1     2   \n",
      "1          1   Alabama    10001       1       2     0   \n",
      "2          1   Alabama    10001       2       1     4   \n",
      "3          1   Alabama    10002       1       1     2   \n",
      "4          1   Alabama    10002       1       2     2   \n",
      "...      ...       ...      ...     ...     ...   ...   \n",
      "97681     56   Wyoming   560102       1       1    98   \n",
      "97682     56   Wyoming   560103       0       1     1   \n",
      "97683     56   Wyoming   560103       1       1     0   \n",
      "97684     56   Wyoming   560104       1       1     1   \n",
      "97685     56   Wyoming   560104       2       1     0   \n",
      "\n",
      "                              RACENAME  ORDER  MULTRACE  \n",
      "0            Black or African American      1         0  \n",
      "1      Not a Fatality (not Applicable)      1         0  \n",
      "2                              Chinese      1         0  \n",
      "3            Black or African American      1         0  \n",
      "4            Black or African American      1         0  \n",
      "...                                ...    ...       ...  \n",
      "97681                       Other Race      2         1  \n",
      "97682                            White      1         0  \n",
      "97683  Not a Fatality (not Applicable)      1         0  \n",
      "97684                            White      1         0  \n",
      "97685  Not a Fatality (not Applicable)      1         0  \n",
      "\n",
      "[97686 rows x 9 columns]\n",
      "Starting to read the File\n",
      "################Labels to Save###################### Index(['STATE', 'STATENAME', 'ST_CASE', 'VEH_NO', 'PER_NO', 'RACE', 'RACENAME',\n",
      "       'ORDER', 'MULTRACE'],\n",
      "      dtype='object')\n",
      "################Updated CSV File#################        STATE STATENAME  ST_CASE  VEH_NO  PER_NO  RACE  \\\n",
      "0          1   Alabama    10001       1       1     1   \n",
      "1          1   Alabama    10001       2       1     0   \n",
      "2          1   Alabama    10001       2       2     0   \n",
      "3          1   Alabama    10002       1       1     1   \n",
      "4          1   Alabama    10002       2       1     1   \n",
      "...      ...       ...      ...     ...     ...   ...   \n",
      "95950     56   Wyoming   560117       1       1     3   \n",
      "95951     56   Wyoming   560118       1       1     0   \n",
      "95952     56   Wyoming   560118       1       2     1   \n",
      "95953     56   Wyoming   560118       1       3     0   \n",
      "95954     56   Wyoming   560118       1       4     0   \n",
      "\n",
      "                                     RACENAME  ORDER  MULTRACE  \n",
      "0                                       White      1         0  \n",
      "1             Not a Fatality (not Applicable)      1         0  \n",
      "2             Not a Fatality (not Applicable)      1         0  \n",
      "3                                       White      1         0  \n",
      "4                                       White      1         0  \n",
      "...                                       ...    ...       ...  \n",
      "95950  North American Indian or Alaska Native      1         0  \n",
      "95951         Not a Fatality (not Applicable)      1         0  \n",
      "95952                                   White      1         0  \n",
      "95953         Not a Fatality (not Applicable)      1         0  \n",
      "95954         Not a Fatality (not Applicable)      1         0  \n",
      "\n",
      "[95955 rows x 9 columns]\n"
     ]
    }
   ],
   "source": [
    "base_path = Path(\"Resources/accident_data/2019\")\n",
    "createCSV(f\"{base_path}/race.csv\",\"Resources/race_labels.csv\",\"us_weather\",\"w\")\n",
    "base_path = Path(\"Resources/accident_data/2020\")\n",
    "createCSV(f\"{base_path}/race.csv\",\"Resources/race_labels.csv\",\"us_weather\",\"a\")\n",
    "base_path = Path(\"Resources/accident_data/2021\")\n",
    "createCSV(f\"{base_path}/race.csv\",\"Resources/race_labels.csv\",\"us_weather\",\"a\")\n",
    "base_path = Path(\"Resources/accident_data/2022\")\n",
    "createCSV(f\"{base_path}/race.csv\",\"Resources/race_labels.csv\",\"us_weather\",\"a\")"
   ]
  },
  {
   "cell_type": "code",
   "execution_count": 8,
   "id": "c1ad47a1-3506-46e5-95f1-217d5b1570dc",
   "metadata": {},
   "outputs": [
    {
     "name": "stdout",
     "output_type": "stream",
     "text": [
      "Starting to read the File\n",
      "################Labels to Save###################### Index(['ST_CASE', 'WEATHERNAME'], dtype='object')\n",
      "################Updated CSV File#################        ST_CASE        WEATHERNAME\n",
      "0        10001              Clear\n",
      "1        10002               Rain\n",
      "2        10003             Cloudy\n",
      "3        10004              Clear\n",
      "4        10005   Fog, Smog, Smoke\n",
      "...        ...                ...\n",
      "33482   560117  Severe Crosswinds\n",
      "33483   560118              Clear\n",
      "33484   560119              Clear\n",
      "33485   560120              Clear\n",
      "33486   560121               Rain\n",
      "\n",
      "[33487 rows x 2 columns]\n",
      "Starting to read the File\n",
      "################Labels to Save###################### Index(['ST_CASE', 'WEATHERNAME'], dtype='object')\n",
      "################Updated CSV File#################        ST_CASE        WEATHERNAME\n",
      "0        10001              Clear\n",
      "1        10002               Rain\n",
      "2        10003               Rain\n",
      "3        10004             Cloudy\n",
      "4        10005               Rain\n",
      "...        ...                ...\n",
      "36276   560111               Snow\n",
      "36277   560112              Clear\n",
      "36278   560113               Snow\n",
      "36279   560114              Clear\n",
      "36280   560115  Severe Crosswinds\n",
      "\n",
      "[36281 rows x 2 columns]\n",
      "Starting to read the File\n",
      "################Labels to Save###################### Index(['ST_CASE', 'WEATHERNAME'], dtype='object')\n",
      "################Updated CSV File#################        ST_CASE WEATHERNAME\n",
      "0        10001        Rain\n",
      "1        10002        Rain\n",
      "2        10003        Rain\n",
      "3        10004       Clear\n",
      "4        10005      Cloudy\n",
      "...        ...         ...\n",
      "40203   560100       Clear\n",
      "40204   560101       Clear\n",
      "40205   560102       Clear\n",
      "40206   560103       Clear\n",
      "40207   560104       Clear\n",
      "\n",
      "[40208 rows x 2 columns]\n",
      "Starting to read the File\n",
      "################Labels to Save###################### Index(['ST_CASE', 'WEATHERNAME'], dtype='object')\n",
      "################Updated CSV File#################        ST_CASE WEATHERNAME\n",
      "0        10001       Clear\n",
      "1        10002       Clear\n",
      "2        10003      Cloudy\n",
      "3        10004      Cloudy\n",
      "4        10005        Rain\n",
      "...        ...         ...\n",
      "39639   560114       Clear\n",
      "39640   560115        Snow\n",
      "39641   560116        Snow\n",
      "39642   560117        Snow\n",
      "39643   560118       Clear\n",
      "\n",
      "[39644 rows x 2 columns]\n"
     ]
    }
   ],
   "source": [
    "base_path = Path(\"Resources/accident_data/2019\")\n",
    "createCSV(f\"{base_path}/weather.csv\",\"Resources/weather_labels.csv\",\"us_weather\",\"w\")\n",
    "base_path = Path(\"Resources/accident_data/2020\")\n",
    "createCSV(f\"{base_path}/weather.csv\",\"Resources/weather_labels.csv\",\"us_weather\",\"a\")\n",
    "base_path = Path(\"Resources/accident_data/2021\")\n",
    "createCSV(f\"{base_path}/weather.csv\",\"Resources/weather_labels.csv\",\"us_weather\",\"a\")\n",
    "base_path = Path(\"Resources/accident_data/2022\")\n",
    "createCSV(f\"{base_path}/weather.csv\",\"Resources/weather_labels.csv\",\"us_weather\",\"a\")"
   ]
  },
  {
   "cell_type": "code",
   "execution_count": 9,
   "id": "ff23ab85-beca-4b1d-a8a6-ab2de9bbd7a7",
   "metadata": {},
   "outputs": [
    {
     "name": "stdout",
     "output_type": "stream",
     "text": [
      "Starting to read the File\n",
      "Starting to read the File\n",
      "Starting to read the File\n",
      "Starting to read the File\n"
     ]
    }
   ],
   "source": [
    "base_path = Path(\"Resources/accident_data/2019\")\n",
    "mergeCSV(f\"{base_path}/Vision.csv\",\"us_Vision\",\"w\")\n",
    "base_path = Path(\"Resources/accident_data/2020\")\n",
    "mergeCSV(f\"{base_path}/Vision.csv\",\"us_Vision\",\"a\")\n",
    "base_path = Path(\"Resources/accident_data/2021\")\n",
    "mergeCSV(f\"{base_path}/Vision.csv\",\"us_Vision\",\"a\")\n",
    "base_path = Path(\"Resources/accident_data/2022\")\n",
    "mergeCSV(f\"{base_path}/Vision.csv\",\"us_Vision\",\"a\")"
   ]
  },
  {
   "cell_type": "code",
   "execution_count": 10,
   "id": "702cb6a4-4662-47d9-92f0-af37ca43e448",
   "metadata": {},
   "outputs": [],
   "source": [
    "import import_ipynb as ipynb\n",
    "def loadUSAccidentDataToMongoDB():\n",
    "    object_names = ['us_person','us_vehicle','us_Vision', 'us_weather', 'us_race','us_drug', 'us_accident']\n",
    "    # Pass the collection names\n",
    "    from mongodb_load_databases import createMongoDB, validateMongoDB\n",
    "    db_name = 'us_accidents_db'\n",
    "    createMongoDB(db_name, object_names)\n",
    "    validateMongoDB(db_name)"
   ]
  },
  {
   "cell_type": "code",
   "execution_count": 11,
   "id": "38350dc1-4587-49d6-97f1-4ffbf1fbda89",
   "metadata": {},
   "outputs": [
    {
     "name": "stdout",
     "output_type": "stream",
     "text": [
      "importing Jupyter notebook from mongodb_load_databases.ipynb\n",
      "Imported Resources/us_person.csv into collection us_person.\n",
      "Imported Resources/us_vehicle.csv into collection us_vehicle.\n",
      "Imported Resources/us_Vision.csv into collection us_Vision.\n",
      "Imported Resources/us_weather.csv into collection us_weather.\n",
      "Imported Resources/us_race.csv into collection us_race.\n",
      "Imported Resources/us_drug.csv into collection us_drug.\n",
      "Imported Resources/us_accident.csv into collection us_accident.\n",
      "['admin', 'autosaurus', 'classDB', 'config', 'crowdfunding_db', 'epa', 'fruits_db', 'gardenDB', 'local', 'met', 'petsitly_marketing', 'travel_db', 'uk_food', 'us_accidents_db']\n",
      "['us_accident', 'us_race', 'us_vehicle', 'us_drug', 'us_person', 'us_weather', 'us_Vision']\n",
      "us_accident 148431\n",
      "us_race 363199\n",
      "us_vehicle 228481\n",
      "us_drug 445360\n",
      "us_person 362510\n",
      "us_weather 149623\n",
      "us_Vision 228661\n"
     ]
    }
   ],
   "source": [
    " loadUSAccidentDataToMongoDB()"
   ]
  },
  {
   "cell_type": "code",
   "execution_count": null,
   "id": "b2545b7d",
   "metadata": {},
   "outputs": [],
   "source": []
  },
  {
   "cell_type": "code",
   "execution_count": null,
   "id": "f435fd71-8245-4bc5-983a-363328b0499a",
   "metadata": {},
   "outputs": [],
   "source": []
  }
 ],
 "metadata": {
  "kernelspec": {
   "display_name": "Python 3 (ipykernel)",
   "language": "python",
   "name": "python3"
  },
  "language_info": {
   "codemirror_mode": {
    "name": "ipython",
    "version": 3
   },
   "file_extension": ".py",
   "mimetype": "text/x-python",
   "name": "python",
   "nbconvert_exporter": "python",
   "pygments_lexer": "ipython3",
   "version": "3.10.14"
  }
 },
 "nbformat": 4,
 "nbformat_minor": 5
}
