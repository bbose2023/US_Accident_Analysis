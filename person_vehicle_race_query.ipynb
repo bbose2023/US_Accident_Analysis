{
 "cells": [
  {
   "cell_type": "code",
   "execution_count": 2,
   "id": "27a62d75-e98b-40be-a107-cb0f14be26ff",
   "metadata": {},
   "outputs": [],
   "source": [
    "from pymongo import MongoClient\n",
    "from pprint import pprint\n",
    "import pandas as pd\n",
    "import matplotlib.pyplot as plt\n",
    "import numpy as np\n",
    "from utils import flatten_list_of_dicts "
   ]
  },
  {
   "cell_type": "code",
   "execution_count": 3,
   "id": "b0c06070-baa6-4ab4-bd26-10a2c33bb9f7",
   "metadata": {},
   "outputs": [],
   "source": [
    "# Create an instance of MongoClient\n",
    "mongo = MongoClient(port=27017)"
   ]
  },
  {
   "cell_type": "code",
   "execution_count": 4,
   "id": "9775f974-33e8-4d53-b0e9-b349796f42f4",
   "metadata": {},
   "outputs": [
    {
     "name": "stdout",
     "output_type": "stream",
     "text": [
      "['admin', 'autosaurus', 'config', 'crowdfunding_db', 'epa', 'fruits_db', 'gardenDB', 'local', 'met', 'petsitly_marketing', 'travel_db', 'uk_food', 'us_accidents_db']\n"
     ]
    }
   ],
   "source": [
    "# confirm that our new database was created\n",
    "print(mongo.list_database_names())"
   ]
  },
  {
   "cell_type": "code",
   "execution_count": 5,
   "id": "438b88ce-7af6-4de4-8eec-d4fd7e9b52d9",
   "metadata": {},
   "outputs": [],
   "source": [
    "# assign the us_accidents_db database to a variable name\n",
    "db = mongo['us_accidents_db']"
   ]
  },
  {
   "cell_type": "code",
   "execution_count": 6,
   "id": "7ab7a358-e980-479d-a33d-eb77409618fb",
   "metadata": {},
   "outputs": [
    {
     "name": "stdout",
     "output_type": "stream",
     "text": [
      "['us_Vision', 'Vehicle_Type', 'system.views', 'us_vehicle', 'us_race', 'us_person', 'us_drug', 'us_weather', 'us_accident']\n"
     ]
    }
   ],
   "source": [
    "# List the names of the collections in the database.\n",
    "# Be sure to use the variable name you assigned to your database to do this.\n",
    "print(db.list_collection_names())"
   ]
  },
  {
   "cell_type": "code",
   "execution_count": 7,
   "id": "7f680b0e-4803-4599-ba4e-c9c813c1c2e7",
   "metadata": {},
   "outputs": [],
   "source": [
    "# assign the collection to a variable\n",
    "weather = db['us_weather']\n",
    "vision = db['us_Vision']\n",
    "person = db['us_person']\n",
    "race = db['us_race']\n",
    "drug = db['us_drug']\n",
    "accident = db['us_accident']\n",
    "vehicle = db['us_vehicle']\n",
    "vehicle_type = db['Vehicle_Type']"
   ]
  },
  {
   "cell_type": "code",
   "execution_count": 8,
   "id": "1093f0ce-8d8d-414b-bf51-ca607cbff141",
   "metadata": {},
   "outputs": [
    {
     "data": {
      "text/plain": [
       "UpdateResult({'n': 148431, 'nModified': 0, 'ok': 1.0, 'updatedExisting': True}, acknowledged=True)"
      ]
     },
     "execution_count": 8,
     "metadata": {},
     "output_type": "execute_result"
    }
   ],
   "source": [
    "accident.update_many(\n",
    "    {},  # This empty filter selects all documents in the collection\n",
    "    {'$unset': {'ACCDT_PK': \"\"}}  # This specifies the field to remove\n",
    ")"
   ]
  },
  {
   "cell_type": "code",
   "execution_count": 9,
   "id": "1a7c5315-253d-4fe3-8652-3604a63bef6e",
   "metadata": {},
   "outputs": [
    {
     "data": {
      "text/html": [
       "<div>\n",
       "<style scoped>\n",
       "    .dataframe tbody tr th:only-of-type {\n",
       "        vertical-align: middle;\n",
       "    }\n",
       "\n",
       "    .dataframe tbody tr th {\n",
       "        vertical-align: top;\n",
       "    }\n",
       "\n",
       "    .dataframe thead th {\n",
       "        text-align: right;\n",
       "    }\n",
       "</style>\n",
       "<table border=\"1\" class=\"dataframe\">\n",
       "  <thead>\n",
       "    <tr style=\"text-align: right;\">\n",
       "      <th></th>\n",
       "      <th>_id</th>\n",
       "      <th>STATE</th>\n",
       "      <th>STATENAME</th>\n",
       "      <th>ST_CASE</th>\n",
       "      <th>VE_TOTAL</th>\n",
       "      <th>PVH_INVL</th>\n",
       "      <th>PEDS</th>\n",
       "      <th>PERSONS</th>\n",
       "      <th>PERMVIT</th>\n",
       "      <th>PERNOTMVIT</th>\n",
       "      <th>...</th>\n",
       "      <th>RD_OWNERNAME</th>\n",
       "      <th>LATITUDE</th>\n",
       "      <th>LONGITUD</th>\n",
       "      <th>SP_JURNAME</th>\n",
       "      <th>HARM_EVNAME</th>\n",
       "      <th>RELJCT1NAME</th>\n",
       "      <th>WRK_ZONENAME</th>\n",
       "      <th>REL_ROADNAME</th>\n",
       "      <th>LGT_CONDNAME</th>\n",
       "      <th>FATALS</th>\n",
       "    </tr>\n",
       "  </thead>\n",
       "  <tbody>\n",
       "    <tr>\n",
       "      <th>0</th>\n",
       "      <td>670f216a0b10f417d858c095</td>\n",
       "      <td>1</td>\n",
       "      <td>Alabama</td>\n",
       "      <td>10001</td>\n",
       "      <td>2</td>\n",
       "      <td>0</td>\n",
       "      <td>0</td>\n",
       "      <td>3</td>\n",
       "      <td>3</td>\n",
       "      <td>0</td>\n",
       "      <td>...</td>\n",
       "      <td>State Highway Agency</td>\n",
       "      <td>33.490967</td>\n",
       "      <td>-88.274083</td>\n",
       "      <td>No Special Jurisdiction</td>\n",
       "      <td>Motor Vehicle In-Transport</td>\n",
       "      <td>No</td>\n",
       "      <td></td>\n",
       "      <td>On Roadway</td>\n",
       "      <td>Daylight</td>\n",
       "      <td>1</td>\n",
       "    </tr>\n",
       "  </tbody>\n",
       "</table>\n",
       "<p>1 rows × 33 columns</p>\n",
       "</div>"
      ],
      "text/plain": [
       "                        _id STATE STATENAME ST_CASE VE_TOTAL PVH_INVL PEDS  \\\n",
       "0  670f216a0b10f417d858c095     1   Alabama   10001        2        0    0   \n",
       "\n",
       "  PERSONS PERMVIT PERNOTMVIT  ...          RD_OWNERNAME   LATITUDE   LONGITUD  \\\n",
       "0       3       3          0  ...  State Highway Agency  33.490967 -88.274083   \n",
       "\n",
       "                SP_JURNAME                 HARM_EVNAME RELJCT1NAME  \\\n",
       "0  No Special Jurisdiction  Motor Vehicle In-Transport          No   \n",
       "\n",
       "  WRK_ZONENAME REL_ROADNAME LGT_CONDNAME FATALS  \n",
       "0                On Roadway     Daylight      1  \n",
       "\n",
       "[1 rows x 33 columns]"
      ]
     },
     "execution_count": 9,
     "metadata": {},
     "output_type": "execute_result"
    }
   ],
   "source": [
    "accident_results = accident.find({})\n",
    "df_accident = pd.DataFrame(list(accident_results))\n",
    "df_accident.head(1)"
   ]
  },
  {
   "cell_type": "code",
   "execution_count": 10,
   "id": "1ac381e0-c4f6-4d61-b54d-ff5b53394e5b",
   "metadata": {},
   "outputs": [
    {
     "data": {
      "text/plain": [
       "UpdateResult({'n': 362510, 'nModified': 0, 'ok': 1.0, 'updatedExisting': True}, acknowledged=True)"
      ]
     },
     "execution_count": 10,
     "metadata": {},
     "output_type": "execute_result"
    }
   ],
   "source": [
    "person.update_many(\n",
    "    {},  # This empty filter selects all documents in the collection\n",
    "    {'$unset': {'PERSON_PK': \"\"}}  # This specifies the field to remove\n",
    ")"
   ]
  },
  {
   "cell_type": "code",
   "execution_count": 11,
   "id": "06878006-9a42-4b51-828e-9b9737ff17aa",
   "metadata": {},
   "outputs": [
    {
     "data": {
      "text/html": [
       "<div>\n",
       "<style scoped>\n",
       "    .dataframe tbody tr th:only-of-type {\n",
       "        vertical-align: middle;\n",
       "    }\n",
       "\n",
       "    .dataframe tbody tr th {\n",
       "        vertical-align: top;\n",
       "    }\n",
       "\n",
       "    .dataframe thead th {\n",
       "        text-align: right;\n",
       "    }\n",
       "</style>\n",
       "<table border=\"1\" class=\"dataframe\">\n",
       "  <thead>\n",
       "    <tr style=\"text-align: right;\">\n",
       "      <th></th>\n",
       "      <th>_id</th>\n",
       "      <th>STATE</th>\n",
       "      <th>STATENAME</th>\n",
       "      <th>ST_CASE</th>\n",
       "      <th>VE_FORMS</th>\n",
       "      <th>VEH_NO</th>\n",
       "      <th>PER_NO</th>\n",
       "      <th>STR_VEH</th>\n",
       "      <th>AGE</th>\n",
       "      <th>AGENAME</th>\n",
       "      <th>...</th>\n",
       "      <th>HISPANIC</th>\n",
       "      <th>HISPANICNAME</th>\n",
       "      <th>LOCATION</th>\n",
       "      <th>LOCATIONNAME</th>\n",
       "      <th>YEAR</th>\n",
       "      <th>STATENAME_race</th>\n",
       "      <th>RACE</th>\n",
       "      <th>RACENAME</th>\n",
       "      <th>ORDER</th>\n",
       "      <th>MULTRACE</th>\n",
       "    </tr>\n",
       "  </thead>\n",
       "  <tbody>\n",
       "    <tr>\n",
       "      <th>0</th>\n",
       "      <td>670f214247f7b35b50a570f1</td>\n",
       "      <td>1</td>\n",
       "      <td>Alabama</td>\n",
       "      <td>10001</td>\n",
       "      <td>2</td>\n",
       "      <td>1</td>\n",
       "      <td>1</td>\n",
       "      <td>0</td>\n",
       "      <td>34</td>\n",
       "      <td>34 Years</td>\n",
       "      <td>...</td>\n",
       "      <td>0</td>\n",
       "      <td>Not A Fatality (not Applicable)</td>\n",
       "      <td>0</td>\n",
       "      <td>Occupant of a Motor Vehicle</td>\n",
       "      <td>2019</td>\n",
       "      <td>Alabama</td>\n",
       "      <td>0</td>\n",
       "      <td>Not a Fatality (not Applicable)</td>\n",
       "      <td>1</td>\n",
       "      <td>0</td>\n",
       "    </tr>\n",
       "  </tbody>\n",
       "</table>\n",
       "<p>1 rows × 50 columns</p>\n",
       "</div>"
      ],
      "text/plain": [
       "                        _id STATE STATENAME ST_CASE VE_FORMS VEH_NO PER_NO  \\\n",
       "0  670f214247f7b35b50a570f1     1   Alabama   10001        2      1      1   \n",
       "\n",
       "  STR_VEH AGE   AGENAME  ... HISPANIC                     HISPANICNAME  \\\n",
       "0       0  34  34 Years  ...        0  Not A Fatality (not Applicable)   \n",
       "\n",
       "  LOCATION                 LOCATIONNAME  YEAR STATENAME_race RACE  \\\n",
       "0        0  Occupant of a Motor Vehicle  2019        Alabama    0   \n",
       "\n",
       "                          RACENAME ORDER MULTRACE  \n",
       "0  Not a Fatality (not Applicable)     1        0  \n",
       "\n",
       "[1 rows x 50 columns]"
      ]
     },
     "execution_count": 11,
     "metadata": {},
     "output_type": "execute_result"
    }
   ],
   "source": [
    "person_results = person.find({ })\n",
    "df_person = pd.DataFrame(list(person_results))\n",
    "df_person.head(1)"
   ]
  },
  {
   "cell_type": "code",
   "execution_count": 12,
   "id": "49ac7e3d-6c52-4255-9e46-9c42a15794ed",
   "metadata": {},
   "outputs": [],
   "source": [
    "# Define the aggregation pipeline with a match stage\n",
    "\n",
    "def fn_sex_filter(state,year):\n",
    "   \n",
    "    sex_pipeline = [\n",
    "        {\n",
    "            \"$match\": {\n",
    "                '$and': [\n",
    "                    #{\"PER_TYP\": 1},  # Filter for PER_TYP = 1\n",
    "                    #{\"SEXNAME\": {'$in': ['Male', 'Female']}},\n",
    "                    {\"STATENAME\": {'$in': state}},\n",
    "                    {\"YEAR\": {'$in': year}},\n",
    "                    {\"INJ_SEV\":4}\n",
    "                ]\n",
    "            }\n",
    "        },\n",
    "        {\n",
    "            \"$group\": {\n",
    "                \"_id\": \"$SEXNAME\" , \"COUNT\": {\"$sum\": 1}  # Count occurrences\n",
    "            }\n",
    "        },\n",
    "        {\n",
    "            \"$sort\": {\n",
    "                \"_id.sex\": 1  # Sort by sex ascending\n",
    "            }\n",
    "        }\n",
    "    ]\n",
    "    # Execute the aggregation\n",
    "    sex_plot = pd.DataFrame(list(person.aggregate(sex_pipeline))).rename(columns={'_id': 'SEX'})\n",
    "    \n",
    "    # Process data for the chart\n",
    "    return sex_plot.to_dict(orient='records')\n",
    "    \n"
   ]
  },
  {
   "cell_type": "code",
   "execution_count": 13,
   "id": "f4ebf4ef-a514-4c7e-b3c9-79f41408fd5c",
   "metadata": {},
   "outputs": [
    {
     "data": {
      "text/plain": [
       "[{'SEX': 'Male', 'COUNT': 506}, {'SEX': 'Female', 'COUNT': 179}]"
      ]
     },
     "execution_count": 13,
     "metadata": {},
     "output_type": "execute_result"
    }
   ],
   "source": [
    "list_of_dict = fn_sex_filter(['New Jersey'],[2022]) ## check the data\n",
    "list_of_dict\n"
   ]
  },
  {
   "cell_type": "code",
   "execution_count": 14,
   "id": "3be223cb-cb0f-4c0d-ba82-d75acb9405de",
   "metadata": {
    "scrolled": true
   },
   "outputs": [
    {
     "ename": "NameError",
     "evalue": "name 'sex_plot' is not defined",
     "output_type": "error",
     "traceback": [
      "\u001b[1;31m---------------------------------------------------------------------------\u001b[0m",
      "\u001b[1;31mNameError\u001b[0m                                 Traceback (most recent call last)",
      "Cell \u001b[1;32mIn[14], line 5\u001b[0m\n\u001b[0;32m      2\u001b[0m \u001b[38;5;28;01mimport\u001b[39;00m \u001b[38;5;21;01mpandas\u001b[39;00m \u001b[38;5;28;01mas\u001b[39;00m \u001b[38;5;21;01mpd\u001b[39;00m\n\u001b[0;32m      4\u001b[0m \u001b[38;5;66;03m# Assuming sex_plot is already processed and has 'Sex' and 'COUNT' columns\u001b[39;00m\n\u001b[1;32m----> 5\u001b[0m df_sex \u001b[38;5;241m=\u001b[39m pd\u001b[38;5;241m.\u001b[39mDataFrame(\u001b[43msex_plot\u001b[49m)  \u001b[38;5;66;03m# Convert sex list to a pandas DataFrame\u001b[39;00m\n\u001b[0;32m      7\u001b[0m \u001b[38;5;66;03m# Define the labels and values from the DataFrame\u001b[39;00m\n\u001b[0;32m      8\u001b[0m labels \u001b[38;5;241m=\u001b[39m df_sex[\u001b[38;5;124m'\u001b[39m\u001b[38;5;124mid\u001b[39m\u001b[38;5;124m'\u001b[39m]  \u001b[38;5;66;03m# This will be the 'Male', 'Female', etc.\u001b[39;00m\n",
      "\u001b[1;31mNameError\u001b[0m: name 'sex_plot' is not defined"
     ]
    }
   ],
   "source": [
    "import plotly.express as px\n",
    "import pandas as pd\n",
    "\n",
    "# Assuming sex_plot is already processed and has 'Sex' and 'COUNT' columns\n",
    "df_sex = pd.DataFrame(sex_plot)  # Convert sex list to a pandas DataFrame\n",
    "\n",
    "# Define the labels and values from the DataFrame\n",
    "labels = df_sex['id']  # This will be the 'Male', 'Female', etc.\n",
    "values = df_sex['COUNT']  # The accident counts for each category\n",
    "\n",
    "# Create the interactive pie chart using Plotly\n",
    "fig = px.pie(\n",
    "    df_sex,  # Use the DataFrame directly\n",
    "    names=labels,  # Set the 'names' parameter for the labels\n",
    "    values=values,  # Set the 'values' parameter for the counts\n",
    "    color=labels,  # Assign colors to each category\n",
    "    color_discrete_map={\n",
    "        'Male': 'skyblue', \n",
    "        'Female': 'lightcoral', \n",
    "        'Reported as Unknown': 'green', \n",
    "        'Not Reported': 'orange'\n",
    "    },\n",
    "    title='Sex-Wise Ratio of Accidents',  # Chart title\n",
    "    width=800,  # Set the width of the figure\n",
    "    height=500  # Set the height of the figure\n",
    ")\n",
    "\n",
    "# Customize the hover information and appearance\n",
    "fig.update_traces(textinfo='percent+label', hoverinfo='label+percent+value')\n",
    "\n",
    "# Show the pie chart\n",
    "fig.show()\n",
    "\n",
    "\n"
   ]
  },
  {
   "cell_type": "code",
   "execution_count": 21,
   "id": "3daaca3c-cc2a-4297-8c18-9895e4cc0d26",
   "metadata": {},
   "outputs": [],
   "source": [
    "def categorize_age(age):\n",
    "    if 0 <= age < 5:\n",
    "        return '0 to 05 Years'\n",
    "    elif 5 <= age < 9:\n",
    "        return '05 to 09 Years'\n",
    "    elif 10 <= age < 14:\n",
    "        return '10 to 14 Years'\n",
    "    elif 15 <= age < 20:\n",
    "        return '15 to 20 Years'\n",
    "    elif 21 <= age < 24:\n",
    "        return '21 to 24 Years'\n",
    "    elif 25 <= age < 34:\n",
    "        return '25 to 34 Years'\n",
    "    elif 35 <= age < 44:\n",
    "        return '35 to 44 Years'\n",
    "    elif 45 <= age < 54:\n",
    "        return '45 to 54 Years'   \n",
    "    elif 55 <= age < 64:\n",
    "        return '55 to 64 Years'\n",
    "    elif 65 <= age < 74:\n",
    "        return '65 to 74 Years'     \n",
    "    else:\n",
    "        return '75+ Age'"
   ]
  },
  {
   "cell_type": "code",
   "execution_count": 28,
   "id": "c00811a3-07e4-49bc-ba55-dfbc9b65eb62",
   "metadata": {},
   "outputs": [],
   "source": [
    "# age\n",
    "# Define the aggregation pipeline with a match stage\n",
    "def fn_age_filter(state,year):\n",
    "    age_pipeline = [\n",
    "        {\n",
    "            \"$match\": {\n",
    "                '$and': [\n",
    "                    #{\"PER_TYP\": 1},  # Filter for PER_TYP = 1\n",
    "                    #{'AGE': {'$gte': 15, '$lte': 100}},  # Filter for age between 15 and 100\n",
    "                    {\"STATENAME\": {'$in': state}},\n",
    "                    {\"YEAR\": {'$in': year}},\n",
    "                    {\"INJ_SEV\":4}\n",
    "                ]\n",
    "            }\n",
    "        },\n",
    "        {\n",
    "            \"$group\": {\n",
    "                \"_id\": \"$AGE\",  # Group by age\n",
    "                \"COUNT\": {\"$sum\": 1}  # Count occurrences\n",
    "            }\n",
    "        },\n",
    "        {\n",
    "            \"$sort\": {\n",
    "                \"_id\": 1  # Sort by age ascending\n",
    "            }\n",
    "        }\n",
    "    ]\n",
    "\n",
    "    # Execute the aggregation\n",
    "    df_age_plot = pd.DataFrame(list(person.aggregate(age_pipeline))).rename(columns={'_id': 'AGE'})\n",
    "    df_age_plot['AGE_GROUP'] = df_age_plot['AGE'].apply(categorize_age)\n",
    "    \n",
    "    df_age_agg_plot = df_age_plot.groupby('AGE_GROUP', as_index=False)['COUNT'].sum()\n",
    "    \n",
    "    #df_age_agg_plot.head(20)\n",
    "    # Convert df_age_agg_plot DataFrame to a list of dictionaries\n",
    "    age_agg_list = df_age_agg_plot.to_dict(orient='records')\n",
    "    \n",
    "    # Display the list of dictionaries\n",
    "    print(age_agg_list)"
   ]
  },
  {
   "cell_type": "code",
   "execution_count": 30,
   "id": "f9b27fbc-1c9a-41fd-ba3a-b74ac0e43fb7",
   "metadata": {},
   "outputs": [
    {
     "name": "stdout",
     "output_type": "stream",
     "text": [
      "[{'AGE_GROUP': '0 to 05 Years', 'COUNT': 47}, {'AGE_GROUP': '05 to 09 Years', 'COUNT': 38}, {'AGE_GROUP': '10 to 14 Years', 'COUNT': 36}, {'AGE_GROUP': '15 to 20 Years', 'COUNT': 291}, {'AGE_GROUP': '21 to 24 Years', 'COUNT': 322}, {'AGE_GROUP': '25 to 34 Years', 'COUNT': 873}, {'AGE_GROUP': '35 to 44 Years', 'COUNT': 661}, {'AGE_GROUP': '45 to 54 Years', 'COUNT': 523}, {'AGE_GROUP': '55 to 64 Years', 'COUNT': 545}, {'AGE_GROUP': '65 to 74 Years', 'COUNT': 336}, {'AGE_GROUP': '75+ Age', 'COUNT': 828}]\n"
     ]
    }
   ],
   "source": [
    "list_of_dict1 = fn_age_filter(['Texas'],[2021]) ## check the data\n",
    "list_of_dict1"
   ]
  },
  {
   "cell_type": "code",
   "execution_count": null,
   "id": "b4b2e361-d333-4c9e-8564-954b477edb0f",
   "metadata": {},
   "outputs": [],
   "source": [
    "# Increase figure size\n",
    "plt.figure(figsize=(12, 6))\n",
    "\n",
    "# Create the bar chart with adjusted bar width\n",
    "plt.bar(df_age_agg_plot['AGE_GROUP'], df_age_agg_plot['COUNT'], color='skyblue', width=0.8)\n",
    "\n",
    "# Set title and labels\n",
    "plt.title('Count of Occurrences by Age group in Texas (2022)')\n",
    "plt.xlabel('Age Group')\n",
    "plt.ylabel('Count')\n",
    "\n",
    "# Rotate x-tick labels for better readability\n",
    "plt.xticks(df_age_agg_plot['AGE_GROUP'], rotation=45)\n",
    "\n",
    "# Add grid for y-axis\n",
    "plt.grid(axis='y')\n",
    "\n",
    "# Save the plot\n",
    "plt.savefig('age_agg_plot.png', bbox_inches='tight')  # Use bbox_inches to fit the plot tightly\n",
    "plt.show()"
   ]
  },
  {
   "cell_type": "code",
   "execution_count": 31,
   "id": "45c864b6-5398-4be0-acff-de1274f8e72b",
   "metadata": {},
   "outputs": [],
   "source": [
    "# person_type\n",
    "# Define the aggregation pipeline with a match stage\n",
    "def fn_person_filter(state,year):\n",
    "    person_type_pipeline = [\n",
    "        {\n",
    "            \"$match\": {\n",
    "                '$and': [\n",
    "                    {\"PER_TYP\": {\"$in\": [1, 2, 5]}}, \n",
    "                   \n",
    "                    {\"STATENAME\": {'$in': state}},\n",
    "                    {\"YEAR\": {'$in': year}},\n",
    "                    {\"INJ_SEV\":4}\n",
    "                ]\n",
    "            }\n",
    "        },\n",
    "        {\n",
    "            \"$group\": {\n",
    "                \"_id\": \"$PER_TYPNAME\", \n",
    "                \"COUNT\": {\"$sum\": 1}  # Count occurrences\n",
    "            }\n",
    "        },\n",
    "        {\n",
    "            \"$sort\": {\n",
    "                \"_id\": 1  \n",
    "            }\n",
    "        }\n",
    "    ]\n",
    "    \n",
    "    # Execute the aggregation\n",
    "    person_plot = list(person.aggregate(person_type_pipeline))\n",
    "     # Process data for the chart\n",
    "    return flatten_list_of_dicts(person_plot)\n",
    "\n",
    "\n",
    "\n",
    "#df_person_plot.head(20)"
   ]
  },
  {
   "cell_type": "code",
   "execution_count": 32,
   "id": "ae7f480e-7b0e-4326-b6f5-b0acd75875a4",
   "metadata": {},
   "outputs": [
    {
     "data": {
      "text/plain": [
       "[{'_id': 'Driver of a Motor Vehicle In-Transport', 'COUNT': 2696},\n",
       " {'_id': 'Passenger of a Motor Vehicle In-Transport', 'COUNT': 786},\n",
       " {'_id': 'Pedestrian', 'COUNT': 797}]"
      ]
     },
     "execution_count": 32,
     "metadata": {},
     "output_type": "execute_result"
    }
   ],
   "source": [
    "list_of_dict2 = fn_person_filter(['Texas'],[2022]) ## check the data\n",
    "list_of_dict2"
   ]
  },
  {
   "cell_type": "code",
   "execution_count": null,
   "id": "3fdb6769-5cd6-4904-95b8-75b22b08219a",
   "metadata": {},
   "outputs": [],
   "source": [
    "plt.figure(figsize=(10,2))\n",
    "plt.barh(df_person_plot['PER_TYPNAME'], df_person_plot['COUNT'], color='lightgreen')\n",
    "plt.title('Count of PER_TYP by Name in Texas (2022)')\n",
    "plt.xlabel('Count')\n",
    "plt.ylabel('PER_TYP Name')\n",
    "plt.tight_layout()\n",
    "\n",
    "# Save the plot\n",
    "plt.savefig('per_typ_count.png')\n",
    "plt.show()"
   ]
  },
  {
   "cell_type": "code",
   "execution_count": 36,
   "id": "b2ec1e07-ffcb-4e72-b9d0-8c1004607356",
   "metadata": {},
   "outputs": [],
   "source": [
    "# person_type\n",
    "# Define the aggregation pipeline with a match stage\n",
    "def fn_person_drinking_filter(state,year):\n",
    "    person_drinking_pipeline = [\n",
    "        {\n",
    "            \"$match\": {\n",
    "                '$and': [\n",
    "                    {\"DRINKING\": {\"$in\": [0, 1, 8, 9]}}, \n",
    "                    {\"PER_TYP\": 1},\n",
    "                    {\"STATENAME\": {'$in': state}},\n",
    "                    {\"YEAR\": {'$in': year}},\n",
    "                    {\"INJ_SEV\":4}\n",
    "                ]\n",
    "            }\n",
    "        },\n",
    "        {\n",
    "            \"$group\": {\n",
    "                \"_id\": \"$DRINKINGNAME\", \n",
    "                \"COUNT\": {\"$sum\": 1}  # Count occurrences\n",
    "            }\n",
    "        },\n",
    "        {\n",
    "            \"$sort\": {\n",
    "                \"_id\": 1  \n",
    "                \n",
    "            }\n",
    "        }\n",
    "    ]\n",
    "\n",
    "    # Execute the aggregation\n",
    "    person_drinking_plot = list(person.aggregate(person_drinking_pipeline))\n",
    "    # Process data for the chart\n",
    "    return flatten_list_of_dicts(person_drinking_plot)\n",
    "\n",
    "#df_person_drinking_plot.head(20)"
   ]
  },
  {
   "cell_type": "code",
   "execution_count": 37,
   "id": "03f89ae9-99cb-4764-a6d2-32cc59ddffe1",
   "metadata": {},
   "outputs": [
    {
     "data": {
      "text/plain": [
       "[{'_id': 'No (Alcohol Not Involved)', 'COUNT': 1051},\n",
       " {'_id': 'Not Reported', 'COUNT': 6},\n",
       " {'_id': 'Reported as Unknown', 'COUNT': 644},\n",
       " {'_id': 'Yes (Alcohol Involved)', 'COUNT': 321}]"
      ]
     },
     "execution_count": 37,
     "metadata": {},
     "output_type": "execute_result"
    }
   ],
   "source": [
    "list_of_dict3 = fn_person_drinking_filter(['Florida'],[2022]) ## check the data\n",
    "list_of_dict3"
   ]
  },
  {
   "cell_type": "code",
   "execution_count": null,
   "id": "c793f999-2218-4250-aefb-22979130a1da",
   "metadata": {},
   "outputs": [],
   "source": [
    "# Create a bar chart\n",
    "plt.figure(figsize=(10, 6))\n",
    "plt.bar(df_person_drinking_plot['DRINKINGNAME'], df_person_drinking_plot['COUNT'], color='skyblue')\n",
    "plt.title('Count of Drinking Status in Texas (2022)')\n",
    "plt.xlabel('Drinking Status')\n",
    "plt.ylabel('Count')\n",
    "plt.xticks(rotation=45)\n",
    "plt.grid(axis='y')\n",
    "\n",
    "# Show the plot\n",
    "plt.tight_layout()\n",
    "plt.savefig('per_drinking_count.png')\n",
    "plt.show()"
   ]
  },
  {
   "cell_type": "code",
   "execution_count": 38,
   "id": "2a5a6b0d-83cc-485c-9091-57dfdd99cd16",
   "metadata": {},
   "outputs": [],
   "source": [
    "# person_drug\n",
    "# Define the aggregation pipeline with a match stage\n",
    "def fn_person_drugs_filter(state,year):\n",
    "    dr_drugs_pipeline = [\n",
    "        {\n",
    "            \"$match\": {\n",
    "                '$and': [\n",
    "                    {\"DRUGS\": {\"$in\": [0, 1, 8, 9]}}, \n",
    "                    {\"PER_TYP\": 1},\n",
    "                    {\"STATENAME\": {'$in': state}},\n",
    "                    {\"YEAR\": {'$in': year}},\n",
    "                    {\"INJ_SEV\":4}\n",
    "                ]\n",
    "            }\n",
    "        },\n",
    "        {\n",
    "            \"$group\": {\n",
    "                \"_id\": \"$DRUGSNAME\", \n",
    "                \"COUNT\": {\"$sum\": 1}  # Count occurrences\n",
    "            }\n",
    "        },\n",
    "        {\n",
    "            \"$sort\": {\n",
    "                \"_id\": 1  \n",
    "                \n",
    "            }\n",
    "        }\n",
    "    ]\n",
    "\n",
    "    # Execute the aggregation\n",
    "    dr_drugs_plot = list(person.aggregate(dr_drugs_pipeline))\n",
    "    # Process data for the chart\n",
    "    \n",
    "    return  flatten_list_of_dicts(dr_drugs_plot)                    \n",
    "\n",
    "\n",
    "#df_person_drugs_plot.head(20)"
   ]
  },
  {
   "cell_type": "code",
   "execution_count": 39,
   "id": "715bf8e2-b783-4b79-8484-b7318dd71daf",
   "metadata": {},
   "outputs": [
    {
     "data": {
      "text/plain": [
       "[{'_id': 'No (drugs not involved)', 'COUNT': 1099},\n",
       " {'_id': 'Not Reported', 'COUNT': 6},\n",
       " {'_id': 'Reported as Unknown', 'COUNT': 675},\n",
       " {'_id': 'Yes (drugs involved)', 'COUNT': 242}]"
      ]
     },
     "execution_count": 39,
     "metadata": {},
     "output_type": "execute_result"
    }
   ],
   "source": [
    "list_of_dict4 = fn_person_drugs_filter(['Florida'],[2022]) ## check the data\n",
    "list_of_dict4"
   ]
  },
  {
   "cell_type": "code",
   "execution_count": null,
   "id": "cb8377bd-943e-4552-85aa-34cde9f84189",
   "metadata": {},
   "outputs": [],
   "source": [
    "\n",
    "# vehicle type\n",
    "# Define the aggregation pipeline with a match stage\n",
    "\n",
    "vehicle_pipeline = [\n",
    "    {\n",
    "        \"$match\": {\n",
    "            '$and': [\n",
    "                #{\"PER_TYP\": 1},  # Filter for PER_TYP = 1\n",
    "                {\"STATENAME\": 'New Jersey'},\n",
    "                {\"YEAR\": {'$in': [2022]}},\n",
    "                {\"DEATHS\": {\"$gt\": 0}}\n",
    "            ]\n",
    "        }\n",
    "    },\n",
    "    {\n",
    "        \"$group\": {\n",
    "            \"_id\": \"$BODY_TYP\",  # Group by age\n",
    "            \"COUNT\": {\"$sum\": 1}  # Count occurrences\n",
    "        }\n",
    "    },\n",
    "    {\n",
    "        \"$sort\": {\n",
    "            \"_id\": 1  # Sort by age ascending\n",
    "        }\n",
    "    }\n",
    "]\n",
    "\n",
    "# Execute the aggregation\n",
    "df_vehicle = pd.DataFrame(list(vehicle.aggregate(vehicle_pipeline))).rename(columns={'_id': 'BODY_TYP'})\n",
    "df_vehicle_type = pd.DataFrame(list(vehicle_type.find( {} )))\n",
    "\n",
    "# Merging DataFrames\n",
    "merged_df = pd.merge(df_vehicle, df_vehicle_type, left_on='BODY_TYP', right_on='Code', how='inner')\n",
    "df_vehicle_plot = merged_df.groupby('Classification')['COUNT'].sum().reset_index()\n",
    "\n",
    "# Plot a pie chart\n",
    "df_vehicle_plot.plot.pie(y='COUNT', labels = df_vehicle_plot['Classification'], autopct='%1.2f%%', figsize=(8, 5), colors=['skyblue', 'lightcoral','green'])\n",
    "\n",
    "# Set the title\n",
    "plt.title('Vehicle type wise ratio')\n",
    "# Save the plot\n",
    "plt.savefig('vehicle_typ_count.png')\n",
    "# Show the plot\n",
    "plt.show()"
   ]
  },
  {
   "cell_type": "code",
   "execution_count": null,
   "id": "40dd2e30-e146-4fca-86b4-3076c7233a7c",
   "metadata": {},
   "outputs": [],
   "source": [
    "\n",
    "# drunk driver\n",
    "# Define the aggregation pipeline with a match stage\n",
    "\n",
    "drunk_driver_pipeline = [\n",
    "    {\n",
    "        \"$match\": {\n",
    "            '$and': [\n",
    "                #{\"PER_TYP\": 1},  # Filter for PER_TYP = 1\n",
    "                {\"STATENAME\": 'Texas'},\n",
    "                {\"YEAR\": {'$in': [2022]}},\n",
    "                {\"INJ_SEVNAME\":4}\n",
    "            ]\n",
    "        }\n",
    "    },\n",
    "    {\n",
    "        \"$group\": {\n",
    "            \"_id\": \"$DR_DRINKNAME\",  # Group by age\n",
    "            \"COUNT\": {\"$sum\": 1}  # Count occurrences\n",
    "        }\n",
    "    },\n",
    "    {\n",
    "        \"$sort\": {\n",
    "            \"_id\": 1  # Sort by age ascending\n",
    "        }\n",
    "    }\n",
    "]\n",
    "\n",
    "# Execute the aggregation\n",
    "df_drunk_driver_plot = pd.DataFrame(list(vehicle.aggregate(drunk_driver_pipeline))).rename(columns={'_id': 'DR_DRINKNAME'})\n",
    "\n",
    "# Plot a pie chart\n",
    "df_drunk_plot.plot.pie(y='COUNT', labels=df_drunk_plot['DR_DRINKNAME'], autopct='%1.1f%%', figsize=(8, 5), colors=['skyblue', 'lightcoral'])\n",
    "\n",
    "# Set the title\n",
    "plt.title('Drunk driver Ratio')\n",
    "\n",
    "# Show the plot\n",
    "plt.show()"
   ]
  },
  {
   "cell_type": "code",
   "execution_count": null,
   "id": "507c5f8b-da58-4399-b851-ff1717cc7374",
   "metadata": {},
   "outputs": [],
   "source": [
    "# race type\n",
    "# Define the aggregation pipeline with a match stage\n",
    "\n",
    "race_pipeline = [\n",
    "    {\n",
    "        \"$match\": {\n",
    "            '$and': [\n",
    "                {\"STATENAME\": 'Texas'},\n",
    "                {\"YEAR\": {'$in': [2022]}},\n",
    "                {\"INJ_SEV\":4}\n",
    "            ]\n",
    "        }\n",
    "    },\n",
    "    {\n",
    "        \"$group\": {\n",
    "            \"_id\": \"$RACENAME\",  # Group by race\n",
    "            \"COUNT\": {\"$sum\": 1}  # Count occurrences\n",
    "        }\n",
    "    },\n",
    "    {\n",
    "        \"$sort\": {\n",
    "            \"_id\": 1  # Sort by race ascending\n",
    "        }\n",
    "    }\n",
    "]\n",
    "\n",
    "# Execute the aggregation\n",
    "df_race_plot = pd.DataFrame(list(person.aggregate(race_pipeline))).rename(columns={'_id': 'RACENAME'})\n",
    "\n",
    "plt.figure(figsize=(10,4))\n",
    "plt.barh(df_race_plot['RACENAME'], df_race_plot['COUNT'], color='lightgreen')\n",
    "plt.title('Race of that person who died in fatal accident')\n",
    "plt.xlabel('Count')\n",
    "plt.ylabel('Race Name')\n",
    "plt.tight_layout()\n",
    "\n",
    "# Save the plot\n",
    "plt.savefig('race.png')\n",
    "plt.show()"
   ]
  },
  {
   "cell_type": "code",
   "execution_count": null,
   "id": "127f8ad3-da86-4a08-af44-9bbabe923550",
   "metadata": {},
   "outputs": [],
   "source": [
    "#Get the sex count per year or for selected state per year \n",
    "def getSexFilter(year,state):\n",
    "    #Calculate fatalities by sex\n",
    "    if year and state:\n",
    "        sex_pipeline = [\n",
    "            {\n",
    "                \"$match\": {\n",
    "                    '$and': [\n",
    "                        #{\"PER_TYP\": 1},  # Filter for PER_TYP = 1\n",
    "                        #{\"SEXNAME\": {'$in': ['Male', 'Female']}},\n",
    "                        {\"STATENAME\": {'$in': state}},\n",
    "                        {\"YEAR\": {'$in': year}},\n",
    "                        {\"INJ_SEV\":4}\n",
    "                    ]\n",
    "                }\n",
    "            },\n",
    "            {\n",
    "                \"$group\": {\n",
    "                    \"_id\": \"$SEXNAME\" , \"COUNT\": {\"$sum\": 1}  # Count occurrences\n",
    "                }\n",
    "            },\n",
    "            {\n",
    "                \"$sort\": {\n",
    "                    \"_id.sex\": 1  # Sort by sex ascending\n",
    "                }\n",
    "            }\n",
    "        ]\n",
    "    elif year:\n",
    "        sex_pipeline = [\n",
    "            {\n",
    "                \"$match\": {\n",
    "                    '$and': [\n",
    "                        #{\"PER_TYP\": 1},  # Filter for PER_TYP = 1\n",
    "                        #{\"SEXNAME\": {'$in': ['Male', 'Female']}},\n",
    "                        #{\"STATENAME\": {'$in': state}},\n",
    "                        {\"YEAR\": {'$in': year}},\n",
    "                        {\"INJ_SEV\":4}\n",
    "                    ]\n",
    "                }\n",
    "            },\n",
    "            {\n",
    "                \"$group\": {\n",
    "                    \"_id\": \"$SEXNAME\" , \"COUNT\": {\"$sum\": 1}  # Count occurrences\n",
    "                }\n",
    "            },\n",
    "            {\n",
    "                \"$sort\": {\n",
    "                    \"_id.sex\": 1  # Sort by sex ascending\n",
    "                }\n",
    "            }\n",
    "        ]\n",
    "    else:\n",
    "        # sex Types total in 4 years \n",
    "        sex_pipeline = [\n",
    "            {\n",
    "                \"$match\": {\n",
    "                    '$and': [\n",
    "                        #{\"PER_TYP\": 1},  # Filter for PER_TYP = 1\n",
    "                        #{\"SEXNAME\": {'$in': ['Male', 'Female']}},\n",
    "                        #{\"STATENAME\": {'$in': state}},\n",
    "                        {\"YEAR\": {'$in': year}},\n",
    "                        {\"INJ_SEV\":4}\n",
    "                    ]\n",
    "                }\n",
    "            },\n",
    "            {\n",
    "                \"$group\": {\n",
    "                    \"_id\": \"$SEXNAME\" , \"COUNT\": {\"$sum\": 1}  # Count occurrences\n",
    "                }\n",
    "            },\n",
    "            {\n",
    "                \"$sort\": {\n",
    "                    \"_id.sex\": 1  # Sort by sex ascending\n",
    "                }\n",
    "            }\n",
    "        ]\n",
    "\n",
    "      # Execute the aggregation\n",
    "    sex_plot = list(person.aggregate(sex_pipeline))\n",
    "    print(sex_plot)"
   ]
  },
  {
   "cell_type": "code",
   "execution_count": 20,
   "id": "9b121610-0d35-410b-ae5d-51785a18bca9",
   "metadata": {},
   "outputs": [
    {
     "name": "stdout",
     "output_type": "stream",
     "text": [
      "[{'_id': 'Female', 'COUNT': 10746}, {'_id': 'Male', 'COUNT': 28161}]\n"
     ]
    }
   ],
   "source": [
    "sex_pipeline = [{'$match': {'$and': [{'SEXNAME': {'$in': ['Male', 'Female']}}, {'YEAR': {'$in':[2020]}}, {'INJ_SEV': 4}]}}, {'$group': {'_id': '$SEXNAME', 'COUNT': {'$sum': 1}}}, {'$sort': {'_id.sex': 1}}]\n",
    "\n",
    "# Execute the aggregation\n",
    "sex_plot = list(person.aggregate(sex_pipeline))\n",
    "print(sex_plot)\n"
   ]
  },
  {
   "cell_type": "code",
   "execution_count": 26,
   "id": "303e8a55-7132-4c44-8376-6ad82fe7e20f",
   "metadata": {},
   "outputs": [
    {
     "ename": "IndentationError",
     "evalue": "unindent does not match any outer indentation level (<tokenize>, line 27)",
     "output_type": "error",
     "traceback": [
      "\u001b[1;36m  File \u001b[1;32m<tokenize>:27\u001b[1;36m\u001b[0m\n\u001b[1;33m    df_age_plot = pd.DataFrame(list(person.aggregate(age_pipeline))).rename(columns={'_id': 'AGE'})\u001b[0m\n\u001b[1;37m    ^\u001b[0m\n\u001b[1;31mIndentationError\u001b[0m\u001b[1;31m:\u001b[0m unindent does not match any outer indentation level\n"
     ]
    }
   ],
   "source": [
    "def getageFilter(year,state):\n",
    "        age_pipeline = [\n",
    "        {\n",
    "            \"$match\": {\n",
    "                '$and': [\n",
    "                    #{\"PER_TYP\": 1},  # Filter for PER_TYP = 1\n",
    "                    #{'AGE': {'$gte': 15, '$lte': 100}},  # Filter for age between 15 and 100\n",
    "                    {\"STATENAME\": {'$in': state}},\n",
    "                    {\"YEAR\": {'$in': year}},\n",
    "                    {\"INJ_SEV\":4}\n",
    "                ]\n",
    "            }\n",
    "        },\n",
    "        {\n",
    "            \"$group\": {\n",
    "                \"_id\": \"$AGE\",  # Group by age\n",
    "                \"COUNT\": {\"$sum\": 1}  # Count occurrences\n",
    "            }\n",
    "        },\n",
    "        {\n",
    "            \"$sort\": {\n",
    "                \"_id\": 1  # Sort by age ascending\n",
    "            }\n",
    "        }\n",
    "    ]\n",
    "    # Execute the aggregation\n",
    "    df_age_plot = pd.DataFrame(list(person.aggregate(age_pipeline))).rename(columns={'_id': 'AGE'})\n",
    "    df_age_plot['AGE_GROUP'] = df_age_plot['AGE'].apply(categorize_age)\n",
    "    \n",
    "    df_age_agg_plot = df_age_plot.groupby('AGE_GROUP', as_index=False)['COUNT'].sum()\n",
    "    \n",
    "    #df_age_agg_plot.head(20)\n",
    "    # Convert df_age_agg_plot DataFrame to a list of dictionaries\n",
    "    age_agg_list = df_age_agg_plot.to_dict(orient='records')\n",
    "    \n",
    "    # Display the list of dictionaries\n",
    "    print(age_agg_list)"
   ]
  },
  {
   "cell_type": "code",
   "execution_count": null,
   "id": "f55d4f36-1f99-42e5-83be-52cc16341c31",
   "metadata": {},
   "outputs": [],
   "source": []
  }
 ],
 "metadata": {
  "kernelspec": {
   "display_name": "Python 3 (ipykernel)",
   "language": "python",
   "name": "python3"
  },
  "language_info": {
   "codemirror_mode": {
    "name": "ipython",
    "version": 3
   },
   "file_extension": ".py",
   "mimetype": "text/x-python",
   "name": "python",
   "nbconvert_exporter": "python",
   "pygments_lexer": "ipython3",
   "version": "3.10.14"
  }
 },
 "nbformat": 4,
 "nbformat_minor": 5
}
