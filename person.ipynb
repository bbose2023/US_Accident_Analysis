{
 "cells": [
  {
   "cell_type": "code",
   "execution_count": 1,
   "id": "2a3eb9c7-e42c-4eb4-8f6c-6a9003402fc6",
   "metadata": {},
   "outputs": [],
   "source": [
    "import sys\n",
    "import subprocess\n",
    "from pathlib import Path\n",
    "\n",
    "# Import Dependencies\n",
    "import psycopg2\n",
    "from pymongo import MongoClient\n",
    "from pprint import pprint\n",
    "from utils import createCSV,createCSVUsingDask,mergeCSV"
   ]
  },
  {
   "cell_type": "code",
   "execution_count": 2,
   "id": "915d85b5-fb87-4f5d-a860-467bef197b8b",
   "metadata": {},
   "outputs": [],
   "source": [
    "import pandas as pd\n",
    "from pathlib import Path\n",
    "import matplotlib.pyplot as plt\n",
    "import numpy as np\n",
    "import chardet as chardet\n",
    "import dask as dask\n",
    "import dask.dataframe as dd"
   ]
  },
  {
   "cell_type": "code",
   "execution_count": 3,
   "id": "46329c74-0a73-4ab3-b241-1797dc1c1df8",
   "metadata": {},
   "outputs": [
    {
     "name": "stdout",
     "output_type": "stream",
     "text": [
      "Resources\\accident_data\\2019/person.csv does not exist.\n",
      "Resources\\accident_data\\2020/person.csv does not exist.\n",
      "Resources\\accident_data\\2021/person.csv does not exist.\n",
      "Resources\\accident_data\\2022/person.csv does not exist.\n"
     ]
    }
   ],
   "source": [
    "base_path = Path(\"Resources/accident_data/2019\")\n",
    "createCSV(f\"{base_path}/person.csv\",\"Resources/person_labels.csv\",\"us_person\",\"w\")\n",
    "base_path = Path(\"Resources/accident_data/2020\")\n",
    "createCSV(f\"{base_path}/person.csv\",\"Resources/person_labels.csv\",\"us_person\",\"a\")\n",
    "base_path = Path(\"Resources/accident_data/2021\")\n",
    "createCSV(f\"{base_path}/person.csv\",\"Resources/person_labels.csv\",\"us_person\",\"a\")\n",
    "base_path = Path(\"Resources/accident_data/2022\")\n",
    "createCSV(f\"{base_path}/person.csv\",\"Resources/person_labels.csv\",\"us_person\",\"a\")"
   ]
  },
  {
   "cell_type": "code",
   "execution_count": 4,
   "id": "a799cfd7-a66a-40d1-a0a6-f6250aa7b595",
   "metadata": {},
   "outputs": [
    {
     "name": "stdout",
     "output_type": "stream",
     "text": [
      "Resources\\accident_data\\2019/vehicle.csv does not exist.\n",
      "Resources\\accident_data\\2020/vehicle.csv does not exist.\n",
      "Resources\\accident_data\\2021/vehicle.csv does not exist.\n",
      "Resources\\accident_data\\2022/vehicle.csv does not exist.\n"
     ]
    }
   ],
   "source": [
    "base_path = Path(\"Resources/accident_data/2019\")\n",
    "createCSV(f\"{base_path}/vehicle.csv\",\"Resources/vehicle_labels.csv\",\"us_vehicle\",\"w\")\n",
    "base_path = Path(\"Resources/accident_data/2020\")\n",
    "createCSV(f\"{base_path}/vehicle.csv\",\"Resources/vehicle_labels.csv\",\"us_vehicle\",\"a\")\n",
    "base_path = Path(\"Resources/accident_data/2021\")\n",
    "createCSV(f\"{base_path}/vehicle.csv\",\"Resources/vehicle_labels.csv\",\"us_vehicle\",\"a\")\n",
    "base_path = Path(\"Resources/accident_data/2022\")\n",
    "createCSV(f\"{base_path}/vehicle.csv\",\"Resources/vehicle_labels.csv\",\"us_vehicle\",\"a\")"
   ]
  },
  {
   "cell_type": "code",
   "execution_count": 5,
   "id": "ec37ec09-03bf-43bd-a057-8efa38877fe9",
   "metadata": {},
   "outputs": [
    {
     "name": "stdout",
     "output_type": "stream",
     "text": [
      "Starting to read the File\n",
      "Starting to read the File\n",
      "Starting to read the File\n",
      "Starting to read the File\n"
     ]
    }
   ],
   "source": [
    "base_path = Path(\"Resources/accident_data/2019\")\n",
    "mergeCSV(f\"{base_path}/drugs.csv\",\"us_drug\",\"w\")\n",
    "base_path = Path(\"Resources/accident_data/2020\")\n",
    "mergeCSV(f\"{base_path}/drugs.csv\",\"us_drug\",\"a\")\n",
    "base_path = Path(\"Resources/accident_data/2021\")\n",
    "mergeCSV(f\"{base_path}/drugs.csv\",\"us_drug\",\"a\")\n",
    "base_path = Path(\"Resources/accident_data/2022\")\n",
    "mergeCSV(f\"{base_path}/drugs.csv\",\"us_drug\",\"a\")"
   ]
  },
  {
   "cell_type": "code",
   "execution_count": 6,
   "id": "21821d3a-2743-428d-8ccd-8663bbbdfea2",
   "metadata": {},
   "outputs": [
    {
     "name": "stdout",
     "output_type": "stream",
     "text": [
      "Starting to read the File\n",
      "Starting to read the File\n",
      "Starting to read the File\n",
      "Starting to read the File\n"
     ]
    }
   ],
   "source": [
    "base_path = Path(\"Resources/accident_data/2019\")\n",
    "mergeCSV(f\"{base_path}/Race.csv\",\"us_race\",\"w\")\n",
    "base_path = Path(\"Resources/accident_data/2020\")\n",
    "mergeCSV(f\"{base_path}/race.csv\",\"us_race\",\"a\")\n",
    "base_path = Path(\"Resources/accident_data/2021\")\n",
    "mergeCSV(f\"{base_path}/race.csv\",\"us_race\",\"a\")\n",
    "base_path = Path(\"Resources/accident_data/2022\")\n",
    "mergeCSV(f\"{base_path}/race.csv\",\"us_race\",\"a\")"
   ]
  },
  {
   "cell_type": "code",
   "execution_count": 7,
   "id": "c1ad47a1-3506-46e5-95f1-217d5b1570dc",
   "metadata": {},
   "outputs": [
    {
     "name": "stdout",
     "output_type": "stream",
     "text": [
      "Starting to read the File\n",
      "Starting to read the File\n",
      "Starting to read the File\n",
      "Starting to read the File\n"
     ]
    }
   ],
   "source": [
    "base_path = Path(\"Resources/accident_data/2019\")\n",
    "mergeCSV(f\"{base_path}/weather.csv\",\"us_weather\",\"w\")\n",
    "base_path = Path(\"Resources/accident_data/2020\")\n",
    "mergeCSV(f\"{base_path}/weather.csv\",\"us_weather\",\"a\")\n",
    "base_path = Path(\"Resources/accident_data/2021\")\n",
    "mergeCSV(f\"{base_path}/weather.csv\",\"us_weather\",\"a\")\n",
    "base_path = Path(\"Resources/accident_data/2022\")\n",
    "mergeCSV(f\"{base_path}/weather.csv\",\"us_weather\",\"a\")"
   ]
  },
  {
   "cell_type": "code",
   "execution_count": 8,
   "id": "ff23ab85-beca-4b1d-a8a6-ab2de9bbd7a7",
   "metadata": {},
   "outputs": [
    {
     "name": "stdout",
     "output_type": "stream",
     "text": [
      "Starting to read the File\n",
      "Starting to read the File\n",
      "Starting to read the File\n",
      "Starting to read the File\n"
     ]
    }
   ],
   "source": [
    "base_path = Path(\"Resources/accident_data/2019\")\n",
    "mergeCSV(f\"{base_path}/Vision.csv\",\"us_Vision\",\"w\")\n",
    "base_path = Path(\"Resources/accident_data/2020\")\n",
    "mergeCSV(f\"{base_path}/Vision.csv\",\"us_Vision\",\"a\")\n",
    "base_path = Path(\"Resources/accident_data/2021\")\n",
    "mergeCSV(f\"{base_path}/Vision.csv\",\"us_Vision\",\"a\")\n",
    "base_path = Path(\"Resources/accident_data/2022\")\n",
    "mergeCSV(f\"{base_path}/Vision.csv\",\"us_Vision\",\"a\")"
   ]
  },
  {
   "cell_type": "code",
   "execution_count": 9,
   "id": "702cb6a4-4662-47d9-92f0-af37ca43e448",
   "metadata": {},
   "outputs": [
    {
     "name": "stdout",
     "output_type": "stream",
     "text": [
      "here\n"
     ]
    }
   ],
   "source": [
    "import import_ipynb as ipynb\n",
    "def loadUSAccidentDataToMongoDB():\n",
    "    object_names = ['us_person','us_vehicle','us_Vision', 'us_weather', 'us_race','us_drug', 'us_accident']\n",
    "    # Pass the collection names\n",
    "    from mongodb_load_databases import createMongoDB, validateMongoDB\n",
    "    db_name = 'us_accidents_db'\n",
    "    createMongoDB(db_name, object_names)\n",
    "    validateMongoDB(db_name)"
   ]
  },
  {
   "cell_type": "code",
   "execution_count": null,
   "id": "38350dc1-4587-49d6-97f1-4ffbf1fbda89",
   "metadata": {},
   "outputs": [
    {
     "name": "stdout",
     "output_type": "stream",
     "text": [
      "importing Jupyter notebook from mongodb_load_databases.ipynb\n",
      "Imported Resources/us_person.csv into collection us_person.\n",
      "Imported Resources/us_vehicle.csv into collection us_vehicle.\n",
      "Imported Resources/us_Vision.csv into collection us_Vision.\n",
      "Imported Resources/us_weather.csv into collection us_weather.\n",
      "Imported Resources/us_race.csv into collection us_race.\n"
     ]
    }
   ],
   "source": [
    " loadUSAccidentDataToMongoDB()"
   ]
  },
  {
   "cell_type": "code",
   "execution_count": null,
   "id": "b2545b7d",
   "metadata": {},
   "outputs": [],
   "source": []
  },
  {
   "cell_type": "code",
   "execution_count": null,
   "id": "f435fd71-8245-4bc5-983a-363328b0499a",
   "metadata": {},
   "outputs": [],
   "source": []
  }
 ],
 "metadata": {
  "kernelspec": {
   "display_name": "Python 3 (ipykernel)",
   "language": "python",
   "name": "python3"
  },
  "language_info": {
   "codemirror_mode": {
    "name": "ipython",
    "version": 3
   },
   "file_extension": ".py",
   "mimetype": "text/x-python",
   "name": "python",
   "nbconvert_exporter": "python",
   "pygments_lexer": "ipython3",
   "version": "3.10.14"
  }
 },
 "nbformat": 4,
 "nbformat_minor": 5
}
